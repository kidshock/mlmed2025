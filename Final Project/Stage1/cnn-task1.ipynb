{
 "cells": [
  {
   "cell_type": "code",
   "execution_count": 1,
   "id": "d614c495",
   "metadata": {
    "_cell_guid": "b1076dfc-b9ad-4769-8c92-a6c4dae69d19",
    "_uuid": "8f2839f25d086af736a60e9eeb907d3b93b6e0e5",
    "execution": {
     "iopub.execute_input": "2025-03-30T10:53:35.251384Z",
     "iopub.status.busy": "2025-03-30T10:53:35.251145Z",
     "iopub.status.idle": "2025-03-30T10:53:48.457239Z",
     "shell.execute_reply": "2025-03-30T10:53:48.456522Z"
    },
    "papermill": {
     "duration": 13.212441,
     "end_time": "2025-03-30T10:53:48.458867",
     "exception": false,
     "start_time": "2025-03-30T10:53:35.246426",
     "status": "completed"
    },
    "tags": []
   },
   "outputs": [],
   "source": [
    "import os\n",
    "import glob\n",
    "import numpy as np\n",
    "import pandas as pd\n",
    "import matplotlib.pyplot as plt\n",
    "import seaborn as sns\n",
    "import tensorflow as tf\n",
    "from tensorflow.keras import layers, models\n",
    "from tensorflow.keras.callbacks import ReduceLROnPlateau, EarlyStopping\n",
    "from sklearn.utils import class_weight\n",
    "from sklearn.model_selection import train_test_split\n",
    "from sklearn.metrics import (\n",
    "    precision_recall_curve,\n",
    "    auc,\n",
    "    f1_score,\n",
    "    classification_report,\n",
    "    confusion_matrix)"
   ]
  },
  {
   "cell_type": "code",
   "execution_count": 2,
   "id": "1f566f9d",
   "metadata": {
    "execution": {
     "iopub.execute_input": "2025-03-30T10:53:48.467486Z",
     "iopub.status.busy": "2025-03-30T10:53:48.466979Z",
     "iopub.status.idle": "2025-03-30T10:53:49.134222Z",
     "shell.execute_reply": "2025-03-30T10:53:49.133207Z"
    },
    "papermill": {
     "duration": 0.67284,
     "end_time": "2025-03-30T10:53:49.135746",
     "exception": false,
     "start_time": "2025-03-30T10:53:48.462906",
     "status": "completed"
    },
    "tags": []
   },
   "outputs": [],
   "source": [
    "gpus = tf.config.list_physical_devices('GPU')\n",
    "if gpus:\n",
    "    try:\n",
    "        for gpu in gpus:\n",
    "            tf.config.experimental.set_memory_growth(gpu, True)\n",
    "    except RuntimeError as e:\n",
    "        pass "
   ]
  },
  {
   "cell_type": "code",
   "execution_count": 3,
   "id": "05a77866",
   "metadata": {
    "execution": {
     "iopub.execute_input": "2025-03-30T10:53:49.148748Z",
     "iopub.status.busy": "2025-03-30T10:53:49.148463Z",
     "iopub.status.idle": "2025-03-30T10:53:49.229780Z",
     "shell.execute_reply": "2025-03-30T10:53:49.228873Z"
    },
    "papermill": {
     "duration": 0.086488,
     "end_time": "2025-03-30T10:53:49.230989",
     "exception": false,
     "start_time": "2025-03-30T10:53:49.144501",
     "status": "completed"
    },
    "tags": []
   },
   "outputs": [
    {
     "name": "stdout",
     "output_type": "stream",
     "text": [
      "Count images: 6774\n",
      "Count labels: 6774\n"
     ]
    }
   ],
   "source": [
    "data_dir = '/kaggle/input/inme-veri-seti-stroke-dataset/İNME VERİ SETİ'\n",
    "hermorrhage_png = glob.glob(os.path.join(data_dir, 'Kanama/PNG/*.png'))\n",
    "ischemia_png = glob.glob(os.path.join(data_dir, 'İskemi/PNG/*.png'))\n",
    "no_stroke_png = glob.glob(os.path.join(data_dir, 'İnme Yok/*.png'))\n",
    "\n",
    "images = []\n",
    "labels = []\n",
    "\n",
    "for img_path in hermorrhage_png:\n",
    "    images.append(img_path)\n",
    "    labels.append(1)\n",
    "\n",
    "for img_path in ischemia_png:\n",
    "    images.append(img_path)\n",
    "    labels.append(1)\n",
    "\n",
    "for img_path in no_stroke_png:\n",
    "    images.append(img_path)\n",
    "    labels.append(0)\n",
    "\n",
    "print(f\"Count images: {len(images)}\")\n",
    "print(f\"Count labels: {len(labels)}\")"
   ]
  },
  {
   "cell_type": "code",
   "execution_count": 4,
   "id": "a84c0864",
   "metadata": {
    "execution": {
     "iopub.execute_input": "2025-03-30T10:53:49.238157Z",
     "iopub.status.busy": "2025-03-30T10:53:49.237924Z",
     "iopub.status.idle": "2025-03-30T10:53:49.241329Z",
     "shell.execute_reply": "2025-03-30T10:53:49.240537Z"
    },
    "papermill": {
     "duration": 0.008181,
     "end_time": "2025-03-30T10:53:49.242456",
     "exception": false,
     "start_time": "2025-03-30T10:53:49.234275",
     "status": "completed"
    },
    "tags": []
   },
   "outputs": [],
   "source": [
    "IMG_SIZE = (224, 224)\n",
    "BATCH_SIZE = 32\n",
    "NUM_CLASSES = 1\n",
    "EPOCHS = 100"
   ]
  },
  {
   "cell_type": "code",
   "execution_count": 5,
   "id": "8879732e",
   "metadata": {
    "execution": {
     "iopub.execute_input": "2025-03-30T10:53:49.249409Z",
     "iopub.status.busy": "2025-03-30T10:53:49.249208Z",
     "iopub.status.idle": "2025-03-30T10:53:49.269452Z",
     "shell.execute_reply": "2025-03-30T10:53:49.268829Z"
    },
    "papermill": {
     "duration": 0.024954,
     "end_time": "2025-03-30T10:53:49.270669",
     "exception": false,
     "start_time": "2025-03-30T10:53:49.245715",
     "status": "completed"
    },
    "tags": []
   },
   "outputs": [],
   "source": [
    "data_df = pd.DataFrame({\n",
    "    'filename': images,\n",
    "    'class': labels\n",
    "})\n",
    "\n",
    "train_df, val_df = train_test_split(\n",
    "    data_df,\n",
    "    test_size=0.15,\n",
    "    stratify=data_df['class'],\n",
    "    random_state=42\n",
    ")"
   ]
  },
  {
   "cell_type": "code",
   "execution_count": 6,
   "id": "47479c96",
   "metadata": {
    "execution": {
     "iopub.execute_input": "2025-03-30T10:53:49.277506Z",
     "iopub.status.busy": "2025-03-30T10:53:49.277304Z",
     "iopub.status.idle": "2025-03-30T10:53:49.283880Z",
     "shell.execute_reply": "2025-03-30T10:53:49.283297Z"
    },
    "papermill": {
     "duration": 0.011205,
     "end_time": "2025-03-30T10:53:49.284995",
     "exception": false,
     "start_time": "2025-03-30T10:53:49.273790",
     "status": "completed"
    },
    "tags": []
   },
   "outputs": [],
   "source": [
    "def parse_image(filename):\n",
    "    image = tf.io.read_file(filename)\n",
    "    image = tf.image.decode_png(image, channels=3)\n",
    "    image = tf.image.resize(image, [IMG_SIZE[0], IMG_SIZE[1]])\n",
    "    image = tf.cast(image, tf.float32)\n",
    "    image = tf.keras.applications.efficientnet_v2.preprocess_input(image)\n",
    "    return image\n",
    "\n",
    "def configure_for_performance(ds, batch_size):\n",
    "    ds = ds.cache()\n",
    "    ds = ds.shuffle(buffer_size=1000)\n",
    "    ds = ds.batch(batch_size)\n",
    "    ds = ds.prefetch(buffer_size=tf.data.AUTOTUNE)\n",
    "    return ds\n",
    "\n",
    "def create_dataset_train(df, batch_size):\n",
    "    list_ds = tf.data.Dataset.from_tensor_slices((df['filename'].values, df['class'].values))\n",
    "    ds = list_ds.map(lambda filename, label: (parse_image(filename), tf.cast(label, tf.float32)),\n",
    "                     num_parallel_calls=tf.data.AUTOTUNE)\n",
    "    ds = configure_for_performance(ds, batch_size)\n",
    "    return ds\n",
    "\n",
    "def create_dataset_val_test(df, batch_size):\n",
    "    list_ds = tf.data.Dataset.from_tensor_slices((df['filename'].values, df['class'].values))\n",
    "    ds = list_ds.map(lambda filename, label: (parse_image(filename), tf.cast(label, tf.float32)),\n",
    "                     num_parallel_calls=tf.data.AUTOTUNE)\n",
    "    ds = ds.cache()\n",
    "    ds = ds.batch(batch_size)\n",
    "    ds = ds.prefetch(buffer_size=tf.data.AUTOTUNE)\n",
    "    return ds"
   ]
  },
  {
   "cell_type": "code",
   "execution_count": 7,
   "id": "69a1e23d",
   "metadata": {
    "execution": {
     "iopub.execute_input": "2025-03-30T10:53:49.292313Z",
     "iopub.status.busy": "2025-03-30T10:53:49.292115Z",
     "iopub.status.idle": "2025-03-30T10:53:49.298696Z",
     "shell.execute_reply": "2025-03-30T10:53:49.297795Z"
    },
    "papermill": {
     "duration": 0.011625,
     "end_time": "2025-03-30T10:53:49.299976",
     "exception": false,
     "start_time": "2025-03-30T10:53:49.288351",
     "status": "completed"
    },
    "tags": []
   },
   "outputs": [],
   "source": [
    "class_weights_calc = class_weight.compute_class_weight(\n",
    "    'balanced',\n",
    "    classes=np.unique(labels),\n",
    "    y=labels\n",
    ")\n",
    "class_weight_dict = dict(enumerate(class_weights_calc))"
   ]
  },
  {
   "cell_type": "code",
   "execution_count": 8,
   "id": "ad93f06c",
   "metadata": {
    "execution": {
     "iopub.execute_input": "2025-03-30T10:53:49.306987Z",
     "iopub.status.busy": "2025-03-30T10:53:49.306763Z",
     "iopub.status.idle": "2025-03-30T10:53:49.708370Z",
     "shell.execute_reply": "2025-03-30T10:53:49.707390Z"
    },
    "papermill": {
     "duration": 0.406853,
     "end_time": "2025-03-30T10:53:49.710057",
     "exception": false,
     "start_time": "2025-03-30T10:53:49.303204",
     "status": "completed"
    },
    "tags": []
   },
   "outputs": [],
   "source": [
    "train_ds = create_dataset_train(train_df, BATCH_SIZE)\n",
    "val_ds = create_dataset_val_test(val_df, BATCH_SIZE)"
   ]
  },
  {
   "cell_type": "code",
   "execution_count": 9,
   "id": "4ce32292",
   "metadata": {
    "execution": {
     "iopub.execute_input": "2025-03-30T10:53:49.717873Z",
     "iopub.status.busy": "2025-03-30T10:53:49.717565Z",
     "iopub.status.idle": "2025-03-30T10:53:51.211263Z",
     "shell.execute_reply": "2025-03-30T10:53:51.210629Z"
    },
    "papermill": {
     "duration": 1.498713,
     "end_time": "2025-03-30T10:53:51.212506",
     "exception": false,
     "start_time": "2025-03-30T10:53:49.713793",
     "status": "completed"
    },
    "tags": []
   },
   "outputs": [
    {
     "name": "stderr",
     "output_type": "stream",
     "text": [
      "/usr/local/lib/python3.10/dist-packages/keras/src/layers/convolutional/base_conv.py:107: UserWarning: Do not pass an `input_shape`/`input_dim` argument to a layer. When using Sequential models, prefer using an `Input(shape)` object as the first layer in the model instead.\n",
      "  super().__init__(activity_regularizer=activity_regularizer, **kwargs)\n"
     ]
    },
    {
     "data": {
      "text/html": [
       "<pre style=\"white-space:pre;overflow-x:auto;line-height:normal;font-family:Menlo,'DejaVu Sans Mono',consolas,'Courier New',monospace\"><span style=\"font-weight: bold\">Model: \"Custom_CNN_StrokeClassifier\"</span>\n",
       "</pre>\n"
      ],
      "text/plain": [
       "\u001b[1mModel: \"Custom_CNN_StrokeClassifier\"\u001b[0m\n"
      ]
     },
     "metadata": {},
     "output_type": "display_data"
    },
    {
     "data": {
      "text/html": [
       "<pre style=\"white-space:pre;overflow-x:auto;line-height:normal;font-family:Menlo,'DejaVu Sans Mono',consolas,'Courier New',monospace\">┏━━━━━━━━━━━━━━━━━━━━━━━━━━━━━━━━━━━━━━┳━━━━━━━━━━━━━━━━━━━━━━━━━━━━━┳━━━━━━━━━━━━━━━━━┓\n",
       "┃<span style=\"font-weight: bold\"> Layer (type)                         </span>┃<span style=\"font-weight: bold\"> Output Shape                </span>┃<span style=\"font-weight: bold\">         Param # </span>┃\n",
       "┡━━━━━━━━━━━━━━━━━━━━━━━━━━━━━━━━━━━━━━╇━━━━━━━━━━━━━━━━━━━━━━━━━━━━━╇━━━━━━━━━━━━━━━━━┩\n",
       "│ conv2d (<span style=\"color: #0087ff; text-decoration-color: #0087ff\">Conv2D</span>)                      │ (<span style=\"color: #00d7ff; text-decoration-color: #00d7ff\">None</span>, <span style=\"color: #00af00; text-decoration-color: #00af00\">224</span>, <span style=\"color: #00af00; text-decoration-color: #00af00\">224</span>, <span style=\"color: #00af00; text-decoration-color: #00af00\">32</span>)        │             <span style=\"color: #00af00; text-decoration-color: #00af00\">896</span> │\n",
       "├──────────────────────────────────────┼─────────────────────────────┼─────────────────┤\n",
       "│ batch_normalization                  │ (<span style=\"color: #00d7ff; text-decoration-color: #00d7ff\">None</span>, <span style=\"color: #00af00; text-decoration-color: #00af00\">224</span>, <span style=\"color: #00af00; text-decoration-color: #00af00\">224</span>, <span style=\"color: #00af00; text-decoration-color: #00af00\">32</span>)        │             <span style=\"color: #00af00; text-decoration-color: #00af00\">128</span> │\n",
       "│ (<span style=\"color: #0087ff; text-decoration-color: #0087ff\">BatchNormalization</span>)                 │                             │                 │\n",
       "├──────────────────────────────────────┼─────────────────────────────┼─────────────────┤\n",
       "│ activation (<span style=\"color: #0087ff; text-decoration-color: #0087ff\">Activation</span>)              │ (<span style=\"color: #00d7ff; text-decoration-color: #00d7ff\">None</span>, <span style=\"color: #00af00; text-decoration-color: #00af00\">224</span>, <span style=\"color: #00af00; text-decoration-color: #00af00\">224</span>, <span style=\"color: #00af00; text-decoration-color: #00af00\">32</span>)        │               <span style=\"color: #00af00; text-decoration-color: #00af00\">0</span> │\n",
       "├──────────────────────────────────────┼─────────────────────────────┼─────────────────┤\n",
       "│ max_pooling2d (<span style=\"color: #0087ff; text-decoration-color: #0087ff\">MaxPooling2D</span>)         │ (<span style=\"color: #00d7ff; text-decoration-color: #00d7ff\">None</span>, <span style=\"color: #00af00; text-decoration-color: #00af00\">112</span>, <span style=\"color: #00af00; text-decoration-color: #00af00\">112</span>, <span style=\"color: #00af00; text-decoration-color: #00af00\">32</span>)        │               <span style=\"color: #00af00; text-decoration-color: #00af00\">0</span> │\n",
       "├──────────────────────────────────────┼─────────────────────────────┼─────────────────┤\n",
       "│ conv2d_1 (<span style=\"color: #0087ff; text-decoration-color: #0087ff\">Conv2D</span>)                    │ (<span style=\"color: #00d7ff; text-decoration-color: #00d7ff\">None</span>, <span style=\"color: #00af00; text-decoration-color: #00af00\">112</span>, <span style=\"color: #00af00; text-decoration-color: #00af00\">112</span>, <span style=\"color: #00af00; text-decoration-color: #00af00\">64</span>)        │          <span style=\"color: #00af00; text-decoration-color: #00af00\">18,496</span> │\n",
       "├──────────────────────────────────────┼─────────────────────────────┼─────────────────┤\n",
       "│ batch_normalization_1                │ (<span style=\"color: #00d7ff; text-decoration-color: #00d7ff\">None</span>, <span style=\"color: #00af00; text-decoration-color: #00af00\">112</span>, <span style=\"color: #00af00; text-decoration-color: #00af00\">112</span>, <span style=\"color: #00af00; text-decoration-color: #00af00\">64</span>)        │             <span style=\"color: #00af00; text-decoration-color: #00af00\">256</span> │\n",
       "│ (<span style=\"color: #0087ff; text-decoration-color: #0087ff\">BatchNormalization</span>)                 │                             │                 │\n",
       "├──────────────────────────────────────┼─────────────────────────────┼─────────────────┤\n",
       "│ activation_1 (<span style=\"color: #0087ff; text-decoration-color: #0087ff\">Activation</span>)            │ (<span style=\"color: #00d7ff; text-decoration-color: #00d7ff\">None</span>, <span style=\"color: #00af00; text-decoration-color: #00af00\">112</span>, <span style=\"color: #00af00; text-decoration-color: #00af00\">112</span>, <span style=\"color: #00af00; text-decoration-color: #00af00\">64</span>)        │               <span style=\"color: #00af00; text-decoration-color: #00af00\">0</span> │\n",
       "├──────────────────────────────────────┼─────────────────────────────┼─────────────────┤\n",
       "│ max_pooling2d_1 (<span style=\"color: #0087ff; text-decoration-color: #0087ff\">MaxPooling2D</span>)       │ (<span style=\"color: #00d7ff; text-decoration-color: #00d7ff\">None</span>, <span style=\"color: #00af00; text-decoration-color: #00af00\">56</span>, <span style=\"color: #00af00; text-decoration-color: #00af00\">56</span>, <span style=\"color: #00af00; text-decoration-color: #00af00\">64</span>)          │               <span style=\"color: #00af00; text-decoration-color: #00af00\">0</span> │\n",
       "├──────────────────────────────────────┼─────────────────────────────┼─────────────────┤\n",
       "│ conv2d_2 (<span style=\"color: #0087ff; text-decoration-color: #0087ff\">Conv2D</span>)                    │ (<span style=\"color: #00d7ff; text-decoration-color: #00d7ff\">None</span>, <span style=\"color: #00af00; text-decoration-color: #00af00\">56</span>, <span style=\"color: #00af00; text-decoration-color: #00af00\">56</span>, <span style=\"color: #00af00; text-decoration-color: #00af00\">128</span>)         │          <span style=\"color: #00af00; text-decoration-color: #00af00\">73,856</span> │\n",
       "├──────────────────────────────────────┼─────────────────────────────┼─────────────────┤\n",
       "│ batch_normalization_2                │ (<span style=\"color: #00d7ff; text-decoration-color: #00d7ff\">None</span>, <span style=\"color: #00af00; text-decoration-color: #00af00\">56</span>, <span style=\"color: #00af00; text-decoration-color: #00af00\">56</span>, <span style=\"color: #00af00; text-decoration-color: #00af00\">128</span>)         │             <span style=\"color: #00af00; text-decoration-color: #00af00\">512</span> │\n",
       "│ (<span style=\"color: #0087ff; text-decoration-color: #0087ff\">BatchNormalization</span>)                 │                             │                 │\n",
       "├──────────────────────────────────────┼─────────────────────────────┼─────────────────┤\n",
       "│ activation_2 (<span style=\"color: #0087ff; text-decoration-color: #0087ff\">Activation</span>)            │ (<span style=\"color: #00d7ff; text-decoration-color: #00d7ff\">None</span>, <span style=\"color: #00af00; text-decoration-color: #00af00\">56</span>, <span style=\"color: #00af00; text-decoration-color: #00af00\">56</span>, <span style=\"color: #00af00; text-decoration-color: #00af00\">128</span>)         │               <span style=\"color: #00af00; text-decoration-color: #00af00\">0</span> │\n",
       "├──────────────────────────────────────┼─────────────────────────────┼─────────────────┤\n",
       "│ max_pooling2d_2 (<span style=\"color: #0087ff; text-decoration-color: #0087ff\">MaxPooling2D</span>)       │ (<span style=\"color: #00d7ff; text-decoration-color: #00d7ff\">None</span>, <span style=\"color: #00af00; text-decoration-color: #00af00\">28</span>, <span style=\"color: #00af00; text-decoration-color: #00af00\">28</span>, <span style=\"color: #00af00; text-decoration-color: #00af00\">128</span>)         │               <span style=\"color: #00af00; text-decoration-color: #00af00\">0</span> │\n",
       "├──────────────────────────────────────┼─────────────────────────────┼─────────────────┤\n",
       "│ flatten (<span style=\"color: #0087ff; text-decoration-color: #0087ff\">Flatten</span>)                    │ (<span style=\"color: #00d7ff; text-decoration-color: #00d7ff\">None</span>, <span style=\"color: #00af00; text-decoration-color: #00af00\">100352</span>)              │               <span style=\"color: #00af00; text-decoration-color: #00af00\">0</span> │\n",
       "├──────────────────────────────────────┼─────────────────────────────┼─────────────────┤\n",
       "│ dropout (<span style=\"color: #0087ff; text-decoration-color: #0087ff\">Dropout</span>)                    │ (<span style=\"color: #00d7ff; text-decoration-color: #00d7ff\">None</span>, <span style=\"color: #00af00; text-decoration-color: #00af00\">100352</span>)              │               <span style=\"color: #00af00; text-decoration-color: #00af00\">0</span> │\n",
       "├──────────────────────────────────────┼─────────────────────────────┼─────────────────┤\n",
       "│ dense (<span style=\"color: #0087ff; text-decoration-color: #0087ff\">Dense</span>)                        │ (<span style=\"color: #00d7ff; text-decoration-color: #00d7ff\">None</span>, <span style=\"color: #00af00; text-decoration-color: #00af00\">128</span>)                 │      <span style=\"color: #00af00; text-decoration-color: #00af00\">12,845,184</span> │\n",
       "├──────────────────────────────────────┼─────────────────────────────┼─────────────────┤\n",
       "│ batch_normalization_3                │ (<span style=\"color: #00d7ff; text-decoration-color: #00d7ff\">None</span>, <span style=\"color: #00af00; text-decoration-color: #00af00\">128</span>)                 │             <span style=\"color: #00af00; text-decoration-color: #00af00\">512</span> │\n",
       "│ (<span style=\"color: #0087ff; text-decoration-color: #0087ff\">BatchNormalization</span>)                 │                             │                 │\n",
       "├──────────────────────────────────────┼─────────────────────────────┼─────────────────┤\n",
       "│ activation_3 (<span style=\"color: #0087ff; text-decoration-color: #0087ff\">Activation</span>)            │ (<span style=\"color: #00d7ff; text-decoration-color: #00d7ff\">None</span>, <span style=\"color: #00af00; text-decoration-color: #00af00\">128</span>)                 │               <span style=\"color: #00af00; text-decoration-color: #00af00\">0</span> │\n",
       "├──────────────────────────────────────┼─────────────────────────────┼─────────────────┤\n",
       "│ dropout_1 (<span style=\"color: #0087ff; text-decoration-color: #0087ff\">Dropout</span>)                  │ (<span style=\"color: #00d7ff; text-decoration-color: #00d7ff\">None</span>, <span style=\"color: #00af00; text-decoration-color: #00af00\">128</span>)                 │               <span style=\"color: #00af00; text-decoration-color: #00af00\">0</span> │\n",
       "├──────────────────────────────────────┼─────────────────────────────┼─────────────────┤\n",
       "│ dense_1 (<span style=\"color: #0087ff; text-decoration-color: #0087ff\">Dense</span>)                      │ (<span style=\"color: #00d7ff; text-decoration-color: #00d7ff\">None</span>, <span style=\"color: #00af00; text-decoration-color: #00af00\">1</span>)                   │             <span style=\"color: #00af00; text-decoration-color: #00af00\">129</span> │\n",
       "└──────────────────────────────────────┴─────────────────────────────┴─────────────────┘\n",
       "</pre>\n"
      ],
      "text/plain": [
       "┏━━━━━━━━━━━━━━━━━━━━━━━━━━━━━━━━━━━━━━┳━━━━━━━━━━━━━━━━━━━━━━━━━━━━━┳━━━━━━━━━━━━━━━━━┓\n",
       "┃\u001b[1m \u001b[0m\u001b[1mLayer (type)                        \u001b[0m\u001b[1m \u001b[0m┃\u001b[1m \u001b[0m\u001b[1mOutput Shape               \u001b[0m\u001b[1m \u001b[0m┃\u001b[1m \u001b[0m\u001b[1m        Param #\u001b[0m\u001b[1m \u001b[0m┃\n",
       "┡━━━━━━━━━━━━━━━━━━━━━━━━━━━━━━━━━━━━━━╇━━━━━━━━━━━━━━━━━━━━━━━━━━━━━╇━━━━━━━━━━━━━━━━━┩\n",
       "│ conv2d (\u001b[38;5;33mConv2D\u001b[0m)                      │ (\u001b[38;5;45mNone\u001b[0m, \u001b[38;5;34m224\u001b[0m, \u001b[38;5;34m224\u001b[0m, \u001b[38;5;34m32\u001b[0m)        │             \u001b[38;5;34m896\u001b[0m │\n",
       "├──────────────────────────────────────┼─────────────────────────────┼─────────────────┤\n",
       "│ batch_normalization                  │ (\u001b[38;5;45mNone\u001b[0m, \u001b[38;5;34m224\u001b[0m, \u001b[38;5;34m224\u001b[0m, \u001b[38;5;34m32\u001b[0m)        │             \u001b[38;5;34m128\u001b[0m │\n",
       "│ (\u001b[38;5;33mBatchNormalization\u001b[0m)                 │                             │                 │\n",
       "├──────────────────────────────────────┼─────────────────────────────┼─────────────────┤\n",
       "│ activation (\u001b[38;5;33mActivation\u001b[0m)              │ (\u001b[38;5;45mNone\u001b[0m, \u001b[38;5;34m224\u001b[0m, \u001b[38;5;34m224\u001b[0m, \u001b[38;5;34m32\u001b[0m)        │               \u001b[38;5;34m0\u001b[0m │\n",
       "├──────────────────────────────────────┼─────────────────────────────┼─────────────────┤\n",
       "│ max_pooling2d (\u001b[38;5;33mMaxPooling2D\u001b[0m)         │ (\u001b[38;5;45mNone\u001b[0m, \u001b[38;5;34m112\u001b[0m, \u001b[38;5;34m112\u001b[0m, \u001b[38;5;34m32\u001b[0m)        │               \u001b[38;5;34m0\u001b[0m │\n",
       "├──────────────────────────────────────┼─────────────────────────────┼─────────────────┤\n",
       "│ conv2d_1 (\u001b[38;5;33mConv2D\u001b[0m)                    │ (\u001b[38;5;45mNone\u001b[0m, \u001b[38;5;34m112\u001b[0m, \u001b[38;5;34m112\u001b[0m, \u001b[38;5;34m64\u001b[0m)        │          \u001b[38;5;34m18,496\u001b[0m │\n",
       "├──────────────────────────────────────┼─────────────────────────────┼─────────────────┤\n",
       "│ batch_normalization_1                │ (\u001b[38;5;45mNone\u001b[0m, \u001b[38;5;34m112\u001b[0m, \u001b[38;5;34m112\u001b[0m, \u001b[38;5;34m64\u001b[0m)        │             \u001b[38;5;34m256\u001b[0m │\n",
       "│ (\u001b[38;5;33mBatchNormalization\u001b[0m)                 │                             │                 │\n",
       "├──────────────────────────────────────┼─────────────────────────────┼─────────────────┤\n",
       "│ activation_1 (\u001b[38;5;33mActivation\u001b[0m)            │ (\u001b[38;5;45mNone\u001b[0m, \u001b[38;5;34m112\u001b[0m, \u001b[38;5;34m112\u001b[0m, \u001b[38;5;34m64\u001b[0m)        │               \u001b[38;5;34m0\u001b[0m │\n",
       "├──────────────────────────────────────┼─────────────────────────────┼─────────────────┤\n",
       "│ max_pooling2d_1 (\u001b[38;5;33mMaxPooling2D\u001b[0m)       │ (\u001b[38;5;45mNone\u001b[0m, \u001b[38;5;34m56\u001b[0m, \u001b[38;5;34m56\u001b[0m, \u001b[38;5;34m64\u001b[0m)          │               \u001b[38;5;34m0\u001b[0m │\n",
       "├──────────────────────────────────────┼─────────────────────────────┼─────────────────┤\n",
       "│ conv2d_2 (\u001b[38;5;33mConv2D\u001b[0m)                    │ (\u001b[38;5;45mNone\u001b[0m, \u001b[38;5;34m56\u001b[0m, \u001b[38;5;34m56\u001b[0m, \u001b[38;5;34m128\u001b[0m)         │          \u001b[38;5;34m73,856\u001b[0m │\n",
       "├──────────────────────────────────────┼─────────────────────────────┼─────────────────┤\n",
       "│ batch_normalization_2                │ (\u001b[38;5;45mNone\u001b[0m, \u001b[38;5;34m56\u001b[0m, \u001b[38;5;34m56\u001b[0m, \u001b[38;5;34m128\u001b[0m)         │             \u001b[38;5;34m512\u001b[0m │\n",
       "│ (\u001b[38;5;33mBatchNormalization\u001b[0m)                 │                             │                 │\n",
       "├──────────────────────────────────────┼─────────────────────────────┼─────────────────┤\n",
       "│ activation_2 (\u001b[38;5;33mActivation\u001b[0m)            │ (\u001b[38;5;45mNone\u001b[0m, \u001b[38;5;34m56\u001b[0m, \u001b[38;5;34m56\u001b[0m, \u001b[38;5;34m128\u001b[0m)         │               \u001b[38;5;34m0\u001b[0m │\n",
       "├──────────────────────────────────────┼─────────────────────────────┼─────────────────┤\n",
       "│ max_pooling2d_2 (\u001b[38;5;33mMaxPooling2D\u001b[0m)       │ (\u001b[38;5;45mNone\u001b[0m, \u001b[38;5;34m28\u001b[0m, \u001b[38;5;34m28\u001b[0m, \u001b[38;5;34m128\u001b[0m)         │               \u001b[38;5;34m0\u001b[0m │\n",
       "├──────────────────────────────────────┼─────────────────────────────┼─────────────────┤\n",
       "│ flatten (\u001b[38;5;33mFlatten\u001b[0m)                    │ (\u001b[38;5;45mNone\u001b[0m, \u001b[38;5;34m100352\u001b[0m)              │               \u001b[38;5;34m0\u001b[0m │\n",
       "├──────────────────────────────────────┼─────────────────────────────┼─────────────────┤\n",
       "│ dropout (\u001b[38;5;33mDropout\u001b[0m)                    │ (\u001b[38;5;45mNone\u001b[0m, \u001b[38;5;34m100352\u001b[0m)              │               \u001b[38;5;34m0\u001b[0m │\n",
       "├──────────────────────────────────────┼─────────────────────────────┼─────────────────┤\n",
       "│ dense (\u001b[38;5;33mDense\u001b[0m)                        │ (\u001b[38;5;45mNone\u001b[0m, \u001b[38;5;34m128\u001b[0m)                 │      \u001b[38;5;34m12,845,184\u001b[0m │\n",
       "├──────────────────────────────────────┼─────────────────────────────┼─────────────────┤\n",
       "│ batch_normalization_3                │ (\u001b[38;5;45mNone\u001b[0m, \u001b[38;5;34m128\u001b[0m)                 │             \u001b[38;5;34m512\u001b[0m │\n",
       "│ (\u001b[38;5;33mBatchNormalization\u001b[0m)                 │                             │                 │\n",
       "├──────────────────────────────────────┼─────────────────────────────┼─────────────────┤\n",
       "│ activation_3 (\u001b[38;5;33mActivation\u001b[0m)            │ (\u001b[38;5;45mNone\u001b[0m, \u001b[38;5;34m128\u001b[0m)                 │               \u001b[38;5;34m0\u001b[0m │\n",
       "├──────────────────────────────────────┼─────────────────────────────┼─────────────────┤\n",
       "│ dropout_1 (\u001b[38;5;33mDropout\u001b[0m)                  │ (\u001b[38;5;45mNone\u001b[0m, \u001b[38;5;34m128\u001b[0m)                 │               \u001b[38;5;34m0\u001b[0m │\n",
       "├──────────────────────────────────────┼─────────────────────────────┼─────────────────┤\n",
       "│ dense_1 (\u001b[38;5;33mDense\u001b[0m)                      │ (\u001b[38;5;45mNone\u001b[0m, \u001b[38;5;34m1\u001b[0m)                   │             \u001b[38;5;34m129\u001b[0m │\n",
       "└──────────────────────────────────────┴─────────────────────────────┴─────────────────┘\n"
      ]
     },
     "metadata": {},
     "output_type": "display_data"
    },
    {
     "data": {
      "text/html": [
       "<pre style=\"white-space:pre;overflow-x:auto;line-height:normal;font-family:Menlo,'DejaVu Sans Mono',consolas,'Courier New',monospace\"><span style=\"font-weight: bold\"> Total params: </span><span style=\"color: #00af00; text-decoration-color: #00af00\">12,939,969</span> (49.36 MB)\n",
       "</pre>\n"
      ],
      "text/plain": [
       "\u001b[1m Total params: \u001b[0m\u001b[38;5;34m12,939,969\u001b[0m (49.36 MB)\n"
      ]
     },
     "metadata": {},
     "output_type": "display_data"
    },
    {
     "data": {
      "text/html": [
       "<pre style=\"white-space:pre;overflow-x:auto;line-height:normal;font-family:Menlo,'DejaVu Sans Mono',consolas,'Courier New',monospace\"><span style=\"font-weight: bold\"> Trainable params: </span><span style=\"color: #00af00; text-decoration-color: #00af00\">12,939,265</span> (49.36 MB)\n",
       "</pre>\n"
      ],
      "text/plain": [
       "\u001b[1m Trainable params: \u001b[0m\u001b[38;5;34m12,939,265\u001b[0m (49.36 MB)\n"
      ]
     },
     "metadata": {},
     "output_type": "display_data"
    },
    {
     "data": {
      "text/html": [
       "<pre style=\"white-space:pre;overflow-x:auto;line-height:normal;font-family:Menlo,'DejaVu Sans Mono',consolas,'Courier New',monospace\"><span style=\"font-weight: bold\"> Non-trainable params: </span><span style=\"color: #00af00; text-decoration-color: #00af00\">704</span> (2.75 KB)\n",
       "</pre>\n"
      ],
      "text/plain": [
       "\u001b[1m Non-trainable params: \u001b[0m\u001b[38;5;34m704\u001b[0m (2.75 KB)\n"
      ]
     },
     "metadata": {},
     "output_type": "display_data"
    }
   ],
   "source": [
    "def build_custom_cnn(input_shape, num_classes):\n",
    "    model = models.Sequential(name=\"Custom_CNN_StrokeClassifier\")\n",
    "\n",
    "    model.add(layers.Conv2D(32, (3, 3), padding='same', input_shape=input_shape))\n",
    "    model.add(layers.BatchNormalization())\n",
    "    model.add(layers.Activation('relu')) \n",
    "    model.add(layers.MaxPooling2D(pool_size=(2, 2)))\n",
    "\n",
    "    model.add(layers.Conv2D(64, (3, 3), padding='same'))\n",
    "    model.add(layers.BatchNormalization())\n",
    "    model.add(layers.Activation('relu'))\n",
    "    model.add(layers.MaxPooling2D(pool_size=(2, 2)))\n",
    "\n",
    "    model.add(layers.Conv2D(128, (3, 3), padding='same'))\n",
    "    model.add(layers.BatchNormalization())\n",
    "    model.add(layers.Activation('relu'))\n",
    "    model.add(layers.MaxPooling2D(pool_size=(2, 2)))\n",
    "\n",
    "    model.add(layers.Flatten())\n",
    "    model.add(layers.Dropout(0.5)) \n",
    "    model.add(layers.Dense(128))  \n",
    "    model.add(layers.BatchNormalization()) \n",
    "    model.add(layers.Activation('relu'))\n",
    "    model.add(layers.Dropout(0.5)) \n",
    "    model.add(layers.Dense(num_classes, activation='sigmoid')) \n",
    "\n",
    "    return model\n",
    "\n",
    "model = build_custom_cnn(input_shape=(IMG_SIZE[0], IMG_SIZE[1], 3), num_classes=NUM_CLASSES)\n",
    "model.summary()"
   ]
  },
  {
   "cell_type": "code",
   "execution_count": 10,
   "id": "9f4fcae1",
   "metadata": {
    "execution": {
     "iopub.execute_input": "2025-03-30T10:53:51.221735Z",
     "iopub.status.busy": "2025-03-30T10:53:51.221456Z",
     "iopub.status.idle": "2025-03-30T10:53:51.231462Z",
     "shell.execute_reply": "2025-03-30T10:53:51.230894Z"
    },
    "papermill": {
     "duration": 0.015841,
     "end_time": "2025-03-30T10:53:51.232770",
     "exception": false,
     "start_time": "2025-03-30T10:53:51.216929",
     "status": "completed"
    },
    "tags": []
   },
   "outputs": [],
   "source": [
    "model.compile(\n",
    "    optimizer=tf.keras.optimizers.Adam(learning_rate=1e-4),\n",
    "    loss='binary_crossentropy',\n",
    "    metrics=['accuracy']\n",
    ")"
   ]
  },
  {
   "cell_type": "code",
   "execution_count": 11,
   "id": "3e59ab39",
   "metadata": {
    "execution": {
     "iopub.execute_input": "2025-03-30T10:53:51.241534Z",
     "iopub.status.busy": "2025-03-30T10:53:51.241304Z",
     "iopub.status.idle": "2025-03-30T10:53:51.245132Z",
     "shell.execute_reply": "2025-03-30T10:53:51.244336Z"
    },
    "papermill": {
     "duration": 0.009507,
     "end_time": "2025-03-30T10:53:51.246342",
     "exception": false,
     "start_time": "2025-03-30T10:53:51.236835",
     "status": "completed"
    },
    "tags": []
   },
   "outputs": [],
   "source": [
    "lr_scheduler = ReduceLROnPlateau(\n",
    "    monitor='val_loss',\n",
    "    factor=0.2,\n",
    "    patience=4,\n",
    "    verbose=1,\n",
    "    min_lr=1e-7\n",
    ")\n",
    "\n",
    "early_stopper = EarlyStopping(\n",
    "    monitor='val_loss',\n",
    "    patience=10,\n",
    "    verbose=1,\n",
    "    restore_best_weights=True,\n",
    "    min_delta=0.0001\n",
    ")\n",
    "\n",
    "callbacks_list = [lr_scheduler, early_stopper]"
   ]
  },
  {
   "cell_type": "code",
   "execution_count": 12,
   "id": "a9fa4b65",
   "metadata": {
    "execution": {
     "iopub.execute_input": "2025-03-30T10:53:51.255476Z",
     "iopub.status.busy": "2025-03-30T10:53:51.255247Z",
     "iopub.status.idle": "2025-03-30T11:05:50.406692Z",
     "shell.execute_reply": "2025-03-30T11:05:50.405931Z"
    },
    "papermill": {
     "duration": 719.157495,
     "end_time": "2025-03-30T11:05:50.408064",
     "exception": false,
     "start_time": "2025-03-30T10:53:51.250569",
     "status": "completed"
    },
    "tags": []
   },
   "outputs": [
    {
     "name": "stdout",
     "output_type": "stream",
     "text": [
      "Epoch 1/100\n",
      "\u001b[1m180/180\u001b[0m \u001b[32m━━━━━━━━━━━━━━━━━━━━\u001b[0m\u001b[37m\u001b[0m \u001b[1m41s\u001b[0m 149ms/step - accuracy: 0.6257 - loss: 0.7353 - val_accuracy: 0.8240 - val_loss: 0.3763 - learning_rate: 1.0000e-04\n",
      "Epoch 2/100\n",
      "\u001b[1m180/180\u001b[0m \u001b[32m━━━━━━━━━━━━━━━━━━━━\u001b[0m\u001b[37m\u001b[0m \u001b[1m10s\u001b[0m 57ms/step - accuracy: 0.7928 - loss: 0.3894 - val_accuracy: 0.8722 - val_loss: 0.2967 - learning_rate: 1.0000e-04\n",
      "Epoch 3/100\n",
      "\u001b[1m180/180\u001b[0m \u001b[32m━━━━━━━━━━━━━━━━━━━━\u001b[0m\u001b[37m\u001b[0m \u001b[1m10s\u001b[0m 57ms/step - accuracy: 0.8771 - loss: 0.2784 - val_accuracy: 0.9233 - val_loss: 0.2221 - learning_rate: 1.0000e-04\n",
      "Epoch 4/100\n",
      "\u001b[1m180/180\u001b[0m \u001b[32m━━━━━━━━━━━━━━━━━━━━\u001b[0m\u001b[37m\u001b[0m \u001b[1m10s\u001b[0m 57ms/step - accuracy: 0.9154 - loss: 0.2018 - val_accuracy: 0.9459 - val_loss: 0.1734 - learning_rate: 1.0000e-04\n",
      "Epoch 5/100\n",
      "\u001b[1m180/180\u001b[0m \u001b[32m━━━━━━━━━━━━━━━━━━━━\u001b[0m\u001b[37m\u001b[0m \u001b[1m10s\u001b[0m 57ms/step - accuracy: 0.9370 - loss: 0.1594 - val_accuracy: 0.7935 - val_loss: 0.4103 - learning_rate: 1.0000e-04\n",
      "Epoch 6/100\n",
      "\u001b[1m180/180\u001b[0m \u001b[32m━━━━━━━━━━━━━━━━━━━━\u001b[0m\u001b[37m\u001b[0m \u001b[1m10s\u001b[0m 58ms/step - accuracy: 0.9502 - loss: 0.1352 - val_accuracy: 0.9017 - val_loss: 0.2250 - learning_rate: 1.0000e-04\n",
      "Epoch 7/100\n",
      "\u001b[1m180/180\u001b[0m \u001b[32m━━━━━━━━━━━━━━━━━━━━\u001b[0m\u001b[37m\u001b[0m \u001b[1m11s\u001b[0m 59ms/step - accuracy: 0.9664 - loss: 0.1073 - val_accuracy: 0.9577 - val_loss: 0.1306 - learning_rate: 1.0000e-04\n",
      "Epoch 8/100\n",
      "\u001b[1m180/180\u001b[0m \u001b[32m━━━━━━━━━━━━━━━━━━━━\u001b[0m\u001b[37m\u001b[0m \u001b[1m11s\u001b[0m 60ms/step - accuracy: 0.9747 - loss: 0.0850 - val_accuracy: 0.9194 - val_loss: 0.1912 - learning_rate: 1.0000e-04\n",
      "Epoch 9/100\n",
      "\u001b[1m180/180\u001b[0m \u001b[32m━━━━━━━━━━━━━━━━━━━━\u001b[0m\u001b[37m\u001b[0m \u001b[1m11s\u001b[0m 61ms/step - accuracy: 0.9812 - loss: 0.0729 - val_accuracy: 0.9351 - val_loss: 0.1568 - learning_rate: 1.0000e-04\n",
      "Epoch 10/100\n",
      "\u001b[1m180/180\u001b[0m \u001b[32m━━━━━━━━━━━━━━━━━━━━\u001b[0m\u001b[37m\u001b[0m \u001b[1m11s\u001b[0m 60ms/step - accuracy: 0.9751 - loss: 0.0818 - val_accuracy: 0.9538 - val_loss: 0.1272 - learning_rate: 1.0000e-04\n",
      "Epoch 11/100\n",
      "\u001b[1m180/180\u001b[0m \u001b[32m━━━━━━━━━━━━━━━━━━━━\u001b[0m\u001b[37m\u001b[0m \u001b[1m11s\u001b[0m 59ms/step - accuracy: 0.9872 - loss: 0.0526 - val_accuracy: 0.9371 - val_loss: 0.1537 - learning_rate: 1.0000e-04\n",
      "Epoch 12/100\n",
      "\u001b[1m180/180\u001b[0m \u001b[32m━━━━━━━━━━━━━━━━━━━━\u001b[0m\u001b[37m\u001b[0m \u001b[1m11s\u001b[0m 59ms/step - accuracy: 0.9816 - loss: 0.0569 - val_accuracy: 0.9685 - val_loss: 0.1061 - learning_rate: 1.0000e-04\n",
      "Epoch 13/100\n",
      "\u001b[1m180/180\u001b[0m \u001b[32m━━━━━━━━━━━━━━━━━━━━\u001b[0m\u001b[37m\u001b[0m \u001b[1m11s\u001b[0m 58ms/step - accuracy: 0.9865 - loss: 0.0498 - val_accuracy: 0.9302 - val_loss: 0.1730 - learning_rate: 1.0000e-04\n",
      "Epoch 14/100\n",
      "\u001b[1m180/180\u001b[0m \u001b[32m━━━━━━━━━━━━━━━━━━━━\u001b[0m\u001b[37m\u001b[0m \u001b[1m11s\u001b[0m 59ms/step - accuracy: 0.9853 - loss: 0.0539 - val_accuracy: 0.9518 - val_loss: 0.1200 - learning_rate: 1.0000e-04\n",
      "Epoch 15/100\n",
      "\u001b[1m180/180\u001b[0m \u001b[32m━━━━━━━━━━━━━━━━━━━━\u001b[0m\u001b[37m\u001b[0m \u001b[1m11s\u001b[0m 59ms/step - accuracy: 0.9893 - loss: 0.0423 - val_accuracy: 0.9577 - val_loss: 0.1172 - learning_rate: 1.0000e-04\n",
      "Epoch 16/100\n",
      "\u001b[1m180/180\u001b[0m \u001b[32m━━━━━━━━━━━━━━━━━━━━\u001b[0m\u001b[37m\u001b[0m \u001b[1m11s\u001b[0m 59ms/step - accuracy: 0.9907 - loss: 0.0400 - val_accuracy: 0.9656 - val_loss: 0.0980 - learning_rate: 1.0000e-04\n",
      "Epoch 17/100\n",
      "\u001b[1m180/180\u001b[0m \u001b[32m━━━━━━━━━━━━━━━━━━━━\u001b[0m\u001b[37m\u001b[0m \u001b[1m11s\u001b[0m 59ms/step - accuracy: 0.9901 - loss: 0.0363 - val_accuracy: 0.9617 - val_loss: 0.1016 - learning_rate: 1.0000e-04\n",
      "Epoch 18/100\n",
      "\u001b[1m180/180\u001b[0m \u001b[32m━━━━━━━━━━━━━━━━━━━━\u001b[0m\u001b[37m\u001b[0m \u001b[1m11s\u001b[0m 59ms/step - accuracy: 0.9908 - loss: 0.0364 - val_accuracy: 0.9666 - val_loss: 0.0986 - learning_rate: 1.0000e-04\n",
      "Epoch 19/100\n",
      "\u001b[1m180/180\u001b[0m \u001b[32m━━━━━━━━━━━━━━━━━━━━\u001b[0m\u001b[37m\u001b[0m \u001b[1m11s\u001b[0m 59ms/step - accuracy: 0.9919 - loss: 0.0324 - val_accuracy: 0.9095 - val_loss: 0.2165 - learning_rate: 1.0000e-04\n",
      "Epoch 20/100\n",
      "\u001b[1m180/180\u001b[0m \u001b[32m━━━━━━━━━━━━━━━━━━━━\u001b[0m\u001b[37m\u001b[0m \u001b[1m0s\u001b[0m 56ms/step - accuracy: 0.9913 - loss: 0.0363\n",
      "Epoch 20: ReduceLROnPlateau reducing learning rate to 1.9999999494757503e-05.\n",
      "\u001b[1m180/180\u001b[0m \u001b[32m━━━━━━━━━━━━━━━━━━━━\u001b[0m\u001b[37m\u001b[0m \u001b[1m11s\u001b[0m 59ms/step - accuracy: 0.9913 - loss: 0.0363 - val_accuracy: 0.9558 - val_loss: 0.1133 - learning_rate: 1.0000e-04\n",
      "Epoch 21/100\n",
      "\u001b[1m180/180\u001b[0m \u001b[32m━━━━━━━━━━━━━━━━━━━━\u001b[0m\u001b[37m\u001b[0m \u001b[1m11s\u001b[0m 59ms/step - accuracy: 0.9935 - loss: 0.0309 - val_accuracy: 0.9754 - val_loss: 0.0796 - learning_rate: 2.0000e-05\n",
      "Epoch 22/100\n",
      "\u001b[1m180/180\u001b[0m \u001b[32m━━━━━━━━━━━━━━━━━━━━\u001b[0m\u001b[37m\u001b[0m \u001b[1m11s\u001b[0m 59ms/step - accuracy: 0.9959 - loss: 0.0217 - val_accuracy: 0.9744 - val_loss: 0.0857 - learning_rate: 2.0000e-05\n",
      "Epoch 23/100\n",
      "\u001b[1m180/180\u001b[0m \u001b[32m━━━━━━━━━━━━━━━━━━━━\u001b[0m\u001b[37m\u001b[0m \u001b[1m11s\u001b[0m 59ms/step - accuracy: 0.9957 - loss: 0.0229 - val_accuracy: 0.9715 - val_loss: 0.0801 - learning_rate: 2.0000e-05\n",
      "Epoch 24/100\n",
      "\u001b[1m180/180\u001b[0m \u001b[32m━━━━━━━━━━━━━━━━━━━━\u001b[0m\u001b[37m\u001b[0m \u001b[1m11s\u001b[0m 58ms/step - accuracy: 0.9957 - loss: 0.0205 - val_accuracy: 0.9735 - val_loss: 0.0834 - learning_rate: 2.0000e-05\n",
      "Epoch 25/100\n",
      "\u001b[1m180/180\u001b[0m \u001b[32m━━━━━━━━━━━━━━━━━━━━\u001b[0m\u001b[37m\u001b[0m \u001b[1m0s\u001b[0m 56ms/step - accuracy: 0.9946 - loss: 0.0196\n",
      "Epoch 25: ReduceLROnPlateau reducing learning rate to 3.999999898951501e-06.\n",
      "\u001b[1m180/180\u001b[0m \u001b[32m━━━━━━━━━━━━━━━━━━━━\u001b[0m\u001b[37m\u001b[0m \u001b[1m11s\u001b[0m 59ms/step - accuracy: 0.9946 - loss: 0.0196 - val_accuracy: 0.9774 - val_loss: 0.0813 - learning_rate: 2.0000e-05\n",
      "Epoch 26/100\n",
      "\u001b[1m180/180\u001b[0m \u001b[32m━━━━━━━━━━━━━━━━━━━━\u001b[0m\u001b[37m\u001b[0m \u001b[1m11s\u001b[0m 59ms/step - accuracy: 0.9944 - loss: 0.0220 - val_accuracy: 0.9774 - val_loss: 0.0796 - learning_rate: 4.0000e-06\n",
      "Epoch 27/100\n",
      "\u001b[1m180/180\u001b[0m \u001b[32m━━━━━━━━━━━━━━━━━━━━\u001b[0m\u001b[37m\u001b[0m \u001b[1m11s\u001b[0m 59ms/step - accuracy: 0.9978 - loss: 0.0153 - val_accuracy: 0.9774 - val_loss: 0.0840 - learning_rate: 4.0000e-06\n",
      "Epoch 28/100\n",
      "\u001b[1m180/180\u001b[0m \u001b[32m━━━━━━━━━━━━━━━━━━━━\u001b[0m\u001b[37m\u001b[0m \u001b[1m11s\u001b[0m 59ms/step - accuracy: 0.9994 - loss: 0.0144 - val_accuracy: 0.9754 - val_loss: 0.0772 - learning_rate: 4.0000e-06\n",
      "Epoch 29/100\n",
      "\u001b[1m180/180\u001b[0m \u001b[32m━━━━━━━━━━━━━━━━━━━━\u001b[0m\u001b[37m\u001b[0m \u001b[1m11s\u001b[0m 59ms/step - accuracy: 0.9939 - loss: 0.0209 - val_accuracy: 0.9794 - val_loss: 0.0773 - learning_rate: 4.0000e-06\n",
      "Epoch 30/100\n",
      "\u001b[1m180/180\u001b[0m \u001b[32m━━━━━━━━━━━━━━━━━━━━\u001b[0m\u001b[37m\u001b[0m \u001b[1m11s\u001b[0m 59ms/step - accuracy: 0.9959 - loss: 0.0174 - val_accuracy: 0.9754 - val_loss: 0.0801 - learning_rate: 4.0000e-06\n",
      "Epoch 31/100\n",
      "\u001b[1m180/180\u001b[0m \u001b[32m━━━━━━━━━━━━━━━━━━━━\u001b[0m\u001b[37m\u001b[0m \u001b[1m11s\u001b[0m 59ms/step - accuracy: 0.9956 - loss: 0.0166 - val_accuracy: 0.9774 - val_loss: 0.0789 - learning_rate: 4.0000e-06\n",
      "Epoch 32/100\n",
      "\u001b[1m180/180\u001b[0m \u001b[32m━━━━━━━━━━━━━━━━━━━━\u001b[0m\u001b[37m\u001b[0m \u001b[1m11s\u001b[0m 59ms/step - accuracy: 0.9976 - loss: 0.0175 - val_accuracy: 0.9744 - val_loss: 0.0768 - learning_rate: 4.0000e-06\n",
      "Epoch 33/100\n",
      "\u001b[1m180/180\u001b[0m \u001b[32m━━━━━━━━━━━━━━━━━━━━\u001b[0m\u001b[37m\u001b[0m \u001b[1m11s\u001b[0m 59ms/step - accuracy: 0.9959 - loss: 0.0164 - val_accuracy: 0.9744 - val_loss: 0.0765 - learning_rate: 4.0000e-06\n",
      "Epoch 34/100\n",
      "\u001b[1m180/180\u001b[0m \u001b[32m━━━━━━━━━━━━━━━━━━━━\u001b[0m\u001b[37m\u001b[0m \u001b[1m11s\u001b[0m 59ms/step - accuracy: 0.9977 - loss: 0.0144 - val_accuracy: 0.9784 - val_loss: 0.0813 - learning_rate: 4.0000e-06\n",
      "Epoch 35/100\n",
      "\u001b[1m180/180\u001b[0m \u001b[32m━━━━━━━━━━━━━━━━━━━━\u001b[0m\u001b[37m\u001b[0m \u001b[1m11s\u001b[0m 59ms/step - accuracy: 0.9973 - loss: 0.0132 - val_accuracy: 0.9735 - val_loss: 0.0780 - learning_rate: 4.0000e-06\n",
      "Epoch 36/100\n",
      "\u001b[1m180/180\u001b[0m \u001b[32m━━━━━━━━━━━━━━━━━━━━\u001b[0m\u001b[37m\u001b[0m \u001b[1m11s\u001b[0m 59ms/step - accuracy: 0.9987 - loss: 0.0134 - val_accuracy: 0.9774 - val_loss: 0.0801 - learning_rate: 4.0000e-06\n",
      "Epoch 37/100\n",
      "\u001b[1m180/180\u001b[0m \u001b[32m━━━━━━━━━━━━━━━━━━━━\u001b[0m\u001b[37m\u001b[0m \u001b[1m0s\u001b[0m 56ms/step - accuracy: 0.9972 - loss: 0.0154\n",
      "Epoch 37: ReduceLROnPlateau reducing learning rate to 7.999999979801942e-07.\n",
      "\u001b[1m180/180\u001b[0m \u001b[32m━━━━━━━━━━━━━━━━━━━━\u001b[0m\u001b[37m\u001b[0m \u001b[1m11s\u001b[0m 59ms/step - accuracy: 0.9972 - loss: 0.0155 - val_accuracy: 0.9744 - val_loss: 0.0780 - learning_rate: 4.0000e-06\n",
      "Epoch 38/100\n",
      "\u001b[1m180/180\u001b[0m \u001b[32m━━━━━━━━━━━━━━━━━━━━\u001b[0m\u001b[37m\u001b[0m \u001b[1m11s\u001b[0m 59ms/step - accuracy: 0.9976 - loss: 0.0144 - val_accuracy: 0.9774 - val_loss: 0.0772 - learning_rate: 8.0000e-07\n",
      "Epoch 39/100\n",
      "\u001b[1m180/180\u001b[0m \u001b[32m━━━━━━━━━━━━━━━━━━━━\u001b[0m\u001b[37m\u001b[0m \u001b[1m11s\u001b[0m 59ms/step - accuracy: 0.9961 - loss: 0.0170 - val_accuracy: 0.9754 - val_loss: 0.0774 - learning_rate: 8.0000e-07\n",
      "Epoch 40/100\n",
      "\u001b[1m180/180\u001b[0m \u001b[32m━━━━━━━━━━━━━━━━━━━━\u001b[0m\u001b[37m\u001b[0m \u001b[1m11s\u001b[0m 59ms/step - accuracy: 0.9981 - loss: 0.0149 - val_accuracy: 0.9784 - val_loss: 0.0770 - learning_rate: 8.0000e-07\n",
      "Epoch 41/100\n",
      "\u001b[1m180/180\u001b[0m \u001b[32m━━━━━━━━━━━━━━━━━━━━\u001b[0m\u001b[37m\u001b[0m \u001b[1m0s\u001b[0m 56ms/step - accuracy: 0.9983 - loss: 0.0143\n",
      "Epoch 41: ReduceLROnPlateau reducing learning rate to 1.600000018697756e-07.\n",
      "\u001b[1m180/180\u001b[0m \u001b[32m━━━━━━━━━━━━━━━━━━━━\u001b[0m\u001b[37m\u001b[0m \u001b[1m11s\u001b[0m 59ms/step - accuracy: 0.9983 - loss: 0.0143 - val_accuracy: 0.9794 - val_loss: 0.0768 - learning_rate: 8.0000e-07\n",
      "Epoch 42/100\n",
      "\u001b[1m180/180\u001b[0m \u001b[32m━━━━━━━━━━━━━━━━━━━━\u001b[0m\u001b[37m\u001b[0m \u001b[1m11s\u001b[0m 59ms/step - accuracy: 0.9965 - loss: 0.0158 - val_accuracy: 0.9794 - val_loss: 0.0764 - learning_rate: 1.6000e-07\n",
      "Epoch 43/100\n",
      "\u001b[1m180/180\u001b[0m \u001b[32m━━━━━━━━━━━━━━━━━━━━\u001b[0m\u001b[37m\u001b[0m \u001b[1m11s\u001b[0m 59ms/step - accuracy: 0.9980 - loss: 0.0146 - val_accuracy: 0.9784 - val_loss: 0.0763 - learning_rate: 1.6000e-07\n",
      "Epoch 44/100\n",
      "\u001b[1m180/180\u001b[0m \u001b[32m━━━━━━━━━━━━━━━━━━━━\u001b[0m\u001b[37m\u001b[0m \u001b[1m11s\u001b[0m 59ms/step - accuracy: 0.9978 - loss: 0.0143 - val_accuracy: 0.9784 - val_loss: 0.0763 - learning_rate: 1.6000e-07\n",
      "Epoch 45/100\n",
      "\u001b[1m180/180\u001b[0m \u001b[32m━━━━━━━━━━━━━━━━━━━━\u001b[0m\u001b[37m\u001b[0m \u001b[1m11s\u001b[0m 59ms/step - accuracy: 0.9982 - loss: 0.0133 - val_accuracy: 0.9803 - val_loss: 0.0764 - learning_rate: 1.6000e-07\n",
      "Epoch 46/100\n",
      "\u001b[1m180/180\u001b[0m \u001b[32m━━━━━━━━━━━━━━━━━━━━\u001b[0m\u001b[37m\u001b[0m \u001b[1m0s\u001b[0m 56ms/step - accuracy: 0.9970 - loss: 0.0158\n",
      "Epoch 46: ReduceLROnPlateau reducing learning rate to 1e-07.\n",
      "\u001b[1m180/180\u001b[0m \u001b[32m━━━━━━━━━━━━━━━━━━━━\u001b[0m\u001b[37m\u001b[0m \u001b[1m11s\u001b[0m 59ms/step - accuracy: 0.9970 - loss: 0.0158 - val_accuracy: 0.9803 - val_loss: 0.0767 - learning_rate: 1.6000e-07\n",
      "Epoch 47/100\n",
      "\u001b[1m180/180\u001b[0m \u001b[32m━━━━━━━━━━━━━━━━━━━━\u001b[0m\u001b[37m\u001b[0m \u001b[1m11s\u001b[0m 59ms/step - accuracy: 0.9975 - loss: 0.0153 - val_accuracy: 0.9803 - val_loss: 0.0764 - learning_rate: 1.0000e-07\n",
      "Epoch 48/100\n",
      "\u001b[1m180/180\u001b[0m \u001b[32m━━━━━━━━━━━━━━━━━━━━\u001b[0m\u001b[37m\u001b[0m \u001b[1m11s\u001b[0m 59ms/step - accuracy: 0.9985 - loss: 0.0134 - val_accuracy: 0.9794 - val_loss: 0.0764 - learning_rate: 1.0000e-07\n",
      "Epoch 49/100\n",
      "\u001b[1m180/180\u001b[0m \u001b[32m━━━━━━━━━━━━━━━━━━━━\u001b[0m\u001b[37m\u001b[0m \u001b[1m11s\u001b[0m 60ms/step - accuracy: 0.9976 - loss: 0.0170 - val_accuracy: 0.9784 - val_loss: 0.0760 - learning_rate: 1.0000e-07\n",
      "Epoch 50/100\n",
      "\u001b[1m180/180\u001b[0m \u001b[32m━━━━━━━━━━━━━━━━━━━━\u001b[0m\u001b[37m\u001b[0m \u001b[1m11s\u001b[0m 59ms/step - accuracy: 0.9980 - loss: 0.0140 - val_accuracy: 0.9784 - val_loss: 0.0761 - learning_rate: 1.0000e-07\n",
      "Epoch 51/100\n",
      "\u001b[1m180/180\u001b[0m \u001b[32m━━━━━━━━━━━━━━━━━━━━\u001b[0m\u001b[37m\u001b[0m \u001b[1m11s\u001b[0m 59ms/step - accuracy: 0.9978 - loss: 0.0163 - val_accuracy: 0.9784 - val_loss: 0.0760 - learning_rate: 1.0000e-07\n",
      "Epoch 52/100\n",
      "\u001b[1m180/180\u001b[0m \u001b[32m━━━━━━━━━━━━━━━━━━━━\u001b[0m\u001b[37m\u001b[0m \u001b[1m11s\u001b[0m 59ms/step - accuracy: 0.9971 - loss: 0.0156 - val_accuracy: 0.9794 - val_loss: 0.0761 - learning_rate: 1.0000e-07\n",
      "Epoch 53/100\n",
      "\u001b[1m180/180\u001b[0m \u001b[32m━━━━━━━━━━━━━━━━━━━━\u001b[0m\u001b[37m\u001b[0m \u001b[1m11s\u001b[0m 59ms/step - accuracy: 0.9984 - loss: 0.0141 - val_accuracy: 0.9803 - val_loss: 0.0764 - learning_rate: 1.0000e-07\n",
      "Epoch 54/100\n",
      "\u001b[1m180/180\u001b[0m \u001b[32m━━━━━━━━━━━━━━━━━━━━\u001b[0m\u001b[37m\u001b[0m \u001b[1m11s\u001b[0m 59ms/step - accuracy: 0.9982 - loss: 0.0127 - val_accuracy: 0.9803 - val_loss: 0.0763 - learning_rate: 1.0000e-07\n",
      "Epoch 55/100\n",
      "\u001b[1m180/180\u001b[0m \u001b[32m━━━━━━━━━━━━━━━━━━━━\u001b[0m\u001b[37m\u001b[0m \u001b[1m11s\u001b[0m 59ms/step - accuracy: 0.9979 - loss: 0.0139 - val_accuracy: 0.9774 - val_loss: 0.0759 - learning_rate: 1.0000e-07\n",
      "Epoch 56/100\n",
      "\u001b[1m180/180\u001b[0m \u001b[32m━━━━━━━━━━━━━━━━━━━━\u001b[0m\u001b[37m\u001b[0m \u001b[1m11s\u001b[0m 59ms/step - accuracy: 0.9967 - loss: 0.0165 - val_accuracy: 0.9803 - val_loss: 0.0764 - learning_rate: 1.0000e-07\n",
      "Epoch 57/100\n",
      "\u001b[1m180/180\u001b[0m \u001b[32m━━━━━━━━━━━━━━━━━━━━\u001b[0m\u001b[37m\u001b[0m \u001b[1m11s\u001b[0m 59ms/step - accuracy: 0.9974 - loss: 0.0157 - val_accuracy: 0.9803 - val_loss: 0.0764 - learning_rate: 1.0000e-07\n",
      "Epoch 58/100\n",
      "\u001b[1m180/180\u001b[0m \u001b[32m━━━━━━━━━━━━━━━━━━━━\u001b[0m\u001b[37m\u001b[0m \u001b[1m11s\u001b[0m 59ms/step - accuracy: 0.9971 - loss: 0.0170 - val_accuracy: 0.9784 - val_loss: 0.0760 - learning_rate: 1.0000e-07\n",
      "Epoch 59/100\n",
      "\u001b[1m180/180\u001b[0m \u001b[32m━━━━━━━━━━━━━━━━━━━━\u001b[0m\u001b[37m\u001b[0m \u001b[1m11s\u001b[0m 59ms/step - accuracy: 0.9993 - loss: 0.0138 - val_accuracy: 0.9794 - val_loss: 0.0762 - learning_rate: 1.0000e-07\n",
      "Epoch 60/100\n",
      "\u001b[1m180/180\u001b[0m \u001b[32m━━━━━━━━━━━━━━━━━━━━\u001b[0m\u001b[37m\u001b[0m \u001b[1m11s\u001b[0m 59ms/step - accuracy: 0.9986 - loss: 0.0138 - val_accuracy: 0.9794 - val_loss: 0.0764 - learning_rate: 1.0000e-07\n",
      "Epoch 61/100\n",
      "\u001b[1m180/180\u001b[0m \u001b[32m━━━━━━━━━━━━━━━━━━━━\u001b[0m\u001b[37m\u001b[0m \u001b[1m11s\u001b[0m 59ms/step - accuracy: 0.9966 - loss: 0.0167 - val_accuracy: 0.9784 - val_loss: 0.0763 - learning_rate: 1.0000e-07\n",
      "Epoch 62/100\n",
      "\u001b[1m180/180\u001b[0m \u001b[32m━━━━━━━━━━━━━━━━━━━━\u001b[0m\u001b[37m\u001b[0m \u001b[1m11s\u001b[0m 59ms/step - accuracy: 0.9984 - loss: 0.0134 - val_accuracy: 0.9803 - val_loss: 0.0765 - learning_rate: 1.0000e-07\n",
      "Epoch 63/100\n",
      "\u001b[1m180/180\u001b[0m \u001b[32m━━━━━━━━━━━━━━━━━━━━\u001b[0m\u001b[37m\u001b[0m \u001b[1m11s\u001b[0m 59ms/step - accuracy: 0.9991 - loss: 0.0117 - val_accuracy: 0.9784 - val_loss: 0.0761 - learning_rate: 1.0000e-07\n",
      "Epoch 64/100\n",
      "\u001b[1m180/180\u001b[0m \u001b[32m━━━━━━━━━━━━━━━━━━━━\u001b[0m\u001b[37m\u001b[0m \u001b[1m11s\u001b[0m 59ms/step - accuracy: 0.9988 - loss: 0.0133 - val_accuracy: 0.9784 - val_loss: 0.0759 - learning_rate: 1.0000e-07\n",
      "Epoch 65/100\n",
      "\u001b[1m180/180\u001b[0m \u001b[32m━━━━━━━━━━━━━━━━━━━━\u001b[0m\u001b[37m\u001b[0m \u001b[1m11s\u001b[0m 59ms/step - accuracy: 0.9980 - loss: 0.0135 - val_accuracy: 0.9803 - val_loss: 0.0763 - learning_rate: 1.0000e-07\n",
      "Epoch 65: early stopping\n",
      "Restoring model weights from the end of the best epoch: 55.\n"
     ]
    }
   ],
   "source": [
    "history = model.fit(\n",
    "    train_ds,\n",
    "    epochs=EPOCHS,\n",
    "    validation_data=val_ds,\n",
    "    callbacks=callbacks_list,\n",
    "    class_weight=class_weight_dict\n",
    ")"
   ]
  },
  {
   "cell_type": "code",
   "execution_count": 13,
   "id": "73417aea",
   "metadata": {
    "execution": {
     "iopub.execute_input": "2025-03-30T11:05:51.571998Z",
     "iopub.status.busy": "2025-03-30T11:05:51.571673Z",
     "iopub.status.idle": "2025-03-30T11:05:52.277669Z",
     "shell.execute_reply": "2025-03-30T11:05:52.276684Z"
    },
    "papermill": {
     "duration": 1.31138,
     "end_time": "2025-03-30T11:05:52.279370",
     "exception": false,
     "start_time": "2025-03-30T11:05:50.967990",
     "status": "completed"
    },
    "tags": []
   },
   "outputs": [],
   "source": [
    "model_save_path = '/kaggle/working/cnn_stroke_classifier.keras'\n",
    "model.save(model_save_path)"
   ]
  },
  {
   "cell_type": "code",
   "execution_count": 14,
   "id": "bd652b81",
   "metadata": {
    "execution": {
     "iopub.execute_input": "2025-03-30T11:05:53.440522Z",
     "iopub.status.busy": "2025-03-30T11:05:53.440217Z",
     "iopub.status.idle": "2025-03-30T11:05:53.714533Z",
     "shell.execute_reply": "2025-03-30T11:05:53.713664Z"
    },
    "papermill": {
     "duration": 0.828719,
     "end_time": "2025-03-30T11:05:53.715907",
     "exception": false,
     "start_time": "2025-03-30T11:05:52.887188",
     "status": "completed"
    },
    "tags": []
   },
   "outputs": [
    {
     "data": {
      "image/png": "[encoded data removed]",
      "text/plain": [
       "<Figure size 800x500 with 1 Axes>"
      ]
     },
     "metadata": {},
     "output_type": "display_data"
    }
   ],
   "source": [
    "history_dict = history.history\n",
    "loss = history_dict['loss']\n",
    "val_loss = history_dict['val_loss']\n",
    "actual_epochs = len(loss)\n",
    "epochs_range = range(actual_epochs)\n",
    "\n",
    "plt.figure(figsize=(8, 5))\n",
    "plt.plot(epochs_range, loss, label='Training Loss')\n",
    "plt.plot(epochs_range, val_loss, label='Validation Loss')\n",
    "best_epoch_idx = np.argmin(val_loss)\n",
    "plt.scatter(best_epoch_idx, val_loss[best_epoch_idx], s=100, c='red', marker='x', label=f'Best val_loss (Epoch {best_epoch_idx+1})')\n",
    "plt.xlabel('Epochs')\n",
    "plt.ylabel('Loss')\n",
    "plt.title('Training and Validation Loss (EfficientNetV2B0)')\n",
    "plt.legend(loc='upper right')\n",
    "plt.grid(True)\n",
    "plt.ylim(bottom=0)\n",
    "plt.show()"
   ]
  },
  {
   "cell_type": "code",
   "execution_count": 15,
   "id": "203debbf",
   "metadata": {
    "execution": {
     "iopub.execute_input": "2025-03-30T11:05:54.868963Z",
     "iopub.status.busy": "2025-03-30T11:05:54.868428Z",
     "iopub.status.idle": "2025-03-30T11:05:57.257865Z",
     "shell.execute_reply": "2025-03-30T11:05:57.256876Z"
    },
    "papermill": {
     "duration": 2.946914,
     "end_time": "2025-03-30T11:05:57.259345",
     "exception": false,
     "start_time": "2025-03-30T11:05:54.312431",
     "status": "completed"
    },
    "tags": []
   },
   "outputs": [
    {
     "name": "stdout",
     "output_type": "stream",
     "text": [
      "\u001b[1m32/32\u001b[0m \u001b[32m━━━━━━━━━━━━━━━━━━━━\u001b[0m\u001b[37m\u001b[0m \u001b[1m2s\u001b[0m 57ms/step\n"
     ]
    }
   ],
   "source": [
    "val_ds_for_predict = create_dataset_val_test(val_df, BATCH_SIZE)\n",
    "y_pred_proba_val = model.predict(val_ds_for_predict)\n",
    "y_true_val = val_df['class'].values\n",
    "\n",
    "if len(y_pred_proba_val) != len(y_true_val):\n",
    "     y_true_val = y_true_val[:len(y_pred_proba_val)]\n",
    "\n",
    "precision, recall, thresholds = precision_recall_curve(y_true_val, y_pred_proba_val)\n",
    "f1_scores = np.array([\n",
    "    2 * (p * r) / (p + r) if (p + r) > 0 else 0\n",
    "    for p, r in zip(precision[:-1], recall[:-1])\n",
    "])\n",
    "valid_thresholds = thresholds[:len(f1_scores)]\n",
    "\n",
    "chosen_threshold = 0.5 # Default threshold\n",
    "best_f1_idx = -1\n",
    "if len(f1_scores) > 0:\n",
    "    best_f1_idx = np.argmax(f1_scores)\n",
    "    best_threshold_f1 = valid_thresholds[best_f1_idx]\n",
    "    best_f1 = f1_scores[best_f1_idx]\n",
    "    best_precision_f1 = precision[best_f1_idx + 1]\n",
    "    best_recall_f1 = recall[best_f1_idx + 1]\n",
    "\n",
    "    target_recall = 0.88\n",
    "    recall_indices = np.where(recall[:-1] >= target_recall)[0]\n",
    "    if len(recall_indices) > 0:\n",
    "        best_f1_for_recall_local_idx = np.argmax(f1_scores[recall_indices])\n",
    "        best_threshold_recall_idx_global = recall_indices[best_f1_for_recall_local_idx]\n",
    "        best_threshold_recall = valid_thresholds[best_threshold_recall_idx_global]\n",
    "        best_precision_recall = precision[best_threshold_recall_idx_global + 1]\n",
    "        actual_recall_recall = recall[best_threshold_recall_idx_global + 1]\n",
    "        f1_recall = f1_scores[best_threshold_recall_idx_global]\n",
    "        chosen_threshold = best_threshold_recall\n",
    "    else:\n",
    "        chosen_threshold = best_threshold_f1\n",
    "else:\n",
    "    chosen_threshold = 0.5"
   ]
  },
  {
   "cell_type": "code",
   "execution_count": 16,
   "id": "9600f07d",
   "metadata": {
    "execution": {
     "iopub.execute_input": "2025-03-30T11:05:58.433537Z",
     "iopub.status.busy": "2025-03-30T11:05:58.432971Z",
     "iopub.status.idle": "2025-03-30T11:05:58.659184Z",
     "shell.execute_reply": "2025-03-30T11:05:58.658021Z"
    },
    "papermill": {
     "duration": 0.784379,
     "end_time": "2025-03-30T11:05:58.661249",
     "exception": false,
     "start_time": "2025-03-30T11:05:57.876870",
     "status": "completed"
    },
    "tags": []
   },
   "outputs": [
    {
     "data": {
      "image/png": "[encoded data removed]",
      "text/plain": [
       "<Figure size 800x600 with 1 Axes>"
      ]
     },
     "metadata": {},
     "output_type": "display_data"
    }
   ],
   "source": [
    "pr_auc = auc(recall, precision)\n",
    "plt.figure(figsize=(8, 6))\n",
    "plt.plot(recall, precision, marker='.', label=f'PR Curve (AUC = {pr_auc:.2f})')\n",
    "if best_f1_idx != -1 and (best_f1_idx + 1) < len(recall):\n",
    "    plt.scatter(recall[best_f1_idx + 1], precision[best_f1_idx + 1], marker='o', s=100, color='red', label=f'Best F1 Thresh = {best_threshold_f1:.3f}\\n(P={best_precision_f1:.2f}, R={best_recall_f1:.2f}, F1={best_f1:.2f})')\n",
    "if 'best_threshold_recall_idx_global' in locals() and best_f1_idx != -1 and best_threshold_recall_idx_global != best_f1_idx:\n",
    "     plt.scatter(actual_recall_recall, best_precision_recall, marker='x', color='green', s=100, label=f'Target R ({target_recall}) Thresh = {best_threshold_recall:.3f}\\n(P={best_precision_recall:.2f}, R={actual_recall_recall:.2f}, F1={f1_recall:.2f})')\n",
    "plt.xlabel('Recall (Sensitivity)')\n",
    "plt.ylabel('Precision')\n",
    "plt.title('Precision-Recall Curve on Validation Set (cnn)')\n",
    "plt.legend()\n",
    "plt.grid(True)\n",
    "plt.xlim([0, 1])\n",
    "plt.ylim([0, 1.05])\n",
    "plt.show()"
   ]
  },
  {
   "cell_type": "code",
   "execution_count": 17,
   "id": "486daeb2",
   "metadata": {
    "execution": {
     "iopub.execute_input": "2025-03-30T11:05:59.827705Z",
     "iopub.status.busy": "2025-03-30T11:05:59.827343Z",
     "iopub.status.idle": "2025-03-30T11:05:59.998028Z",
     "shell.execute_reply": "2025-03-30T11:05:59.997229Z"
    },
    "papermill": {
     "duration": 0.732412,
     "end_time": "2025-03-30T11:05:59.999175",
     "exception": false,
     "start_time": "2025-03-30T11:05:59.266763",
     "status": "completed"
    },
    "tags": []
   },
   "outputs": [
    {
     "name": "stdout",
     "output_type": "stream",
     "text": [
      "               precision    recall  f1-score   support\n",
      "\n",
      "No Stroke (0)       0.97      1.00      0.99       683\n",
      "   Stroke (1)       0.99      0.95      0.97       334\n",
      "\n",
      "     accuracy                           0.98      1017\n",
      "    macro avg       0.98      0.97      0.98      1017\n",
      " weighted avg       0.98      0.98      0.98      1017\n",
      "\n"
     ]
    },
    {
     "data": {
      "image/png": "[encoded data removed]",
      "text/plain": [
       "<Figure size 600x400 with 2 Axes>"
      ]
     },
     "metadata": {},
     "output_type": "display_data"
    }
   ],
   "source": [
    "y_pred_val_adjusted = (y_pred_proba_val.flatten() > chosen_threshold).astype(int)\n",
    "print(classification_report(y_true_val, y_pred_val_adjusted, target_names=['No Stroke (0)', 'Stroke (1)'], zero_division=0)) # Giữ lại report này\n",
    "\n",
    "cm_val_adjusted = confusion_matrix(y_true_val, y_pred_val_adjusted)\n",
    "plt.figure(figsize=(6, 4))\n",
    "sns.heatmap(cm_val_adjusted, annot=True, fmt='d', cmap='Blues',\n",
    "            xticklabels=['No Stroke (0)', 'Stroke (1)'],\n",
    "            yticklabels=['No Stroke (0)', 'Stroke (1)'])\n",
    "plt.title(f'Confusion Matrix (Validation - Threshold {chosen_threshold:.2f})')\n",
    "plt.xlabel('Predicted')\n",
    "plt.ylabel('True')\n",
    "plt.show()"
   ]
  },
  {
   "cell_type": "code",
   "execution_count": 18,
   "id": "b913b742",
   "metadata": {
    "execution": {
     "iopub.execute_input": "2025-03-30T11:06:01.170677Z",
     "iopub.status.busy": "2025-03-30T11:06:01.170335Z",
     "iopub.status.idle": "2025-03-30T11:06:01.200766Z",
     "shell.execute_reply": "2025-03-30T11:06:01.200092Z"
    },
    "papermill": {
     "duration": 0.592455,
     "end_time": "2025-03-30T11:06:01.202067",
     "exception": false,
     "start_time": "2025-03-30T11:06:00.609612",
     "status": "completed"
    },
    "tags": []
   },
   "outputs": [],
   "source": [
    "test_data_dir = '/kaggle/input/inme-veri-seti-stroke-dataset/İNME VERİ SETİ/YarısmaVeriSeti_1_Oturum/PNG/'\n",
    "cevaplar_path = os.path.join('/kaggle/input/inme-veri-seti-stroke-dataset/İNME VERİ SETİ/YarısmaVeriSeti_1_Oturum/ASAMA1_Cevaplar.txt')\n",
    "\n",
    "png_files = glob.glob(os.path.join(test_data_dir, '*.png'))\n",
    "labels_dict = {}\n",
    "try:\n",
    "    with open(cevaplar_path, 'r', encoding='utf-8') as f:\n",
    "        lines = f.readlines()[1:]\n",
    "        for line in lines:\n",
    "            parts = [part.strip() for part in line.strip().split('\\t')]\n",
    "            if len(parts) == 2 and parts[0] and parts[1] and parts[1] in ['0', '1']:\n",
    "                labels_dict[f\"{parts[0]}.png\"] = int(parts[1])\n",
    "except FileNotFoundError:\n",
    "    pass # Bỏ qua lỗi nếu không tìm thấy tệp\n",
    "except Exception as e:\n",
    "    pass # Bỏ qua các lỗi khác\n",
    "\n",
    "test_images = []\n",
    "test_labels = []\n",
    "for png_file in png_files:\n",
    "    filename = os.path.basename(png_file)\n",
    "    if filename in labels_dict:\n",
    "        test_images.append(png_file)\n",
    "        test_labels.append(labels_dict[filename])\n",
    "\n",
    "test_data = pd.DataFrame({\n",
    "    'filename': test_images,\n",
    "    'class': test_labels\n",
    "})"
   ]
  },
  {
   "cell_type": "code",
   "execution_count": 19,
   "id": "a77aa83c",
   "metadata": {
    "execution": {
     "iopub.execute_input": "2025-03-30T11:06:02.356213Z",
     "iopub.status.busy": "2025-03-30T11:06:02.355651Z",
     "iopub.status.idle": "2025-03-30T11:06:03.861234Z",
     "shell.execute_reply": "2025-03-30T11:06:03.860501Z"
    },
    "papermill": {
     "duration": 2.058926,
     "end_time": "2025-03-30T11:06:03.862509",
     "exception": false,
     "start_time": "2025-03-30T11:06:01.803583",
     "status": "completed"
    },
    "tags": []
   },
   "outputs": [
    {
     "name": "stdout",
     "output_type": "stream",
     "text": [
      "\u001b[1m7/7\u001b[0m \u001b[32m━━━━━━━━━━━━━━━━━━━━\u001b[0m\u001b[37m\u001b[0m \u001b[1m1s\u001b[0m 200ms/step\n",
      "               precision    recall  f1-score   support\n",
      "\n",
      "No Stroke (0)     0.9149    0.9923    0.9520       130\n",
      "   Stroke (1)     0.9831    0.8286    0.8992        70\n",
      "\n",
      "     accuracy                         0.9350       200\n",
      "    macro avg     0.9490    0.9104    0.9256       200\n",
      " weighted avg     0.9387    0.9350    0.9335       200\n",
      "\n"
     ]
    },
    {
     "data": {
      "image/png": "[encoded data removed]",
      "text/plain": [
       "<Figure size 600x400 with 2 Axes>"
      ]
     },
     "metadata": {},
     "output_type": "display_data"
    }
   ],
   "source": [
    "if not test_data.empty:\n",
    "    test_ds = create_dataset_val_test(test_data, BATCH_SIZE)\n",
    "    y_pred_proba_test = model.predict(test_ds)\n",
    "    y_true_test = test_data['class'].values\n",
    "\n",
    "    if len(y_pred_proba_test) != len(y_true_test):\n",
    "         y_true_test = y_true_test[:len(y_pred_proba_test)]\n",
    "\n",
    "    y_pred_test = (y_pred_proba_test.flatten() > chosen_threshold).astype(int)\n",
    "\n",
    "    print(classification_report(y_true_test, y_pred_test, target_names=['No Stroke (0)', 'Stroke (1)'], digits = 4)) # Giữ lại report này\n",
    "\n",
    "    cm_test = confusion_matrix(y_true_test, y_pred_test)\n",
    "    plt.figure(figsize=(6, 4))\n",
    "    sns.heatmap(cm_test, annot=True, fmt='d', cmap='Blues',\n",
    "                xticklabels=['No Stroke (0)', 'Stroke (1)'],\n",
    "                yticklabels=['No Stroke (0)', 'Stroke (1)'])\n",
    "    plt.title(f'Confusion Matrix on Test set (Threshold {chosen_threshold:.2f})')\n",
    "    plt.xlabel('Predicted')\n",
    "    plt.ylabel('True')\n",
    "    plt.show()"
   ]
  }
 ],
 "metadata": {
  "kaggle": {
   "accelerator": "nvidiaTeslaT4",
   "dataSources": [
    {
     "datasetId": 6652053,
     "sourceId": 10729545,
     "sourceType": "datasetVersion"
    }
   ],
   "dockerImageVersionId": 30919,
   "isGpuEnabled": true,
   "isInternetEnabled": true,
   "language": "python",
   "sourceType": "notebook"
  },
  "kernelspec": {
   "display_name": "Python 3",
   "language": "python",
   "name": "python3"
  },
  "language_info": {
   "codemirror_mode": {
    "name": "ipython",
    "version": 3
   },
   "file_extension": ".py",
   "mimetype": "text/x-python",
   "name": "python",
   "nbconvert_exporter": "python",
   "pygments_lexer": "ipython3",
   "version": "3.10.12"
  },
  "papermill": {
   "default_parameters": {},
   "duration": 755.259541,
   "end_time": "2025-03-30T11:06:07.952127",
   "environment_variables": {},
   "exception": null,
   "input_path": "__notebook__.ipynb",
   "output_path": "__notebook__.ipynb",
   "parameters": {},
   "start_time": "2025-03-30T10:53:32.692586",
   "version": "2.6.0"
  }
 },
 "nbformat": 4,
 "nbformat_minor": 5
}
