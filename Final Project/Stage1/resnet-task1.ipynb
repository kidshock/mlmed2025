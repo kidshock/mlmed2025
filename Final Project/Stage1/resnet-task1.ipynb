{
 "cells": [
  {
   "cell_type": "code",
   "execution_count": 1,
   "id": "9f376a14",
   "metadata": {
    "execution": {
     "iopub.execute_input": "2025-03-30T10:09:46.822699Z",
     "iopub.status.busy": "2025-03-30T10:09:46.822421Z",
     "iopub.status.idle": "2025-03-30T10:10:01.617291Z",
     "shell.execute_reply": "2025-03-30T10:10:01.616619Z"
    },
    "papermill": {
     "duration": 14.801824,
     "end_time": "2025-03-30T10:10:01.618721",
     "exception": false,
     "start_time": "2025-03-30T10:09:46.816897",
     "status": "completed"
    },
    "tags": []
   },
   "outputs": [],
   "source": [
    "import os\n",
    "import glob\n",
    "import numpy as np\n",
    "import pandas as pd\n",
    "from PIL import Image\n",
    "import matplotlib.pyplot as plt\n",
    "import seaborn as sns\n",
    "import tensorflow as tf\n",
    "from tensorflow.keras.applications import ResNet50\n",
    "from tensorflow.keras import layers, models\n",
    "from tensorflow.keras import regularizers\n",
    "from tensorflow.keras.preprocessing.image import ImageDataGenerator\n",
    "from tensorflow.keras.callbacks import ReduceLROnPlateau, EarlyStopping\n",
    "from sklearn.utils import class_weight\n",
    "from sklearn.model_selection import train_test_split\n",
    "from sklearn.metrics import (\n",
    "    precision_recall_curve,\n",
    "    auc,\n",
    "    f1_score,\n",
    "    classification_report,\n",
    "    confusion_matrix)"
   ]
  },
  {
   "cell_type": "code",
   "execution_count": 2,
   "id": "c2e5bfe2",
   "metadata": {
    "execution": {
     "iopub.execute_input": "2025-03-30T10:10:01.629562Z",
     "iopub.status.busy": "2025-03-30T10:10:01.629083Z",
     "iopub.status.idle": "2025-03-30T10:10:02.385055Z",
     "shell.execute_reply": "2025-03-30T10:10:02.384280Z"
    },
    "papermill": {
     "duration": 0.762625,
     "end_time": "2025-03-30T10:10:02.386429",
     "exception": false,
     "start_time": "2025-03-30T10:10:01.623804",
     "status": "completed"
    },
    "tags": []
   },
   "outputs": [
    {
     "name": "stdout",
     "output_type": "stream",
     "text": [
      "GPU: [PhysicalDevice(name='/physical_device:GPU:0', device_type='GPU'), PhysicalDevice(name='/physical_device:GPU:1', device_type='GPU')]\n"
     ]
    }
   ],
   "source": [
    "#check gpu\n",
    "gpus = tf.config.list_physical_devices('GPU')\n",
    "if gpus:\n",
    "    print(\"GPU:\", gpus)\n",
    "    for gpu in gpus:\n",
    "        tf.config.experimental.set_memory_growth(gpu, True)\n",
    "else:\n",
    "    print(\"Cant find GPU, use CPU.\")"
   ]
  },
  {
   "cell_type": "code",
   "execution_count": 3,
   "id": "d1c8187a",
   "metadata": {
    "_cell_guid": "b1076dfc-b9ad-4769-8c92-a6c4dae69d19",
    "_uuid": "8f2839f25d086af736a60e9eeb907d3b93b6e0e5",
    "execution": {
     "iopub.execute_input": "2025-03-30T10:10:02.395803Z",
     "iopub.status.busy": "2025-03-30T10:10:02.395526Z",
     "iopub.status.idle": "2025-03-30T10:10:02.398365Z",
     "shell.execute_reply": "2025-03-30T10:10:02.397775Z"
    },
    "papermill": {
     "duration": 0.00872,
     "end_time": "2025-03-30T10:10:02.399629",
     "exception": false,
     "start_time": "2025-03-30T10:10:02.390909",
     "status": "completed"
    },
    "tags": []
   },
   "outputs": [],
   "source": [
    "data_dir = '/kaggle/input/inme-veri-seti-stroke-dataset/İNME VERİ SETİ'\n",
    "\n",
    "#for root, dirs, files in os.walk(data_dir):\n",
    "#    print(root, len(files), 'files')"
   ]
  },
  {
   "cell_type": "code",
   "execution_count": null,
   "id": "a5026f92",
   "metadata": {
    "execution": {
     "iopub.execute_input": "2025-03-30T10:10:02.408709Z",
     "iopub.status.busy": "2025-03-30T10:10:02.408464Z",
     "iopub.status.idle": "2025-03-30T10:10:02.538558Z",
     "shell.execute_reply": "2025-03-30T10:10:02.537794Z"
    },
    "papermill": {
     "duration": 0.135872,
     "end_time": "2025-03-30T10:10:02.539773",
     "exception": false,
     "start_time": "2025-03-30T10:10:02.403901",
     "status": "completed"
    },
    "tags": []
   },
   "outputs": [
    {
     "name": "stdout",
     "output_type": "stream",
     "text": [
      "Count images: 6774\n",
      "Count labels: 6774\n"
     ]
    }
   ],
   "source": [
    "hermorrhage_png = glob.glob(os.path.join(data_dir, 'Kanama/PNG/*.png'))\n",
    "ischemia_png = glob.glob(os.path.join(data_dir, 'İskemi/PNG/*.png'))\n",
    "no_stroke_png = glob.glob(os.path.join(data_dir, 'İnme Yok/*.png')) \n",
    "\n",
    "images = []\n",
    "labels = []\n",
    "\n",
    "for img_path in hermorrhage_png:\n",
    "    images.append(img_path)\n",
    "    labels.append(1)  \n",
    "\n",
    "for img_path in ischemia_png:\n",
    "    images.append(img_path)\n",
    "    labels.append(1) \n",
    "\n",
    "for img_path in no_stroke_png:\n",
    "    images.append(img_path)\n",
    "    labels.append(0) \n",
    "\n",
    "print(f\"Count images: {len(images)}\")\n",
    "print(f\"Count labels: {len(labels)}\")"
   ]
  },
  {
   "cell_type": "code",
   "execution_count": 7,
   "id": "09e1378e",
   "metadata": {
    "execution": {
     "iopub.execute_input": "2025-03-30T10:10:02.575446Z",
     "iopub.status.busy": "2025-03-30T10:10:02.575247Z",
     "iopub.status.idle": "2025-03-30T10:10:02.578256Z",
     "shell.execute_reply": "2025-03-30T10:10:02.577582Z"
    },
    "papermill": {
     "duration": 0.008682,
     "end_time": "2025-03-30T10:10:02.579349",
     "exception": false,
     "start_time": "2025-03-30T10:10:02.570667",
     "status": "completed"
    },
    "tags": []
   },
   "outputs": [],
   "source": [
    "IMG_SIZE = (224, 224)\n",
    "BATCH_SIZE = 32\n",
    "NUM_CLASSES = 1\n",
    "EPOCHS = 100"
   ]
  },
  {
   "cell_type": "code",
   "execution_count": 8,
   "id": "191abf85",
   "metadata": {
    "execution": {
     "iopub.execute_input": "2025-03-30T10:10:02.588352Z",
     "iopub.status.busy": "2025-03-30T10:10:02.588148Z",
     "iopub.status.idle": "2025-03-30T10:10:02.618320Z",
     "shell.execute_reply": "2025-03-30T10:10:02.617700Z"
    },
    "papermill": {
     "duration": 0.036193,
     "end_time": "2025-03-30T10:10:02.619774",
     "exception": false,
     "start_time": "2025-03-30T10:10:02.583581",
     "status": "completed"
    },
    "tags": []
   },
   "outputs": [],
   "source": [
    "data_df = pd.DataFrame({\n",
    "    'filename': images,\n",
    "    'class': labels\n",
    "})\n",
    "data_df['class'] = data_df['class'].astype(str) \n",
    "\n",
    "train_df, val_df = train_test_split(\n",
    "    data_df,\n",
    "    test_size=0.20, \n",
    "    stratify=data_df['class'], \n",
    "    random_state=42  \n",
    ")"
   ]
  },
  {
   "cell_type": "code",
   "execution_count": 9,
   "id": "1ca02d27",
   "metadata": {
    "execution": {
     "iopub.execute_input": "2025-03-30T10:10:02.629670Z",
     "iopub.status.busy": "2025-03-30T10:10:02.629389Z",
     "iopub.status.idle": "2025-03-30T10:10:02.636157Z",
     "shell.execute_reply": "2025-03-30T10:10:02.635562Z"
    },
    "papermill": {
     "duration": 0.013059,
     "end_time": "2025-03-30T10:10:02.637415",
     "exception": false,
     "start_time": "2025-03-30T10:10:02.624356",
     "status": "completed"
    },
    "tags": []
   },
   "outputs": [],
   "source": [
    "def parse_image(filename):\n",
    "    image = tf.io.read_file(filename)\n",
    "    image = tf.image.decode_png(image, channels=3) \n",
    "    image = tf.image.convert_image_dtype(image, tf.float32)\n",
    "    image = tf.image.resize(image, [IMG_SIZE[0], IMG_SIZE[1]])\n",
    "    return image\n",
    "\n",
    "def configure_for_performance(ds, batch_size):\n",
    "    ds = ds.cache() \n",
    "    ds = ds.shuffle(buffer_size=1000) \n",
    "    ds = ds.batch(batch_size)\n",
    "    ds = ds.prefetch(buffer_size=tf.data.AUTOTUNE) \n",
    "    return ds\n",
    "\n",
    "def create_dataset_val_test(df, batch_size):\n",
    "    list_ds = tf.data.Dataset.from_tensor_slices((df['filename'].values, df['class'].astype(int).values))\n",
    "\n",
    "    ds = list_ds.map(lambda filename, label: (parse_image(filename), tf.cast(label, tf.float32)),\n",
    "                     num_parallel_calls=tf.data.AUTOTUNE)\n",
    "\n",
    "    ds = ds.cache() \n",
    "    ds = ds.batch(batch_size)\n",
    "    ds = ds.prefetch(buffer_size=tf.data.AUTOTUNE)\n",
    "    return ds"
   ]
  },
  {
   "cell_type": "code",
   "execution_count": 10,
   "id": "1e2766b0",
   "metadata": {
    "execution": {
     "iopub.execute_input": "2025-03-30T10:10:02.646629Z",
     "iopub.status.busy": "2025-03-30T10:10:02.646405Z",
     "iopub.status.idle": "2025-03-30T10:10:02.653484Z",
     "shell.execute_reply": "2025-03-30T10:10:02.652529Z"
    },
    "papermill": {
     "duration": 0.013057,
     "end_time": "2025-03-30T10:10:02.654772",
     "exception": false,
     "start_time": "2025-03-30T10:10:02.641715",
     "status": "completed"
    },
    "tags": []
   },
   "outputs": [],
   "source": [
    "class_weights = class_weight.compute_class_weight(\n",
    "    'balanced',\n",
    "    classes=np.unique(labels),\n",
    "    y=labels\n",
    ")\n",
    "class_weight_dict = dict(enumerate(class_weights))"
   ]
  },
  {
   "cell_type": "code",
   "execution_count": 11,
   "id": "608c4c05",
   "metadata": {
    "execution": {
     "iopub.execute_input": "2025-03-30T10:10:02.663527Z",
     "iopub.status.busy": "2025-03-30T10:10:02.663313Z",
     "iopub.status.idle": "2025-03-30T10:10:03.093754Z",
     "shell.execute_reply": "2025-03-30T10:10:03.093038Z"
    },
    "papermill": {
     "duration": 0.436351,
     "end_time": "2025-03-30T10:10:03.095172",
     "exception": false,
     "start_time": "2025-03-30T10:10:02.658821",
     "status": "completed"
    },
    "tags": []
   },
   "outputs": [],
   "source": [
    "def map_train_basic(filename, label, weight):\n",
    "    image = parse_image(filename)\n",
    "    label = tf.cast(label, tf.float32)\n",
    "    weight = tf.cast(weight, tf.float32)\n",
    "    return image, label, weight\n",
    "\n",
    "def get_sample_weights(labels, class_weight_mapping):\n",
    "    weights = np.ones(len(labels))\n",
    "    for i, label in enumerate(labels):\n",
    "        if label in class_weight_mapping:\n",
    "            weights[i] = class_weight_mapping[label]\n",
    "    return weights\n",
    "\n",
    "sample_weights_train = get_sample_weights(train_df['class'].astype(int).values,\n",
    "                                          class_weight_dict).astype(np.float32)\n",
    "\n",
    "train_list_ds = tf.data.Dataset.from_tensor_slices(\n",
    "    (train_df['filename'].values, train_df['class'].astype(int).values, sample_weights_train))\n",
    "train_ds_basic_mapped = train_list_ds.map(map_train_basic, num_parallel_calls=tf.data.AUTOTUNE)\n",
    "train_ds_with_weights = configure_for_performance(train_ds_basic_mapped, BATCH_SIZE) \n",
    "\n",
    "val_ds = create_dataset_val_test(val_df, BATCH_SIZE)"
   ]
  },
  {
   "cell_type": "code",
   "execution_count": 12,
   "id": "6d683f4a",
   "metadata": {
    "execution": {
     "iopub.execute_input": "2025-03-30T10:10:03.104646Z",
     "iopub.status.busy": "2025-03-30T10:10:03.104405Z",
     "iopub.status.idle": "2025-03-30T10:10:03.107865Z",
     "shell.execute_reply": "2025-03-30T10:10:03.107275Z"
    },
    "papermill": {
     "duration": 0.009534,
     "end_time": "2025-03-30T10:10:03.109169",
     "exception": false,
     "start_time": "2025-03-30T10:10:03.099635",
     "status": "completed"
    },
    "tags": []
   },
   "outputs": [],
   "source": [
    "lr_scheduler = ReduceLROnPlateau(\n",
    "    monitor='val_loss', \n",
    "    factor=0.7,          \n",
    "    patience=5,          \n",
    "    verbose=1,           \n",
    "    min_lr=1e-8          \n",
    ")\n",
    "\n",
    "early_stopper = EarlyStopping(\n",
    "    monitor='val_loss',  \n",
    "    patience=7,         \n",
    "    verbose=1,           \n",
    "    restore_best_weights=True,  \n",
    "    min_delta=0\n",
    ")\n",
    "\n",
    "callbacks_list = [lr_scheduler, early_stopper]"
   ]
  },
  {
   "cell_type": "code",
   "execution_count": 13,
   "id": "283fedc2",
   "metadata": {
    "execution": {
     "iopub.execute_input": "2025-03-30T10:10:03.118205Z",
     "iopub.status.busy": "2025-03-30T10:10:03.117996Z",
     "iopub.status.idle": "2025-03-30T10:10:06.474669Z",
     "shell.execute_reply": "2025-03-30T10:10:06.473983Z"
    },
    "papermill": {
     "duration": 3.36295,
     "end_time": "2025-03-30T10:10:06.476282",
     "exception": false,
     "start_time": "2025-03-30T10:10:03.113332",
     "status": "completed"
    },
    "tags": []
   },
   "outputs": [
    {
     "name": "stdout",
     "output_type": "stream",
     "text": [
      "Downloading data from https://storage.googleapis.com/tensorflow/keras-applications/resnet/resnet50_weights_tf_dim_ordering_tf_kernels_notop.h5\n",
      "\u001b[1m94765736/94765736\u001b[0m \u001b[32m━━━━━━━━━━━━━━━━━━━━\u001b[0m\u001b[37m\u001b[0m \u001b[1m0s\u001b[0m 0us/step\n"
     ]
    }
   ],
   "source": [
    "base_model =  ResNet50(weights='imagenet', include_top=False, input_shape=(224, 224, 3))\n",
    "base_model.trainable = True\n",
    "\n",
    "model = models.Sequential([\n",
    "    base_model,\n",
    "    layers.GlobalAveragePooling2D(),\n",
    "    layers.Dense(128, activation='relu'),\n",
    "    layers.Dropout(0.35, name=\"dropout\"), \n",
    "    layers.Dense(NUM_CLASSES, activation='sigmoid')\n",
    "])\n",
    "\n",
    "model.compile(\n",
    "    optimizer=tf.keras.optimizers.Adam(learning_rate=1e-5),\n",
    "    loss='binary_crossentropy',\n",
    "    metrics=['accuracy']\n",
    ")"
   ]
  },
  {
   "cell_type": "code",
   "execution_count": 14,
   "id": "6cbb95e4",
   "metadata": {
    "execution": {
     "iopub.execute_input": "2025-03-30T10:10:06.487396Z",
     "iopub.status.busy": "2025-03-30T10:10:06.487167Z",
     "iopub.status.idle": "2025-03-30T10:32:24.020493Z",
     "shell.execute_reply": "2025-03-30T10:32:24.019767Z"
    },
    "papermill": {
     "duration": 1337.540278,
     "end_time": "2025-03-30T10:32:24.022141",
     "exception": false,
     "start_time": "2025-03-30T10:10:06.481863",
     "status": "completed"
    },
    "tags": []
   },
   "outputs": [
    {
     "name": "stdout",
     "output_type": "stream",
     "text": [
      "Epoch 1/100\n",
      "\u001b[1m170/170\u001b[0m \u001b[32m━━━━━━━━━━━━━━━━━━━━\u001b[0m\u001b[37m\u001b[0m \u001b[1m145s\u001b[0m 487ms/step - accuracy: 0.6693 - loss: 0.5872 - val_accuracy: 0.4627 - val_loss: 0.7087 - learning_rate: 1.0000e-05\n",
      "Epoch 2/100\n",
      "\u001b[1m170/170\u001b[0m \u001b[32m━━━━━━━━━━━━━━━━━━━━\u001b[0m\u001b[37m\u001b[0m \u001b[1m58s\u001b[0m 339ms/step - accuracy: 0.9064 - loss: 0.2525 - val_accuracy: 0.6399 - val_loss: 0.6466 - learning_rate: 1.0000e-05\n",
      "Epoch 3/100\n",
      "\u001b[1m170/170\u001b[0m \u001b[32m━━━━━━━━━━━━━━━━━━━━\u001b[0m\u001b[37m\u001b[0m \u001b[1m56s\u001b[0m 330ms/step - accuracy: 0.9587 - loss: 0.1253 - val_accuracy: 0.6576 - val_loss: 0.6116 - learning_rate: 1.0000e-05\n",
      "Epoch 4/100\n",
      "\u001b[1m170/170\u001b[0m \u001b[32m━━━━━━━━━━━━━━━━━━━━\u001b[0m\u001b[37m\u001b[0m \u001b[1m57s\u001b[0m 336ms/step - accuracy: 0.9870 - loss: 0.0567 - val_accuracy: 0.7461 - val_loss: 0.5129 - learning_rate: 1.0000e-05\n",
      "Epoch 5/100\n",
      "\u001b[1m170/170\u001b[0m \u001b[32m━━━━━━━━━━━━━━━━━━━━\u001b[0m\u001b[37m\u001b[0m \u001b[1m57s\u001b[0m 333ms/step - accuracy: 0.9940 - loss: 0.0311 - val_accuracy: 0.8192 - val_loss: 0.4626 - learning_rate: 1.0000e-05\n",
      "Epoch 6/100\n",
      "\u001b[1m170/170\u001b[0m \u001b[32m━━━━━━━━━━━━━━━━━━━━\u001b[0m\u001b[37m\u001b[0m \u001b[1m57s\u001b[0m 335ms/step - accuracy: 0.9958 - loss: 0.0181 - val_accuracy: 0.8052 - val_loss: 0.6412 - learning_rate: 1.0000e-05\n",
      "Epoch 7/100\n",
      "\u001b[1m170/170\u001b[0m \u001b[32m━━━━━━━━━━━━━━━━━━━━\u001b[0m\u001b[37m\u001b[0m \u001b[1m57s\u001b[0m 334ms/step - accuracy: 0.9968 - loss: 0.0113 - val_accuracy: 0.8103 - val_loss: 0.6939 - learning_rate: 1.0000e-05\n",
      "Epoch 8/100\n",
      "\u001b[1m170/170\u001b[0m \u001b[32m━━━━━━━━━━━━━━━━━━━━\u001b[0m\u001b[37m\u001b[0m \u001b[1m57s\u001b[0m 333ms/step - accuracy: 0.9983 - loss: 0.0087 - val_accuracy: 0.8177 - val_loss: 0.6327 - learning_rate: 1.0000e-05\n",
      "Epoch 9/100\n",
      "\u001b[1m170/170\u001b[0m \u001b[32m━━━━━━━━━━━━━━━━━━━━\u001b[0m\u001b[37m\u001b[0m \u001b[1m57s\u001b[0m 334ms/step - accuracy: 0.9986 - loss: 0.0065 - val_accuracy: 0.8871 - val_loss: 0.3633 - learning_rate: 1.0000e-05\n",
      "Epoch 10/100\n",
      "\u001b[1m170/170\u001b[0m \u001b[32m━━━━━━━━━━━━━━━━━━━━\u001b[0m\u001b[37m\u001b[0m \u001b[1m57s\u001b[0m 334ms/step - accuracy: 0.9966 - loss: 0.0130 - val_accuracy: 0.9321 - val_loss: 0.1987 - learning_rate: 1.0000e-05\n",
      "Epoch 11/100\n",
      "\u001b[1m170/170\u001b[0m \u001b[32m━━━━━━━━━━━━━━━━━━━━\u001b[0m\u001b[37m\u001b[0m \u001b[1m57s\u001b[0m 335ms/step - accuracy: 0.9983 - loss: 0.0075 - val_accuracy: 0.9417 - val_loss: 0.1798 - learning_rate: 1.0000e-05\n",
      "Epoch 12/100\n",
      "\u001b[1m170/170\u001b[0m \u001b[32m━━━━━━━━━━━━━━━━━━━━\u001b[0m\u001b[37m\u001b[0m \u001b[1m57s\u001b[0m 335ms/step - accuracy: 0.9977 - loss: 0.0067 - val_accuracy: 0.9513 - val_loss: 0.1756 - learning_rate: 1.0000e-05\n",
      "Epoch 13/100\n",
      "\u001b[1m170/170\u001b[0m \u001b[32m━━━━━━━━━━━━━━━━━━━━\u001b[0m\u001b[37m\u001b[0m \u001b[1m57s\u001b[0m 334ms/step - accuracy: 0.9982 - loss: 0.0084 - val_accuracy: 0.9624 - val_loss: 0.1271 - learning_rate: 1.0000e-05\n",
      "Epoch 14/100\n",
      "\u001b[1m170/170\u001b[0m \u001b[32m━━━━━━━━━━━━━━━━━━━━\u001b[0m\u001b[37m\u001b[0m \u001b[1m57s\u001b[0m 334ms/step - accuracy: 0.9994 - loss: 0.0042 - val_accuracy: 0.9609 - val_loss: 0.1377 - learning_rate: 1.0000e-05\n",
      "Epoch 15/100\n",
      "\u001b[1m170/170\u001b[0m \u001b[32m━━━━━━━━━━━━━━━━━━━━\u001b[0m\u001b[37m\u001b[0m \u001b[1m57s\u001b[0m 335ms/step - accuracy: 0.9989 - loss: 0.0048 - val_accuracy: 0.9668 - val_loss: 0.1154 - learning_rate: 1.0000e-05\n",
      "Epoch 16/100\n",
      "\u001b[1m170/170\u001b[0m \u001b[32m━━━━━━━━━━━━━━━━━━━━\u001b[0m\u001b[37m\u001b[0m \u001b[1m57s\u001b[0m 334ms/step - accuracy: 0.9977 - loss: 0.0067 - val_accuracy: 0.9646 - val_loss: 0.1284 - learning_rate: 1.0000e-05\n",
      "Epoch 17/100\n",
      "\u001b[1m170/170\u001b[0m \u001b[32m━━━━━━━━━━━━━━━━━━━━\u001b[0m\u001b[37m\u001b[0m \u001b[1m57s\u001b[0m 334ms/step - accuracy: 0.9893 - loss: 0.0332 - val_accuracy: 0.9601 - val_loss: 0.1279 - learning_rate: 1.0000e-05\n",
      "Epoch 18/100\n",
      "\u001b[1m170/170\u001b[0m \u001b[32m━━━━━━━━━━━━━━━━━━━━\u001b[0m\u001b[37m\u001b[0m \u001b[1m57s\u001b[0m 334ms/step - accuracy: 0.9992 - loss: 0.0051 - val_accuracy: 0.9631 - val_loss: 0.1531 - learning_rate: 1.0000e-05\n",
      "Epoch 19/100\n",
      "\u001b[1m170/170\u001b[0m \u001b[32m━━━━━━━━━━━━━━━━━━━━\u001b[0m\u001b[37m\u001b[0m \u001b[1m57s\u001b[0m 334ms/step - accuracy: 0.9990 - loss: 0.0037 - val_accuracy: 0.9609 - val_loss: 0.1368 - learning_rate: 1.0000e-05\n",
      "Epoch 20/100\n",
      "\u001b[1m170/170\u001b[0m \u001b[32m━━━━━━━━━━━━━━━━━━━━\u001b[0m\u001b[37m\u001b[0m \u001b[1m0s\u001b[0m 312ms/step - accuracy: 0.9999 - loss: 0.0022\n",
      "Epoch 20: ReduceLROnPlateau reducing learning rate to 6.9999998231651255e-06.\n",
      "\u001b[1m170/170\u001b[0m \u001b[32m━━━━━━━━━━━━━━━━━━━━\u001b[0m\u001b[37m\u001b[0m \u001b[1m57s\u001b[0m 334ms/step - accuracy: 0.9999 - loss: 0.0022 - val_accuracy: 0.9675 - val_loss: 0.1314 - learning_rate: 1.0000e-05\n",
      "Epoch 21/100\n",
      "\u001b[1m170/170\u001b[0m \u001b[32m━━━━━━━━━━━━━━━━━━━━\u001b[0m\u001b[37m\u001b[0m \u001b[1m57s\u001b[0m 333ms/step - accuracy: 0.9995 - loss: 0.0020 - val_accuracy: 0.9653 - val_loss: 0.1348 - learning_rate: 7.0000e-06\n",
      "Epoch 22/100\n",
      "\u001b[1m170/170\u001b[0m \u001b[32m━━━━━━━━━━━━━━━━━━━━\u001b[0m\u001b[37m\u001b[0m \u001b[1m57s\u001b[0m 334ms/step - accuracy: 0.9998 - loss: 0.0012 - val_accuracy: 0.9675 - val_loss: 0.1302 - learning_rate: 7.0000e-06\n",
      "Epoch 22: early stopping\n",
      "Restoring model weights from the end of the best epoch: 15.\n"
     ]
    }
   ],
   "source": [
    "history = model.fit(\n",
    "    train_ds_with_weights,\n",
    "    epochs=EPOCHS,\n",
    "    validation_data=val_ds,\n",
    "    callbacks=callbacks_list\n",
    ")"
   ]
  },
  {
   "cell_type": "code",
   "execution_count": 15,
   "id": "384164c4",
   "metadata": {
    "execution": {
     "iopub.execute_input": "2025-03-30T10:32:24.386603Z",
     "iopub.status.busy": "2025-03-30T10:32:24.386316Z",
     "iopub.status.idle": "2025-03-30T10:32:25.906812Z",
     "shell.execute_reply": "2025-03-30T10:32:25.905800Z"
    },
    "papermill": {
     "duration": 1.701613,
     "end_time": "2025-03-30T10:32:25.908244",
     "exception": false,
     "start_time": "2025-03-30T10:32:24.206631",
     "status": "completed"
    },
    "tags": []
   },
   "outputs": [
    {
     "name": "stdout",
     "output_type": "stream",
     "text": [
      "Model is saved in Keras v3 format (.keras)\n"
     ]
    }
   ],
   "source": [
    "model.save('/kaggle/working/resNet50_stroke_classifier.keras') \n",
    "print(\"Model is saved in Keras v3 format (.keras)\")"
   ]
  },
  {
   "cell_type": "code",
   "execution_count": 16,
   "id": "f9a23333",
   "metadata": {
    "execution": {
     "iopub.execute_input": "2025-03-30T10:32:26.270553Z",
     "iopub.status.busy": "2025-03-30T10:32:26.270233Z",
     "iopub.status.idle": "2025-03-30T10:32:26.606405Z",
     "shell.execute_reply": "2025-03-30T10:32:26.605529Z"
    },
    "papermill": {
     "duration": 0.518695,
     "end_time": "2025-03-30T10:32:26.607887",
     "exception": false,
     "start_time": "2025-03-30T10:32:26.089192",
     "status": "completed"
    },
    "tags": []
   },
   "outputs": [
    {
     "data": {
      "image/png": "[encoded data removed]",
      "text/plain": [
       "<Figure size 800x500 with 1 Axes>"
      ]
     },
     "metadata": {},
     "output_type": "display_data"
    }
   ],
   "source": [
    "history_dict = history.history\n",
    "\n",
    "loss = history_dict['loss']\n",
    "val_loss = history_dict['val_loss']\n",
    "\n",
    "actual_epochs = len(loss)\n",
    "epochs_range = range(actual_epochs)\n",
    "\n",
    "plt.figure(figsize=(8, 5)) \n",
    "plt.plot(epochs_range, loss, label='Training Loss')\n",
    "plt.plot(epochs_range, val_loss, label='Validation Loss')\n",
    "\n",
    "best_epoch = np.argmin(val_loss)\n",
    "plt.scatter(best_epoch, val_loss[best_epoch], s=100, c='red', marker='x', label=f'Best val_loss (Epoch {best_epoch+1})')\n",
    "\n",
    "plt.xlabel('Epochs')\n",
    "plt.ylabel('Loss')\n",
    "plt.title('Training and Validation Loss')\n",
    "plt.legend(loc='upper right') \n",
    "plt.grid(True)\n",
    "plt.show()"
   ]
  },
  {
   "cell_type": "code",
   "execution_count": 17,
   "id": "45d3929c",
   "metadata": {
    "execution": {
     "iopub.execute_input": "2025-03-30T10:32:27.011354Z",
     "iopub.status.busy": "2025-03-30T10:32:27.010924Z",
     "iopub.status.idle": "2025-03-30T10:32:37.149218Z",
     "shell.execute_reply": "2025-03-30T10:32:37.148246Z"
    },
    "papermill": {
     "duration": 10.361343,
     "end_time": "2025-03-30T10:32:37.150548",
     "exception": false,
     "start_time": "2025-03-30T10:32:26.789205",
     "status": "completed"
    },
    "tags": []
   },
   "outputs": [
    {
     "name": "stdout",
     "output_type": "stream",
     "text": [
      "\u001b[1m43/43\u001b[0m \u001b[32m━━━━━━━━━━━━━━━━━━━━\u001b[0m\u001b[37m\u001b[0m \u001b[1m10s\u001b[0m 161ms/step\n",
      "Predictions count: 1355, True labels count: 1355\n",
      "Calculating Precision, Recall, and Thresholds...\n",
      "\n",
      "Best F1-score Threshold: 0.4494\n",
      "  - F1-score: 0.9502\n",
      "  - Precision at this threshold: 0.9567\n",
      "  - Recall at this threshold: 0.9438\n",
      "\n",
      "Suggested Threshold for Recall >= 0.85: 0.4494\n",
      "  - Precision at this threshold: 0.9567\n",
      "  - Actual Recall at this threshold: 0.9438\n",
      "  - F1-score at this threshold: 0.9502\n"
     ]
    }
   ],
   "source": [
    "val_ds_for_predict = create_dataset_val_test(val_df, BATCH_SIZE) \n",
    "y_pred_proba_val = model.predict(val_ds_for_predict)\n",
    "\n",
    "y_true_val = val_df['class'].astype(int).values\n",
    "print(f\"Predictions count: {len(y_pred_proba_val)}, True labels count: {len(y_true_val)}\")\n",
    "\n",
    "if len(y_pred_proba_val) != len(y_true_val):\n",
    "    print(f\"Warning: Predictions count ({len(y_pred_proba_val)}) does not match true labels count ({len(y_true_val)}). Possibly due to drop_remainder=True.\")\n",
    "    y_true_val = y_true_val[:len(y_pred_proba_val)]\n",
    "    print(f\"True labels count adjusted to: {len(y_true_val)}\")\n",
    "\n",
    "# calculate Precision, Recall, and Thresholds \n",
    "print(\"Calculating Precision, Recall, and Thresholds...\")\n",
    "precision, recall, thresholds = precision_recall_curve(y_true_val, y_pred_proba_val)\n",
    "\n",
    "# calculate F1 score and find the Optimal Threshold \n",
    "f1_scores = np.array([2 * (p * r) / (p + r) if (p + r) > 0 else 0 for p, r in zip(precision[:-1], recall[:-1])])\n",
    "\n",
    "best_f1_idx = np.argmax(f1_scores)\n",
    "if best_f1_idx >= len(thresholds):\n",
    "     best_f1_idx = len(thresholds) - 1\n",
    "\n",
    "best_threshold_f1 = thresholds[best_f1_idx]\n",
    "best_f1 = f1_scores[best_f1_idx]\n",
    "best_precision_f1 = precision[best_f1_idx]\n",
    "best_recall_f1 = recall[best_f1_idx]\n",
    "\n",
    "print(f\"\\nBest F1-score Threshold: {best_threshold_f1:.4f}\")\n",
    "print(f\"  - F1-score: {best_f1:.4f}\")\n",
    "print(f\"  - Precision at this threshold: {best_precision_f1:.4f}\")\n",
    "print(f\"  - Recall at this threshold: {best_recall_f1:.4f}\")\n",
    "\n",
    "target_recall = 0.85\n",
    "recall_indices = np.where(recall[:-1] >= target_recall)[0]\n",
    "\n",
    "if len(recall_indices) > 0:\n",
    "    best_f1_for_recall_local_idx = np.argmax(f1_scores[recall_indices])\n",
    "    best_threshold_recall_idx_global = recall_indices[best_f1_for_recall_local_idx]\n",
    "\n",
    "    if best_threshold_recall_idx_global >= len(thresholds):\n",
    "        best_threshold_recall_idx_global = len(thresholds) - 1\n",
    "\n",
    "    best_threshold_recall = thresholds[best_threshold_recall_idx_global]\n",
    "    best_precision_recall = precision[best_threshold_recall_idx_global]\n",
    "    actual_recall_recall = recall[best_threshold_recall_idx_global]\n",
    "    f1_recall = f1_scores[best_threshold_recall_idx_global]\n",
    "\n",
    "    print(f\"\\nSuggested Threshold for Recall >= {target_recall}: {best_threshold_recall:.4f}\")\n",
    "    print(f\"  - Precision at this threshold: {best_precision_recall:.4f}\")\n",
    "    print(f\"  - Actual Recall at this threshold: {actual_recall_recall:.4f}\")\n",
    "    print(f\"  - F1-score at this threshold: {f1_recall:.4f}\")\n",
    "else:\n",
    "    print(f\"\\nNo threshold found for Recall >= {target_recall}\")\n",
    "    best_threshold_recall = best_threshold_f1\n",
    "\n",
    "\n",
    "chosen_threshold = min(best_threshold_recall, 0.5)"
   ]
  },
  {
   "cell_type": "code",
   "execution_count": 18,
   "id": "51a7f723",
   "metadata": {
    "execution": {
     "iopub.execute_input": "2025-03-30T10:32:37.512652Z",
     "iopub.status.busy": "2025-03-30T10:32:37.512321Z",
     "iopub.status.idle": "2025-03-30T10:32:37.774530Z",
     "shell.execute_reply": "2025-03-30T10:32:37.773661Z"
    },
    "papermill": {
     "duration": 0.443152,
     "end_time": "2025-03-30T10:32:37.775987",
     "exception": false,
     "start_time": "2025-03-30T10:32:37.332835",
     "status": "completed"
    },
    "tags": []
   },
   "outputs": [
    {
     "data": {
      "image/png": "[encoded data removed]",
      "text/plain": [
       "<Figure size 800x600 with 1 Axes>"
      ]
     },
     "metadata": {},
     "output_type": "display_data"
    }
   ],
   "source": [
    "pr_auc = auc(recall, precision)\n",
    "\n",
    "plt.figure(figsize=(8, 6))\n",
    "plt.plot(recall, precision, marker='.', label=f'PR Curve (AUC = {pr_auc:.2f})')\n",
    "plt.scatter(recall[best_f1_idx], precision[best_f1_idx], marker='o', s=100, color='red', label=f'Best F1 Threshold = {best_threshold_f1:.3f}\\n(P={best_precision_f1:.2f}, R={best_recall_f1:.2f})')\n",
    "\n",
    "if len(recall_indices) > 0:\n",
    "     plt.scatter(actual_recall_recall, best_precision_recall, marker='x', color='green', s=100, label=f'Target R ({target_recall}) Threshold = {best_threshold_recall:.3f}\\n(P={best_precision_recall:.2f}, R={actual_recall_recall:.2f})')\n",
    "\n",
    "plt.xlabel('Recall (Sensitivity)')\n",
    "plt.ylabel('Precision')\n",
    "plt.title('Precision-Recall Curve on Validation Set')\n",
    "plt.legend()\n",
    "plt.grid(True)\n",
    "plt.show()"
   ]
  },
  {
   "cell_type": "code",
   "execution_count": 19,
   "id": "1ec60945",
   "metadata": {
    "execution": {
     "iopub.execute_input": "2025-03-30T10:32:38.142455Z",
     "iopub.status.busy": "2025-03-30T10:32:38.142154Z",
     "iopub.status.idle": "2025-03-30T10:32:38.329116Z",
     "shell.execute_reply": "2025-03-30T10:32:38.328228Z"
    },
    "papermill": {
     "duration": 0.370652,
     "end_time": "2025-03-30T10:32:38.330492",
     "exception": false,
     "start_time": "2025-03-30T10:32:37.959840",
     "status": "completed"
    },
    "tags": []
   },
   "outputs": [
    {
     "name": "stdout",
     "output_type": "stream",
     "text": [
      "\n",
      "Classification Report (Validation - Adjusted Threshold):\n",
      "               precision    recall  f1-score   support\n",
      "\n",
      "No Stroke (0)       0.97      0.98      0.98       910\n",
      "   Stroke (1)       0.96      0.94      0.95       445\n",
      "\n",
      "     accuracy                           0.97      1355\n",
      "    macro avg       0.96      0.96      0.96      1355\n",
      " weighted avg       0.97      0.97      0.97      1355\n",
      "\n"
     ]
    },
    {
     "data": {
      "image/png": "[encoded data removed]",
      "text/plain": [
       "<Figure size 600x400 with 2 Axes>"
      ]
     },
     "metadata": {},
     "output_type": "display_data"
    }
   ],
   "source": [
    "y_pred_val_adjusted = (y_pred_proba_val.flatten() > chosen_threshold).astype(int)\n",
    "\n",
    "print(\"\\nClassification Report (Validation - Adjusted Threshold):\")\n",
    "print(classification_report(y_true_val, y_pred_val_adjusted, target_names=['No Stroke (0)', 'Stroke (1)']))\n",
    "\n",
    "cm_val_adjusted = confusion_matrix(y_true_val, y_pred_val_adjusted)\n",
    "plt.figure(figsize=(6, 4))\n",
    "sns.heatmap(cm_val_adjusted, annot=True, fmt='d', cmap='Blues',\n",
    "            xticklabels=['No Stroke (0)', 'Stroke (1)'],\n",
    "            yticklabels=['No Stroke (0)', 'Stroke (1)'])\n",
    "plt.title(f'Confusion Matrix (Validation - Threshold {chosen_threshold:.2f})')\n",
    "plt.xlabel('Predicted')\n",
    "plt.ylabel('True')\n",
    "plt.show()"
   ]
  },
  {
   "cell_type": "code",
   "execution_count": 20,
   "id": "debaaa98",
   "metadata": {
    "execution": {
     "iopub.execute_input": "2025-03-30T10:32:38.756979Z",
     "iopub.status.busy": "2025-03-30T10:32:38.756617Z",
     "iopub.status.idle": "2025-03-30T10:32:38.785282Z",
     "shell.execute_reply": "2025-03-30T10:32:38.784399Z"
    },
    "papermill": {
     "duration": 0.264031,
     "end_time": "2025-03-30T10:32:38.786815",
     "exception": false,
     "start_time": "2025-03-30T10:32:38.522784",
     "status": "completed"
    },
    "tags": []
   },
   "outputs": [],
   "source": [
    "png_files = glob.glob(os.path.join('/kaggle/input/inme-veri-seti-stroke-dataset/İNME VERİ SETİ/YarısmaVeriSeti_1_Oturum/PNG/*.png'))\n",
    "png_filenames = [os.path.basename(f) for f in png_files]  \n",
    "\n",
    "cevaplar_path = os.path.join('/kaggle/input/inme-veri-seti-stroke-dataset/İNME VERİ SETİ/YarısmaVeriSeti_1_Oturum/ASAMA1_Cevaplar.txt')\n",
    "labels_dict = {}\n",
    "\n",
    "with open(cevaplar_path, 'r') as f:\n",
    "    lines = f.readlines()[1:]  \n",
    "    for line in lines:\n",
    "        parts = line.strip().split('\\t')\n",
    "        if len(parts) == 2:\n",
    "            image_id, label = parts\n",
    "            filename = f\"{image_id}.png\"\n",
    "            labels_dict[filename] = label"
   ]
  },
  {
   "cell_type": "code",
   "execution_count": 21,
   "id": "d81ce80f",
   "metadata": {
    "execution": {
     "iopub.execute_input": "2025-03-30T10:32:39.200323Z",
     "iopub.status.busy": "2025-03-30T10:32:39.199988Z",
     "iopub.status.idle": "2025-03-30T10:32:39.207609Z",
     "shell.execute_reply": "2025-03-30T10:32:39.206706Z"
    },
    "papermill": {
     "duration": 0.237814,
     "end_time": "2025-03-30T10:32:39.209062",
     "exception": false,
     "start_time": "2025-03-30T10:32:38.971248",
     "status": "completed"
    },
    "tags": []
   },
   "outputs": [
    {
     "name": "stdout",
     "output_type": "stream",
     "text": [
      "sample in test_data: 200\n"
     ]
    }
   ],
   "source": [
    "test_images = []\n",
    "test_labels = []\n",
    "\n",
    "for png_file in png_files:\n",
    "    filename = os.path.basename(png_file)\n",
    "    if filename in labels_dict:\n",
    "        test_images.append(png_file)  \n",
    "        test_labels.append(labels_dict[filename])\n",
    "\n",
    "test_data = pd.DataFrame({\n",
    "    'filename': test_images,\n",
    "    'class': test_labels\n",
    "})\n",
    "test_data['class'] = test_data['class'].astype(str)\n",
    "\n",
    "print(\"sample in test_data:\", len(test_data))"
   ]
  },
  {
   "cell_type": "code",
   "execution_count": 22,
   "id": "6baf4bd1",
   "metadata": {
    "execution": {
     "iopub.execute_input": "2025-03-30T10:32:39.580573Z",
     "iopub.status.busy": "2025-03-30T10:32:39.580155Z",
     "iopub.status.idle": "2025-03-30T10:32:43.037446Z",
     "shell.execute_reply": "2025-03-30T10:32:43.036549Z"
    },
    "papermill": {
     "duration": 3.644505,
     "end_time": "2025-03-30T10:32:43.038641",
     "exception": false,
     "start_time": "2025-03-30T10:32:39.394136",
     "status": "completed"
    },
    "tags": []
   },
   "outputs": [
    {
     "name": "stdout",
     "output_type": "stream",
     "text": [
      "\u001b[1m7/7\u001b[0m \u001b[32m━━━━━━━━━━━━━━━━━━━━\u001b[0m\u001b[37m\u001b[0m \u001b[1m3s\u001b[0m 512ms/step\n",
      "Predictions count: 200, True labels count: 200\n",
      "Applying threshold: 0.45\n",
      "\n",
      "Classification Report on Test Set:\n",
      "               precision    recall  f1-score   support\n",
      "\n",
      "No Stroke (0)     0.9338    0.9769    0.9549       130\n",
      "   Stroke (1)     0.9531    0.8714    0.9104        70\n",
      "\n",
      "     accuracy                         0.9400       200\n",
      "    macro avg     0.9435    0.9242    0.9327       200\n",
      " weighted avg     0.9406    0.9400    0.9393       200\n",
      "\n"
     ]
    },
    {
     "data": {
      "image/png": "[encoded data removed]",
      "text/plain": [
       "<Figure size 600x400 with 2 Axes>"
      ]
     },
     "metadata": {},
     "output_type": "display_data"
    }
   ],
   "source": [
    "png_files = glob.glob(os.path.join('/kaggle/input/inme-veri-seti-stroke-dataset/İNME VERİ SETİ/YarısmaVeriSeti_1_Oturum/PNG/*.png'))\n",
    "png_filenames = [os.path.basename(f) for f in png_files]\n",
    "\n",
    "cevaplar_path = os.path.join('/kaggle/input/inme-veri-seti-stroke-dataset/İNME VERİ SETİ/YarısmaVeriSeti_1_Oturum/ASAMA1_Cevaplar.txt')\n",
    "labels_dict = {}\n",
    "\n",
    "with open(cevaplar_path, 'r', encoding='utf-8') as f:\n",
    "    lines = f.readlines()[1:] \n",
    "    for line in lines:\n",
    "        parts = [part.strip() for part in line.strip().split('\\t')]\n",
    "        if len(parts) == 2 and parts[0] and parts[1]: \n",
    "            image_id, label = parts\n",
    "            filename = f\"{image_id}.png\"\n",
    "            labels_dict[filename] = label\n",
    "\n",
    "test_images = []\n",
    "test_labels = []\n",
    "\n",
    "for png_file in png_files:\n",
    "    filename = os.path.basename(png_file)\n",
    "    if filename in labels_dict:\n",
    "        test_images.append(png_file)\n",
    "        test_labels.append(labels_dict[filename])\n",
    "\n",
    "test_data = pd.DataFrame({\n",
    "    'filename': test_images,\n",
    "    'class': test_labels\n",
    "})\n",
    "test_data['class'] = test_data['class'].astype(int)\n",
    "\n",
    "test_ds = create_dataset_val_test(test_data, BATCH_SIZE)\n",
    "\n",
    "y_pred_proba_test = model.predict(test_ds)\n",
    "\n",
    "y_true_test = test_data['class'].values\n",
    "print(f\"Predictions count: {len(y_pred_proba_test)}, True labels count: {len(y_true_test)}\")\n",
    "\n",
    "y_true_test = y_true_test[:len(y_pred_proba_test)]\n",
    "\n",
    "# Apply chosen threshold\n",
    "print(f\"Applying threshold: {chosen_threshold:.2f}\")\n",
    "y_pred_test = (y_pred_proba_test.flatten() > chosen_threshold).astype(int)\n",
    "\n",
    "print(\"\\nClassification Report on Test Set:\")\n",
    "if len(np.unique(y_true_test)) < 2 or len(np.unique(y_pred_test)) < 2:\n",
    "    cm_test = confusion_matrix(y_true_test, y_pred_test)\n",
    "    print(\"\\nConfusion Matrix on Test Set:\")\n",
    "    print(cm_test)\n",
    "else:\n",
    "    print(classification_report(y_true_test, y_pred_test, target_names=['No Stroke (0)', 'Stroke (1)'], digits = 4))\n",
    "\n",
    "cm_test = confusion_matrix(y_true_test, y_pred_test)\n",
    "plt.figure(figsize=(6, 4))\n",
    "sns.heatmap(cm_test, annot=True, fmt='d', cmap='Blues',\n",
    "            xticklabels=['No Stroke (0)', 'Stroke (1)'],\n",
    "            yticklabels=['No Stroke (0)', 'Stroke (1)'])\n",
    "plt.title(f'Confusion Matrix on Test set (Threshold {chosen_threshold:.2f})')\n",
    "plt.xlabel('Predicted')\n",
    "plt.ylabel('True')\n",
    "plt.show()"
   ]
  }
 ],
 "metadata": {
  "kaggle": {
   "accelerator": "nvidiaTeslaT4",
   "dataSources": [
    {
     "datasetId": 6652053,
     "sourceId": 10729545,
     "sourceType": "datasetVersion"
    }
   ],
   "dockerImageVersionId": 30918,
   "isGpuEnabled": true,
   "isInternetEnabled": true,
   "language": "python",
   "sourceType": "notebook"
  },
  "kernelspec": {
   "display_name": "Python 3",
   "language": "python",
   "name": "python3"
  },
  "language_info": {
   "codemirror_mode": {
    "name": "ipython",
    "version": 3
   },
   "file_extension": ".py",
   "mimetype": "text/x-python",
   "name": "python",
   "nbconvert_exporter": "python",
   "pygments_lexer": "ipython3",
   "version": "3.10.12"
  },
  "papermill": {
   "default_parameters": {},
   "duration": 1383.461783,
   "end_time": "2025-03-30T10:32:47.561978",
   "environment_variables": {},
   "exception": null,
   "input_path": "__notebook__.ipynb",
   "output_path": "__notebook__.ipynb",
   "parameters": {},
   "start_time": "2025-03-30T10:09:44.100195",
   "version": "2.6.0"
  }
 },
 "nbformat": 4,
 "nbformat_minor": 5
}
