{
 "cells": [
  {
   "cell_type": "code",
   "execution_count": 1,
   "id": "e073e3ee",
   "metadata": {
    "execution": {
     "iopub.execute_input": "2025-03-30T11:28:52.803779Z",
     "iopub.status.busy": "2025-03-30T11:28:52.803416Z",
     "iopub.status.idle": "2025-03-30T11:29:06.148173Z",
     "shell.execute_reply": "2025-03-30T11:29:06.147439Z"
    },
    "papermill": {
     "duration": 13.352079,
     "end_time": "2025-03-30T11:29:06.149754",
     "exception": false,
     "start_time": "2025-03-30T11:28:52.797675",
     "status": "completed"
    },
    "tags": []
   },
   "outputs": [],
   "source": [
    "import os\n",
    "import glob\n",
    "import numpy as np\n",
    "import pandas as pd\n",
    "from PIL import Image\n",
    "import matplotlib.pyplot as plt\n",
    "import seaborn as sns\n",
    "import tensorflow as tf\n",
    "from tensorflow.keras.applications import MobileNetV2\n",
    "from tensorflow.keras import layers, models\n",
    "from tensorflow.keras import regularizers\n",
    "from tensorflow.keras.preprocessing.image import ImageDataGenerator\n",
    "from tensorflow.keras.callbacks import ReduceLROnPlateau, EarlyStopping\n",
    "from sklearn.utils import class_weight\n",
    "from sklearn.model_selection import train_test_split\n",
    "from sklearn.metrics import (\n",
    "    precision_recall_curve,\n",
    "    auc,\n",
    "    f1_score,\n",
    "    classification_report,\n",
    "    confusion_matrix)"
   ]
  },
  {
   "cell_type": "code",
   "execution_count": 2,
   "id": "5f62fa93",
   "metadata": {
    "execution": {
     "iopub.execute_input": "2025-03-30T11:29:06.159698Z",
     "iopub.status.busy": "2025-03-30T11:29:06.159155Z",
     "iopub.status.idle": "2025-03-30T11:29:06.797237Z",
     "shell.execute_reply": "2025-03-30T11:29:06.796243Z"
    },
    "papermill": {
     "duration": 0.644061,
     "end_time": "2025-03-30T11:29:06.798425",
     "exception": false,
     "start_time": "2025-03-30T11:29:06.154364",
     "status": "completed"
    },
    "tags": []
   },
   "outputs": [
    {
     "name": "stdout",
     "output_type": "stream",
     "text": [
      "GPU: [PhysicalDevice(name='/physical_device:GPU:0', device_type='GPU'), PhysicalDevice(name='/physical_device:GPU:1', device_type='GPU')]\n"
     ]
    }
   ],
   "source": [
    "#check gpu\n",
    "gpus = tf.config.list_physical_devices('GPU')\n",
    "if gpus:\n",
    "    print(\"GPU:\", gpus)\n",
    "    for gpu in gpus:\n",
    "        tf.config.experimental.set_memory_growth(gpu, True)\n",
    "else:\n",
    "    print(\"Cant find GPU, use CPU.\")"
   ]
  },
  {
   "cell_type": "code",
   "execution_count": 3,
   "id": "05d6de4a",
   "metadata": {
    "_cell_guid": "b1076dfc-b9ad-4769-8c92-a6c4dae69d19",
    "_uuid": "8f2839f25d086af736a60e9eeb907d3b93b6e0e5",
    "execution": {
     "iopub.execute_input": "2025-03-30T11:29:06.807760Z",
     "iopub.status.busy": "2025-03-30T11:29:06.807436Z",
     "iopub.status.idle": "2025-03-30T11:29:06.810378Z",
     "shell.execute_reply": "2025-03-30T11:29:06.809786Z"
    },
    "papermill": {
     "duration": 0.008826,
     "end_time": "2025-03-30T11:29:06.811633",
     "exception": false,
     "start_time": "2025-03-30T11:29:06.802807",
     "status": "completed"
    },
    "tags": []
   },
   "outputs": [],
   "source": [
    "data_dir = '/kaggle/input/inme-veri-seti-stroke-dataset/İNME VERİ SETİ'\n",
    "\n",
    "#for root, dirs, files in os.walk(data_dir):\n",
    "#    print(root, len(files), 'files')"
   ]
  },
  {
   "cell_type": "code",
   "execution_count": null,
   "id": "05b26f0f",
   "metadata": {
    "execution": {
     "iopub.execute_input": "2025-03-30T11:29:06.820591Z",
     "iopub.status.busy": "2025-03-30T11:29:06.820321Z",
     "iopub.status.idle": "2025-03-30T11:29:06.935807Z",
     "shell.execute_reply": "2025-03-30T11:29:06.935064Z"
    },
    "papermill": {
     "duration": 0.121252,
     "end_time": "2025-03-30T11:29:06.937000",
     "exception": false,
     "start_time": "2025-03-30T11:29:06.815748",
     "status": "completed"
    },
    "tags": []
   },
   "outputs": [
    {
     "name": "stdout",
     "output_type": "stream",
     "text": [
      "Count images: 6774\n",
      "Count labels: 6774\n"
     ]
    }
   ],
   "source": [
    "hermorrhage_png = glob.glob(os.path.join(data_dir, 'Kanama/PNG/*.png'))\n",
    "ischemia_png = glob.glob(os.path.join(data_dir, 'İskemi/PNG/*.png'))\n",
    "no_stroke_png = glob.glob(os.path.join(data_dir, 'İnme Yok/*.png')) \n",
    "\n",
    "images = []\n",
    "labels = []\n",
    "\n",
    "for img_path in hermorrhage_png:\n",
    "    images.append(img_path)\n",
    "    labels.append(1)  \n",
    "\n",
    "for img_path in ischemia_png:\n",
    "    images.append(img_path)\n",
    "    labels.append(1) \n",
    "\n",
    "for img_path in no_stroke_png:\n",
    "    images.append(img_path)\n",
    "    labels.append(0) \n",
    "\n",
    "print(f\"Count images: {len(images)}\")\n",
    "print(f\"Count labels: {len(labels)}\")"
   ]
  },
  {
   "cell_type": "code",
   "execution_count": 7,
   "id": "b8f083c9",
   "metadata": {
    "execution": {
     "iopub.execute_input": "2025-03-30T11:29:06.971899Z",
     "iopub.status.busy": "2025-03-30T11:29:06.971701Z",
     "iopub.status.idle": "2025-03-30T11:29:06.974952Z",
     "shell.execute_reply": "2025-03-30T11:29:06.974225Z"
    },
    "papermill": {
     "duration": 0.008829,
     "end_time": "2025-03-30T11:29:06.976034",
     "exception": false,
     "start_time": "2025-03-30T11:29:06.967205",
     "status": "completed"
    },
    "tags": []
   },
   "outputs": [],
   "source": [
    "IMG_SIZE = (224, 224)\n",
    "BATCH_SIZE = 32\n",
    "NUM_CLASSES = 1\n",
    "EPOCHS = 100"
   ]
  },
  {
   "cell_type": "code",
   "execution_count": 8,
   "id": "aa1319bd",
   "metadata": {
    "execution": {
     "iopub.execute_input": "2025-03-30T11:29:06.984827Z",
     "iopub.status.busy": "2025-03-30T11:29:06.984629Z",
     "iopub.status.idle": "2025-03-30T11:29:07.010240Z",
     "shell.execute_reply": "2025-03-30T11:29:07.009612Z"
    },
    "papermill": {
     "duration": 0.031422,
     "end_time": "2025-03-30T11:29:07.011570",
     "exception": false,
     "start_time": "2025-03-30T11:29:06.980148",
     "status": "completed"
    },
    "tags": []
   },
   "outputs": [],
   "source": [
    "data_df = pd.DataFrame({\n",
    "    'filename': images,\n",
    "    'class': labels\n",
    "})\n",
    "data_df['class'] = data_df['class'].astype(str) \n",
    "\n",
    "train_df, val_df = train_test_split(\n",
    "    data_df,\n",
    "    test_size=0.20, \n",
    "    stratify=data_df['class'], \n",
    "    random_state=42  \n",
    ")"
   ]
  },
  {
   "cell_type": "code",
   "execution_count": 9,
   "id": "d322a877",
   "metadata": {
    "execution": {
     "iopub.execute_input": "2025-03-30T11:29:07.020629Z",
     "iopub.status.busy": "2025-03-30T11:29:07.020393Z",
     "iopub.status.idle": "2025-03-30T11:29:07.025902Z",
     "shell.execute_reply": "2025-03-30T11:29:07.025247Z"
    },
    "papermill": {
     "duration": 0.011242,
     "end_time": "2025-03-30T11:29:07.027043",
     "exception": false,
     "start_time": "2025-03-30T11:29:07.015801",
     "status": "completed"
    },
    "tags": []
   },
   "outputs": [],
   "source": [
    "def parse_image(filename):\n",
    "    image = tf.io.read_file(filename)\n",
    "    image = tf.image.decode_png(image, channels=3) \n",
    "    image = tf.image.convert_image_dtype(image, tf.float32)\n",
    "    image = tf.image.resize(image, [IMG_SIZE[0], IMG_SIZE[1]])\n",
    "    return image\n",
    "\n",
    "def configure_for_performance(ds, batch_size):\n",
    "    ds = ds.cache() \n",
    "    ds = ds.shuffle(buffer_size=1000) \n",
    "    ds = ds.batch(batch_size)\n",
    "    ds = ds.prefetch(buffer_size=tf.data.AUTOTUNE) \n",
    "    return ds\n",
    "\n",
    "def create_dataset_val_test(df, batch_size):\n",
    "    list_ds = tf.data.Dataset.from_tensor_slices((df['filename'].values, df['class'].astype(int).values))\n",
    "\n",
    "    ds = list_ds.map(lambda filename, label: (parse_image(filename), tf.cast(label, tf.float32)),\n",
    "                     num_parallel_calls=tf.data.AUTOTUNE)\n",
    "\n",
    "    ds = ds.cache() \n",
    "    ds = ds.batch(batch_size)\n",
    "    ds = ds.prefetch(buffer_size=tf.data.AUTOTUNE)\n",
    "    return ds"
   ]
  },
  {
   "cell_type": "code",
   "execution_count": 10,
   "id": "57f1d768",
   "metadata": {
    "execution": {
     "iopub.execute_input": "2025-03-30T11:29:07.035989Z",
     "iopub.status.busy": "2025-03-30T11:29:07.035792Z",
     "iopub.status.idle": "2025-03-30T11:29:07.042062Z",
     "shell.execute_reply": "2025-03-30T11:29:07.041431Z"
    },
    "papermill": {
     "duration": 0.011965,
     "end_time": "2025-03-30T11:29:07.043271",
     "exception": false,
     "start_time": "2025-03-30T11:29:07.031306",
     "status": "completed"
    },
    "tags": []
   },
   "outputs": [],
   "source": [
    "class_weights = class_weight.compute_class_weight(\n",
    "    'balanced',\n",
    "    classes=np.unique(labels),\n",
    "    y=labels\n",
    ")\n",
    "class_weight_dict = dict(enumerate(class_weights))"
   ]
  },
  {
   "cell_type": "code",
   "execution_count": 11,
   "id": "5964e03e",
   "metadata": {
    "execution": {
     "iopub.execute_input": "2025-03-30T11:29:07.052172Z",
     "iopub.status.busy": "2025-03-30T11:29:07.051966Z",
     "iopub.status.idle": "2025-03-30T11:29:07.492207Z",
     "shell.execute_reply": "2025-03-30T11:29:07.491543Z"
    },
    "papermill": {
     "duration": 0.446473,
     "end_time": "2025-03-30T11:29:07.493817",
     "exception": false,
     "start_time": "2025-03-30T11:29:07.047344",
     "status": "completed"
    },
    "tags": []
   },
   "outputs": [],
   "source": [
    "def map_train_basic(filename, label, weight):\n",
    "    image = parse_image(filename)\n",
    "    label = tf.cast(label, tf.float32)\n",
    "    weight = tf.cast(weight, tf.float32)\n",
    "    return image, label, weight\n",
    "\n",
    "def get_sample_weights(labels, class_weight_mapping):\n",
    "    weights = np.ones(len(labels))\n",
    "    for i, label in enumerate(labels):\n",
    "        if label in class_weight_mapping:\n",
    "            weights[i] = class_weight_mapping[label]\n",
    "    return weights\n",
    "\n",
    "sample_weights_train = get_sample_weights(train_df['class'].astype(int).values,\n",
    "                                          class_weight_dict).astype(np.float32)\n",
    "\n",
    "train_list_ds = tf.data.Dataset.from_tensor_slices(\n",
    "    (train_df['filename'].values, train_df['class'].astype(int).values, sample_weights_train))\n",
    "train_ds_basic_mapped = train_list_ds.map(map_train_basic, num_parallel_calls=tf.data.AUTOTUNE)\n",
    "train_ds_with_weights = configure_for_performance(train_ds_basic_mapped, BATCH_SIZE) \n",
    "\n",
    "val_ds = create_dataset_val_test(val_df, BATCH_SIZE)"
   ]
  },
  {
   "cell_type": "code",
   "execution_count": 12,
   "id": "979de2fa",
   "metadata": {
    "execution": {
     "iopub.execute_input": "2025-03-30T11:29:07.503370Z",
     "iopub.status.busy": "2025-03-30T11:29:07.503147Z",
     "iopub.status.idle": "2025-03-30T11:29:07.506899Z",
     "shell.execute_reply": "2025-03-30T11:29:07.506255Z"
    },
    "papermill": {
     "duration": 0.009667,
     "end_time": "2025-03-30T11:29:07.508056",
     "exception": false,
     "start_time": "2025-03-30T11:29:07.498389",
     "status": "completed"
    },
    "tags": []
   },
   "outputs": [],
   "source": [
    "lr_scheduler = ReduceLROnPlateau(\n",
    "    monitor='val_loss', \n",
    "    factor=0.7,          \n",
    "    patience=5,          \n",
    "    verbose=1,           \n",
    "    min_lr=1e-8          \n",
    ")\n",
    "\n",
    "early_stopper = EarlyStopping(\n",
    "    monitor='val_loss',  \n",
    "    patience=7,         \n",
    "    verbose=1,           \n",
    "    restore_best_weights=True,  \n",
    "    min_delta=0\n",
    ")\n",
    "\n",
    "callbacks_list = [lr_scheduler, early_stopper]"
   ]
  },
  {
   "cell_type": "code",
   "execution_count": 13,
   "id": "bfe8e53e",
   "metadata": {
    "execution": {
     "iopub.execute_input": "2025-03-30T11:29:07.518002Z",
     "iopub.status.busy": "2025-03-30T11:29:07.517794Z",
     "iopub.status.idle": "2025-03-30T11:29:10.077994Z",
     "shell.execute_reply": "2025-03-30T11:29:10.077161Z"
    },
    "papermill": {
     "duration": 2.566544,
     "end_time": "2025-03-30T11:29:10.079663",
     "exception": false,
     "start_time": "2025-03-30T11:29:07.513119",
     "status": "completed"
    },
    "tags": []
   },
   "outputs": [
    {
     "name": "stdout",
     "output_type": "stream",
     "text": [
      "Downloading data from https://storage.googleapis.com/tensorflow/keras-applications/mobilenet_v2/mobilenet_v2_weights_tf_dim_ordering_tf_kernels_1.0_224_no_top.h5\n",
      "\u001b[1m9406464/9406464\u001b[0m \u001b[32m━━━━━━━━━━━━━━━━━━━━\u001b[0m\u001b[37m\u001b[0m \u001b[1m0s\u001b[0m 0us/step\n"
     ]
    }
   ],
   "source": [
    "base_model = MobileNetV2(weights='imagenet', include_top=False, input_shape=(224, 224, 3))\n",
    "base_model.trainable = True\n",
    "\n",
    "for layer in base_model.layers[:50]:\n",
    "    layer.trainable = False\n",
    "\n",
    "model = models.Sequential([\n",
    "    base_model,\n",
    "    layers.GlobalAveragePooling2D(),\n",
    "    layers.Dense(128, activation='relu'),\n",
    "    layers.Dropout(0.3, name=\"dropout\"), \n",
    "    layers.Dense(NUM_CLASSES, activation='sigmoid')\n",
    "])\n",
    "\n",
    "model.compile(\n",
    "    optimizer=tf.keras.optimizers.Adam(learning_rate=5e-6),\n",
    "    loss='binary_crossentropy',\n",
    "    metrics=['accuracy']\n",
    ")"
   ]
  },
  {
   "cell_type": "code",
   "execution_count": 14,
   "id": "35a16660",
   "metadata": {
    "execution": {
     "iopub.execute_input": "2025-03-30T11:29:10.089556Z",
     "iopub.status.busy": "2025-03-30T11:29:10.089269Z",
     "iopub.status.idle": "2025-03-30T11:36:46.673545Z",
     "shell.execute_reply": "2025-03-30T11:36:46.672470Z"
    },
    "papermill": {
     "duration": 456.590878,
     "end_time": "2025-03-30T11:36:46.675201",
     "exception": false,
     "start_time": "2025-03-30T11:29:10.084323",
     "status": "completed"
    },
    "tags": []
   },
   "outputs": [
    {
     "name": "stdout",
     "output_type": "stream",
     "text": [
      "Epoch 1/100\n",
      "\u001b[1m170/170\u001b[0m \u001b[32m━━━━━━━━━━━━━━━━━━━━\u001b[0m\u001b[37m\u001b[0m \u001b[1m75s\u001b[0m 227ms/step - accuracy: 0.5315 - loss: 0.6959 - val_accuracy: 0.6339 - val_loss: 0.6467 - learning_rate: 5.0000e-06\n",
      "Epoch 2/100\n",
      "\u001b[1m170/170\u001b[0m \u001b[32m━━━━━━━━━━━━━━━━━━━━\u001b[0m\u001b[37m\u001b[0m \u001b[1m11s\u001b[0m 63ms/step - accuracy: 0.7233 - loss: 0.5218 - val_accuracy: 0.6841 - val_loss: 0.5902 - learning_rate: 5.0000e-06\n",
      "Epoch 3/100\n",
      "\u001b[1m170/170\u001b[0m \u001b[32m━━━━━━━━━━━━━━━━━━━━\u001b[0m\u001b[37m\u001b[0m \u001b[1m11s\u001b[0m 63ms/step - accuracy: 0.8065 - loss: 0.4378 - val_accuracy: 0.7402 - val_loss: 0.5265 - learning_rate: 5.0000e-06\n",
      "Epoch 4/100\n",
      "\u001b[1m170/170\u001b[0m \u001b[32m━━━━━━━━━━━━━━━━━━━━\u001b[0m\u001b[37m\u001b[0m \u001b[1m11s\u001b[0m 64ms/step - accuracy: 0.8368 - loss: 0.3824 - val_accuracy: 0.7919 - val_loss: 0.4611 - learning_rate: 5.0000e-06\n",
      "Epoch 5/100\n",
      "\u001b[1m170/170\u001b[0m \u001b[32m━━━━━━━━━━━━━━━━━━━━\u001b[0m\u001b[37m\u001b[0m \u001b[1m11s\u001b[0m 65ms/step - accuracy: 0.8625 - loss: 0.3357 - val_accuracy: 0.8280 - val_loss: 0.3997 - learning_rate: 5.0000e-06\n",
      "Epoch 6/100\n",
      "\u001b[1m170/170\u001b[0m \u001b[32m━━━━━━━━━━━━━━━━━━━━\u001b[0m\u001b[37m\u001b[0m \u001b[1m11s\u001b[0m 64ms/step - accuracy: 0.8843 - loss: 0.2936 - val_accuracy: 0.8502 - val_loss: 0.3561 - learning_rate: 5.0000e-06\n",
      "Epoch 7/100\n",
      "\u001b[1m170/170\u001b[0m \u001b[32m━━━━━━━━━━━━━━━━━━━━\u001b[0m\u001b[37m\u001b[0m \u001b[1m11s\u001b[0m 65ms/step - accuracy: 0.8946 - loss: 0.2651 - val_accuracy: 0.8649 - val_loss: 0.3275 - learning_rate: 5.0000e-06\n",
      "Epoch 8/100\n",
      "\u001b[1m170/170\u001b[0m \u001b[32m━━━━━━━━━━━━━━━━━━━━\u001b[0m\u001b[37m\u001b[0m \u001b[1m11s\u001b[0m 66ms/step - accuracy: 0.9044 - loss: 0.2533 - val_accuracy: 0.8701 - val_loss: 0.3051 - learning_rate: 5.0000e-06\n",
      "Epoch 9/100\n",
      "\u001b[1m170/170\u001b[0m \u001b[32m━━━━━━━━━━━━━━━━━━━━\u001b[0m\u001b[37m\u001b[0m \u001b[1m11s\u001b[0m 66ms/step - accuracy: 0.9235 - loss: 0.2132 - val_accuracy: 0.8841 - val_loss: 0.2889 - learning_rate: 5.0000e-06\n",
      "Epoch 10/100\n",
      "\u001b[1m170/170\u001b[0m \u001b[32m━━━━━━━━━━━━━━━━━━━━\u001b[0m\u001b[37m\u001b[0m \u001b[1m11s\u001b[0m 67ms/step - accuracy: 0.9317 - loss: 0.1888 - val_accuracy: 0.8923 - val_loss: 0.2707 - learning_rate: 5.0000e-06\n",
      "Epoch 11/100\n",
      "\u001b[1m170/170\u001b[0m \u001b[32m━━━━━━━━━━━━━━━━━━━━\u001b[0m\u001b[37m\u001b[0m \u001b[1m12s\u001b[0m 68ms/step - accuracy: 0.9365 - loss: 0.1730 - val_accuracy: 0.8937 - val_loss: 0.2557 - learning_rate: 5.0000e-06\n",
      "Epoch 12/100\n",
      "\u001b[1m170/170\u001b[0m \u001b[32m━━━━━━━━━━━━━━━━━━━━\u001b[0m\u001b[37m\u001b[0m \u001b[1m12s\u001b[0m 68ms/step - accuracy: 0.9536 - loss: 0.1459 - val_accuracy: 0.9070 - val_loss: 0.2383 - learning_rate: 5.0000e-06\n",
      "Epoch 13/100\n",
      "\u001b[1m170/170\u001b[0m \u001b[32m━━━━━━━━━━━━━━━━━━━━\u001b[0m\u001b[37m\u001b[0m \u001b[1m11s\u001b[0m 66ms/step - accuracy: 0.9595 - loss: 0.1274 - val_accuracy: 0.9107 - val_loss: 0.2294 - learning_rate: 5.0000e-06\n",
      "Epoch 14/100\n",
      "\u001b[1m170/170\u001b[0m \u001b[32m━━━━━━━━━━━━━━━━━━━━\u001b[0m\u001b[37m\u001b[0m \u001b[1m11s\u001b[0m 65ms/step - accuracy: 0.9609 - loss: 0.1200 - val_accuracy: 0.9129 - val_loss: 0.2179 - learning_rate: 5.0000e-06\n",
      "Epoch 15/100\n",
      "\u001b[1m170/170\u001b[0m \u001b[32m━━━━━━━━━━━━━━━━━━━━\u001b[0m\u001b[37m\u001b[0m \u001b[1m11s\u001b[0m 65ms/step - accuracy: 0.9696 - loss: 0.1050 - val_accuracy: 0.9166 - val_loss: 0.2096 - learning_rate: 5.0000e-06\n",
      "Epoch 16/100\n",
      "\u001b[1m170/170\u001b[0m \u001b[32m━━━━━━━━━━━━━━━━━━━━\u001b[0m\u001b[37m\u001b[0m \u001b[1m11s\u001b[0m 67ms/step - accuracy: 0.9763 - loss: 0.0900 - val_accuracy: 0.9210 - val_loss: 0.1976 - learning_rate: 5.0000e-06\n",
      "Epoch 17/100\n",
      "\u001b[1m170/170\u001b[0m \u001b[32m━━━━━━━━━━━━━━━━━━━━\u001b[0m\u001b[37m\u001b[0m \u001b[1m11s\u001b[0m 67ms/step - accuracy: 0.9842 - loss: 0.0720 - val_accuracy: 0.9255 - val_loss: 0.1881 - learning_rate: 5.0000e-06\n",
      "Epoch 18/100\n",
      "\u001b[1m170/170\u001b[0m \u001b[32m━━━━━━━━━━━━━━━━━━━━\u001b[0m\u001b[37m\u001b[0m \u001b[1m11s\u001b[0m 67ms/step - accuracy: 0.9816 - loss: 0.0641 - val_accuracy: 0.9262 - val_loss: 0.1832 - learning_rate: 5.0000e-06\n",
      "Epoch 19/100\n",
      "\u001b[1m170/170\u001b[0m \u001b[32m━━━━━━━━━━━━━━━━━━━━\u001b[0m\u001b[37m\u001b[0m \u001b[1m11s\u001b[0m 66ms/step - accuracy: 0.9841 - loss: 0.0572 - val_accuracy: 0.9284 - val_loss: 0.1772 - learning_rate: 5.0000e-06\n",
      "Epoch 20/100\n",
      "\u001b[1m170/170\u001b[0m \u001b[32m━━━━━━━━━━━━━━━━━━━━\u001b[0m\u001b[37m\u001b[0m \u001b[1m11s\u001b[0m 67ms/step - accuracy: 0.9902 - loss: 0.0476 - val_accuracy: 0.9328 - val_loss: 0.1751 - learning_rate: 5.0000e-06\n",
      "Epoch 21/100\n",
      "\u001b[1m170/170\u001b[0m \u001b[32m━━━━━━━━━━━━━━━━━━━━\u001b[0m\u001b[37m\u001b[0m \u001b[1m11s\u001b[0m 67ms/step - accuracy: 0.9912 - loss: 0.0433 - val_accuracy: 0.9343 - val_loss: 0.1692 - learning_rate: 5.0000e-06\n",
      "Epoch 22/100\n",
      "\u001b[1m170/170\u001b[0m \u001b[32m━━━━━━━━━━━━━━━━━━━━\u001b[0m\u001b[37m\u001b[0m \u001b[1m11s\u001b[0m 65ms/step - accuracy: 0.9908 - loss: 0.0381 - val_accuracy: 0.9328 - val_loss: 0.1706 - learning_rate: 5.0000e-06\n",
      "Epoch 23/100\n",
      "\u001b[1m170/170\u001b[0m \u001b[32m━━━━━━━━━━━━━━━━━━━━\u001b[0m\u001b[37m\u001b[0m \u001b[1m11s\u001b[0m 66ms/step - accuracy: 0.9924 - loss: 0.0326 - val_accuracy: 0.9365 - val_loss: 0.1668 - learning_rate: 5.0000e-06\n",
      "Epoch 24/100\n",
      "\u001b[1m170/170\u001b[0m \u001b[32m━━━━━━━━━━━━━━━━━━━━\u001b[0m\u001b[37m\u001b[0m \u001b[1m11s\u001b[0m 66ms/step - accuracy: 0.9951 - loss: 0.0296 - val_accuracy: 0.9402 - val_loss: 0.1630 - learning_rate: 5.0000e-06\n",
      "Epoch 25/100\n",
      "\u001b[1m170/170\u001b[0m \u001b[32m━━━━━━━━━━━━━━━━━━━━\u001b[0m\u001b[37m\u001b[0m \u001b[1m11s\u001b[0m 66ms/step - accuracy: 0.9961 - loss: 0.0235 - val_accuracy: 0.9410 - val_loss: 0.1619 - learning_rate: 5.0000e-06\n",
      "Epoch 26/100\n",
      "\u001b[1m170/170\u001b[0m \u001b[32m━━━━━━━━━━━━━━━━━━━━\u001b[0m\u001b[37m\u001b[0m \u001b[1m11s\u001b[0m 66ms/step - accuracy: 0.9957 - loss: 0.0207 - val_accuracy: 0.9410 - val_loss: 0.1638 - learning_rate: 5.0000e-06\n",
      "Epoch 27/100\n",
      "\u001b[1m170/170\u001b[0m \u001b[32m━━━━━━━━━━━━━━━━━━━━\u001b[0m\u001b[37m\u001b[0m \u001b[1m11s\u001b[0m 66ms/step - accuracy: 0.9976 - loss: 0.0188 - val_accuracy: 0.9461 - val_loss: 0.1620 - learning_rate: 5.0000e-06\n",
      "Epoch 28/100\n",
      "\u001b[1m170/170\u001b[0m \u001b[32m━━━━━━━━━━━━━━━━━━━━\u001b[0m\u001b[37m\u001b[0m \u001b[1m11s\u001b[0m 66ms/step - accuracy: 0.9983 - loss: 0.0149 - val_accuracy: 0.9476 - val_loss: 0.1607 - learning_rate: 5.0000e-06\n",
      "Epoch 29/100\n",
      "\u001b[1m170/170\u001b[0m \u001b[32m━━━━━━━━━━━━━━━━━━━━\u001b[0m\u001b[37m\u001b[0m \u001b[1m11s\u001b[0m 66ms/step - accuracy: 0.9971 - loss: 0.0157 - val_accuracy: 0.9469 - val_loss: 0.1621 - learning_rate: 5.0000e-06\n",
      "Epoch 30/100\n",
      "\u001b[1m170/170\u001b[0m \u001b[32m━━━━━━━━━━━━━━━━━━━━\u001b[0m\u001b[37m\u001b[0m \u001b[1m11s\u001b[0m 66ms/step - accuracy: 0.9980 - loss: 0.0145 - val_accuracy: 0.9454 - val_loss: 0.1682 - learning_rate: 5.0000e-06\n",
      "Epoch 31/100\n",
      "\u001b[1m170/170\u001b[0m \u001b[32m━━━━━━━━━━━━━━━━━━━━\u001b[0m\u001b[37m\u001b[0m \u001b[1m11s\u001b[0m 66ms/step - accuracy: 0.9969 - loss: 0.0155 - val_accuracy: 0.9469 - val_loss: 0.1641 - learning_rate: 5.0000e-06\n",
      "Epoch 32/100\n",
      "\u001b[1m170/170\u001b[0m \u001b[32m━━━━━━━━━━━━━━━━━━━━\u001b[0m\u001b[37m\u001b[0m \u001b[1m11s\u001b[0m 66ms/step - accuracy: 0.9992 - loss: 0.0097 - val_accuracy: 0.9461 - val_loss: 0.1638 - learning_rate: 5.0000e-06\n",
      "Epoch 33/100\n",
      "\u001b[1m169/170\u001b[0m \u001b[32m━━━━━━━━━━━━━━━━━━━\u001b[0m\u001b[37m━\u001b[0m \u001b[1m0s\u001b[0m 59ms/step - accuracy: 0.9975 - loss: 0.0117\n",
      "Epoch 33: ReduceLROnPlateau reducing learning rate to 3.4999999115825627e-06.\n",
      "\u001b[1m170/170\u001b[0m \u001b[32m━━━━━━━━━━━━━━━━━━━━\u001b[0m\u001b[37m\u001b[0m \u001b[1m11s\u001b[0m 66ms/step - accuracy: 0.9975 - loss: 0.0117 - val_accuracy: 0.9461 - val_loss: 0.1641 - learning_rate: 5.0000e-06\n",
      "Epoch 34/100\n",
      "\u001b[1m170/170\u001b[0m \u001b[32m━━━━━━━━━━━━━━━━━━━━\u001b[0m\u001b[37m\u001b[0m \u001b[1m11s\u001b[0m 66ms/step - accuracy: 0.9996 - loss: 0.0106 - val_accuracy: 0.9461 - val_loss: 0.1642 - learning_rate: 3.5000e-06\n",
      "Epoch 35/100\n",
      "\u001b[1m170/170\u001b[0m \u001b[32m━━━━━━━━━━━━━━━━━━━━\u001b[0m\u001b[37m\u001b[0m \u001b[1m11s\u001b[0m 66ms/step - accuracy: 1.0000 - loss: 0.0059 - val_accuracy: 0.9491 - val_loss: 0.1640 - learning_rate: 3.5000e-06\n",
      "Epoch 35: early stopping\n",
      "Restoring model weights from the end of the best epoch: 28.\n"
     ]
    }
   ],
   "source": [
    "history = model.fit(\n",
    "    train_ds_with_weights,\n",
    "    epochs=EPOCHS,\n",
    "    validation_data=val_ds,\n",
    "    callbacks=callbacks_list\n",
    ")"
   ]
  },
  {
   "cell_type": "code",
   "execution_count": 15,
   "id": "b7b287b4",
   "metadata": {
    "execution": {
     "iopub.execute_input": "2025-03-30T11:36:47.244731Z",
     "iopub.status.busy": "2025-03-30T11:36:47.244344Z",
     "iopub.status.idle": "2025-03-30T11:36:47.750422Z",
     "shell.execute_reply": "2025-03-30T11:36:47.749558Z"
    },
    "papermill": {
     "duration": 0.792572,
     "end_time": "2025-03-30T11:36:47.751871",
     "exception": false,
     "start_time": "2025-03-30T11:36:46.959299",
     "status": "completed"
    },
    "tags": []
   },
   "outputs": [
    {
     "name": "stdout",
     "output_type": "stream",
     "text": [
      "Model is saved in Keras v3 format (.keras)\n"
     ]
    }
   ],
   "source": [
    "model.save('/kaggle/working/mobilenetv2_stroke_classifier.keras') \n",
    "print(\"Model is saved in Keras v3 format (.keras)\")"
   ]
  },
  {
   "cell_type": "code",
   "execution_count": 16,
   "id": "ea0abe27",
   "metadata": {
    "execution": {
     "iopub.execute_input": "2025-03-30T11:36:48.347571Z",
     "iopub.status.busy": "2025-03-30T11:36:48.347192Z",
     "iopub.status.idle": "2025-03-30T11:36:48.621604Z",
     "shell.execute_reply": "2025-03-30T11:36:48.620775Z"
    },
    "papermill": {
     "duration": 0.59399,
     "end_time": "2025-03-30T11:36:48.622966",
     "exception": false,
     "start_time": "2025-03-30T11:36:48.028976",
     "status": "completed"
    },
    "tags": []
   },
   "outputs": [
    {
     "data": {
      "image/png": "[encoded data removed]",
      "text/plain": [
       "<Figure size 800x500 with 1 Axes>"
      ]
     },
     "metadata": {},
     "output_type": "display_data"
    }
   ],
   "source": [
    "history_dict = history.history\n",
    "\n",
    "loss = history_dict['loss']\n",
    "val_loss = history_dict['val_loss']\n",
    "\n",
    "actual_epochs = len(loss)\n",
    "epochs_range = range(actual_epochs)\n",
    "\n",
    "plt.figure(figsize=(8, 5)) \n",
    "plt.plot(epochs_range, loss, label='Training Loss')\n",
    "plt.plot(epochs_range, val_loss, label='Validation Loss')\n",
    "\n",
    "best_epoch = np.argmin(val_loss)\n",
    "plt.scatter(best_epoch, val_loss[best_epoch], s=100, c='red', marker='x', label=f'Best val_loss (Epoch {best_epoch+1})')\n",
    "\n",
    "plt.xlabel('Epochs')\n",
    "plt.ylabel('Loss')\n",
    "plt.title('Training and Validation Loss')\n",
    "plt.legend(loc='upper right') \n",
    "plt.grid(True)\n",
    "plt.show()"
   ]
  },
  {
   "cell_type": "code",
   "execution_count": 17,
   "id": "3ea49e4a",
   "metadata": {
    "execution": {
     "iopub.execute_input": "2025-03-30T11:36:49.184052Z",
     "iopub.status.busy": "2025-03-30T11:36:49.183699Z",
     "iopub.status.idle": "2025-03-30T11:36:56.948060Z",
     "shell.execute_reply": "2025-03-30T11:36:56.947133Z"
    },
    "papermill": {
     "duration": 8.045369,
     "end_time": "2025-03-30T11:36:56.949577",
     "exception": false,
     "start_time": "2025-03-30T11:36:48.904208",
     "status": "completed"
    },
    "tags": []
   },
   "outputs": [
    {
     "name": "stdout",
     "output_type": "stream",
     "text": [
      "\u001b[1m43/43\u001b[0m \u001b[32m━━━━━━━━━━━━━━━━━━━━\u001b[0m\u001b[37m\u001b[0m \u001b[1m8s\u001b[0m 119ms/step\n",
      "Predictions count: 1355, True labels count: 1355\n",
      "Calculating Precision, Recall, and Thresholds...\n",
      "\n",
      "Best F1-score Threshold: 0.4659\n",
      "  - F1-score: 0.9196\n",
      "  - Precision at this threshold: 0.9269\n",
      "  - Recall at this threshold: 0.9124\n",
      "\n",
      "Suggested Threshold for Recall >= 0.85: 0.4659\n",
      "  - Precision at this threshold: 0.9269\n",
      "  - Actual Recall at this threshold: 0.9124\n",
      "  - F1-score at this threshold: 0.9196\n"
     ]
    }
   ],
   "source": [
    "val_ds_for_predict = create_dataset_val_test(val_df, BATCH_SIZE) \n",
    "y_pred_proba_val = model.predict(val_ds_for_predict)\n",
    "\n",
    "y_true_val = val_df['class'].astype(int).values\n",
    "print(f\"Predictions count: {len(y_pred_proba_val)}, True labels count: {len(y_true_val)}\")\n",
    "\n",
    "if len(y_pred_proba_val) != len(y_true_val):\n",
    "    print(f\"Warning: Predictions count ({len(y_pred_proba_val)}) does not match true labels count ({len(y_true_val)}). Possibly due to drop_remainder=True.\")\n",
    "    y_true_val = y_true_val[:len(y_pred_proba_val)]\n",
    "    print(f\"True labels count adjusted to: {len(y_true_val)}\")\n",
    "\n",
    "# calculate Precision, Recall, and Thresholds \n",
    "print(\"Calculating Precision, Recall, and Thresholds...\")\n",
    "precision, recall, thresholds = precision_recall_curve(y_true_val, y_pred_proba_val)\n",
    "\n",
    "# calculate F1 score and find the Optimal Threshold \n",
    "f1_scores = np.array([2 * (p * r) / (p + r) if (p + r) > 0 else 0 for p, r in zip(precision[:-1], recall[:-1])])\n",
    "\n",
    "best_f1_idx = np.argmax(f1_scores)\n",
    "if best_f1_idx >= len(thresholds):\n",
    "     best_f1_idx = len(thresholds) - 1\n",
    "\n",
    "best_threshold_f1 = thresholds[best_f1_idx]\n",
    "best_f1 = f1_scores[best_f1_idx]\n",
    "best_precision_f1 = precision[best_f1_idx]\n",
    "best_recall_f1 = recall[best_f1_idx]\n",
    "\n",
    "print(f\"\\nBest F1-score Threshold: {best_threshold_f1:.4f}\")\n",
    "print(f\"  - F1-score: {best_f1:.4f}\")\n",
    "print(f\"  - Precision at this threshold: {best_precision_f1:.4f}\")\n",
    "print(f\"  - Recall at this threshold: {best_recall_f1:.4f}\")\n",
    "\n",
    "target_recall = 0.85\n",
    "recall_indices = np.where(recall[:-1] >= target_recall)[0]\n",
    "\n",
    "if len(recall_indices) > 0:\n",
    "    best_f1_for_recall_local_idx = np.argmax(f1_scores[recall_indices])\n",
    "    best_threshold_recall_idx_global = recall_indices[best_f1_for_recall_local_idx]\n",
    "\n",
    "    if best_threshold_recall_idx_global >= len(thresholds):\n",
    "        best_threshold_recall_idx_global = len(thresholds) - 1\n",
    "\n",
    "    best_threshold_recall = thresholds[best_threshold_recall_idx_global]\n",
    "    best_precision_recall = precision[best_threshold_recall_idx_global]\n",
    "    actual_recall_recall = recall[best_threshold_recall_idx_global]\n",
    "    f1_recall = f1_scores[best_threshold_recall_idx_global]\n",
    "\n",
    "    print(f\"\\nSuggested Threshold for Recall >= {target_recall}: {best_threshold_recall:.4f}\")\n",
    "    print(f\"  - Precision at this threshold: {best_precision_recall:.4f}\")\n",
    "    print(f\"  - Actual Recall at this threshold: {actual_recall_recall:.4f}\")\n",
    "    print(f\"  - F1-score at this threshold: {f1_recall:.4f}\")\n",
    "else:\n",
    "    print(f\"\\nNo threshold found for Recall >= {target_recall}\")\n",
    "    best_threshold_recall = best_threshold_f1\n",
    "\n",
    "\n",
    "chosen_threshold = min(best_threshold_recall, 0.5)"
   ]
  },
  {
   "cell_type": "code",
   "execution_count": 18,
   "id": "901caf64",
   "metadata": {
    "execution": {
     "iopub.execute_input": "2025-03-30T11:36:57.558981Z",
     "iopub.status.busy": "2025-03-30T11:36:57.558658Z",
     "iopub.status.idle": "2025-03-30T11:36:58.105968Z",
     "shell.execute_reply": "2025-03-30T11:36:58.105097Z"
    },
    "papermill": {
     "duration": 0.872074,
     "end_time": "2025-03-30T11:36:58.107496",
     "exception": false,
     "start_time": "2025-03-30T11:36:57.235422",
     "status": "completed"
    },
    "tags": []
   },
   "outputs": [
    {
     "data": {
      "image/png": "[encoded data removed]",
      "text/plain": [
       "<Figure size 800x600 with 1 Axes>"
      ]
     },
     "metadata": {},
     "output_type": "display_data"
    }
   ],
   "source": [
    "pr_auc = auc(recall, precision)\n",
    "\n",
    "plt.figure(figsize=(8, 6))\n",
    "plt.plot(recall, precision, marker='.', label=f'PR Curve (AUC = {pr_auc:.2f})')\n",
    "plt.scatter(recall[best_f1_idx], precision[best_f1_idx], marker='o', s=100, color='red', label=f'Best F1 Threshold = {best_threshold_f1:.3f}\\n(P={best_precision_f1:.2f}, R={best_recall_f1:.2f})')\n",
    "\n",
    "if len(recall_indices) > 0:\n",
    "     plt.scatter(actual_recall_recall, best_precision_recall, marker='x', color='green', s=100, label=f'Target R ({target_recall}) Threshold = {best_threshold_recall:.3f}\\n(P={best_precision_recall:.2f}, R={actual_recall_recall:.2f})')\n",
    "\n",
    "plt.xlabel('Recall (Sensitivity)')\n",
    "plt.ylabel('Precision')\n",
    "plt.title('Precision-Recall Curve on Validation Set')\n",
    "plt.legend()\n",
    "plt.grid(True)\n",
    "plt.show()"
   ]
  },
  {
   "cell_type": "code",
   "execution_count": 19,
   "id": "69db0047",
   "metadata": {
    "execution": {
     "iopub.execute_input": "2025-03-30T11:36:58.680124Z",
     "iopub.status.busy": "2025-03-30T11:36:58.679798Z",
     "iopub.status.idle": "2025-03-30T11:36:58.868673Z",
     "shell.execute_reply": "2025-03-30T11:36:58.867802Z"
    },
    "papermill": {
     "duration": 0.477685,
     "end_time": "2025-03-30T11:36:58.870013",
     "exception": false,
     "start_time": "2025-03-30T11:36:58.392328",
     "status": "completed"
    },
    "tags": []
   },
   "outputs": [
    {
     "name": "stdout",
     "output_type": "stream",
     "text": [
      "\n",
      "Classification Report (Validation - Adjusted Threshold):\n",
      "               precision    recall  f1-score   support\n",
      "\n",
      "No Stroke (0)     0.9564    0.9648    0.9606       910\n",
      "   Stroke (1)     0.9268    0.9101    0.9184       445\n",
      "\n",
      "     accuracy                         0.9469      1355\n",
      "    macro avg     0.9416    0.9375    0.9395      1355\n",
      " weighted avg     0.9467    0.9469    0.9467      1355\n",
      "\n"
     ]
    },
    {
     "data": {
      "image/png": "[encoded data removed]",
      "text/plain": [
       "<Figure size 600x400 with 2 Axes>"
      ]
     },
     "metadata": {},
     "output_type": "display_data"
    }
   ],
   "source": [
    "y_pred_val_adjusted = (y_pred_proba_val.flatten() > chosen_threshold).astype(int)\n",
    "\n",
    "print(\"\\nClassification Report (Validation - Adjusted Threshold):\")\n",
    "print(classification_report(y_true_val, y_pred_val_adjusted, target_names=['No Stroke (0)', 'Stroke (1)'], digits = 4))\n",
    "\n",
    "cm_val_adjusted = confusion_matrix(y_true_val, y_pred_val_adjusted)\n",
    "plt.figure(figsize=(6, 4))\n",
    "sns.heatmap(cm_val_adjusted, annot=True, fmt='d', cmap='Blues',\n",
    "            xticklabels=['No Stroke (0)', 'Stroke (1)'],\n",
    "            yticklabels=['No Stroke (0)', 'Stroke (1)'])\n",
    "plt.title(f'Confusion Matrix (Validation - Threshold {chosen_threshold:.2f})')\n",
    "plt.xlabel('Predicted')\n",
    "plt.ylabel('True')\n",
    "plt.show()"
   ]
  },
  {
   "cell_type": "code",
   "execution_count": 20,
   "id": "5bf00ddb",
   "metadata": {
    "execution": {
     "iopub.execute_input": "2025-03-30T11:36:59.479796Z",
     "iopub.status.busy": "2025-03-30T11:36:59.479427Z",
     "iopub.status.idle": "2025-03-30T11:36:59.501030Z",
     "shell.execute_reply": "2025-03-30T11:36:59.500361Z"
    },
    "papermill": {
     "duration": 0.307775,
     "end_time": "2025-03-30T11:36:59.502286",
     "exception": false,
     "start_time": "2025-03-30T11:36:59.194511",
     "status": "completed"
    },
    "tags": []
   },
   "outputs": [],
   "source": [
    "png_files = glob.glob(os.path.join('/kaggle/input/inme-veri-seti-stroke-dataset/İNME VERİ SETİ/YarısmaVeriSeti_1_Oturum/PNG/*.png'))\n",
    "png_filenames = [os.path.basename(f) for f in png_files]  \n",
    "\n",
    "cevaplar_path = os.path.join('/kaggle/input/inme-veri-seti-stroke-dataset/İNME VERİ SETİ/YarısmaVeriSeti_1_Oturum/ASAMA1_Cevaplar.txt')\n",
    "labels_dict = {}\n",
    "\n",
    "with open(cevaplar_path, 'r') as f:\n",
    "    lines = f.readlines()[1:]  \n",
    "    for line in lines:\n",
    "        parts = line.strip().split('\\t')\n",
    "        if len(parts) == 2:\n",
    "            image_id, label = parts\n",
    "            filename = f\"{image_id}.png\"\n",
    "            labels_dict[filename] = label"
   ]
  },
  {
   "cell_type": "code",
   "execution_count": 21,
   "id": "1379efc1",
   "metadata": {
    "execution": {
     "iopub.execute_input": "2025-03-30T11:37:00.067454Z",
     "iopub.status.busy": "2025-03-30T11:37:00.067154Z",
     "iopub.status.idle": "2025-03-30T11:37:00.073628Z",
     "shell.execute_reply": "2025-03-30T11:37:00.072658Z"
    },
    "papermill": {
     "duration": 0.287499,
     "end_time": "2025-03-30T11:37:00.074870",
     "exception": false,
     "start_time": "2025-03-30T11:36:59.787371",
     "status": "completed"
    },
    "tags": []
   },
   "outputs": [
    {
     "name": "stdout",
     "output_type": "stream",
     "text": [
      "sample in test_data: 200\n"
     ]
    }
   ],
   "source": [
    "test_images = []\n",
    "test_labels = []\n",
    "\n",
    "for png_file in png_files:\n",
    "    filename = os.path.basename(png_file)\n",
    "    if filename in labels_dict:\n",
    "        test_images.append(png_file)  \n",
    "        test_labels.append(labels_dict[filename])\n",
    "\n",
    "test_data = pd.DataFrame({\n",
    "    'filename': test_images,\n",
    "    'class': test_labels\n",
    "})\n",
    "test_data['class'] = test_data['class'].astype(str)\n",
    "\n",
    "print(\"sample in test_data:\", len(test_data))"
   ]
  },
  {
   "cell_type": "code",
   "execution_count": 22,
   "id": "aebce56e",
   "metadata": {
    "execution": {
     "iopub.execute_input": "2025-03-30T11:37:00.687105Z",
     "iopub.status.busy": "2025-03-30T11:37:00.686799Z",
     "iopub.status.idle": "2025-03-30T11:37:04.094771Z",
     "shell.execute_reply": "2025-03-30T11:37:04.093912Z"
    },
    "papermill": {
     "duration": 3.73548,
     "end_time": "2025-03-30T11:37:04.096289",
     "exception": false,
     "start_time": "2025-03-30T11:37:00.360809",
     "status": "completed"
    },
    "tags": []
   },
   "outputs": [
    {
     "name": "stdout",
     "output_type": "stream",
     "text": [
      "\u001b[1m7/7\u001b[0m \u001b[32m━━━━━━━━━━━━━━━━━━━━\u001b[0m\u001b[37m\u001b[0m \u001b[1m3s\u001b[0m 512ms/step\n",
      "Predictions count: 200, True labels count: 200\n",
      "Applying threshold: 0.47\n",
      "\n",
      "Classification Report on Test Set:\n",
      "               precision    recall  f1-score   support\n",
      "\n",
      "No Stroke (0)     0.9000    0.9692    0.9333       130\n",
      "   Stroke (1)     0.9333    0.8000    0.8615        70\n",
      "\n",
      "     accuracy                         0.9100       200\n",
      "    macro avg     0.9167    0.8846    0.8974       200\n",
      " weighted avg     0.9117    0.9100    0.9082       200\n",
      "\n"
     ]
    },
    {
     "data": {
      "image/png": "[encoded data removed]",
      "text/plain": [
       "<Figure size 600x400 with 2 Axes>"
      ]
     },
     "metadata": {},
     "output_type": "display_data"
    }
   ],
   "source": [
    "png_files = glob.glob(os.path.join('/kaggle/input/inme-veri-seti-stroke-dataset/İNME VERİ SETİ/YarısmaVeriSeti_1_Oturum/PNG/*.png'))\n",
    "png_filenames = [os.path.basename(f) for f in png_files]\n",
    "\n",
    "cevaplar_path = os.path.join('/kaggle/input/inme-veri-seti-stroke-dataset/İNME VERİ SETİ/YarısmaVeriSeti_1_Oturum/ASAMA1_Cevaplar.txt')\n",
    "labels_dict = {}\n",
    "\n",
    "with open(cevaplar_path, 'r', encoding='utf-8') as f:\n",
    "    lines = f.readlines()[1:] \n",
    "    for line in lines:\n",
    "        parts = [part.strip() for part in line.strip().split('\\t')]\n",
    "        if len(parts) == 2 and parts[0] and parts[1]: \n",
    "            image_id, label = parts\n",
    "            filename = f\"{image_id}.png\"\n",
    "            labels_dict[filename] = label\n",
    "\n",
    "test_images = []\n",
    "test_labels = []\n",
    "\n",
    "for png_file in png_files:\n",
    "    filename = os.path.basename(png_file)\n",
    "    if filename in labels_dict:\n",
    "        test_images.append(png_file)\n",
    "        test_labels.append(labels_dict[filename])\n",
    "\n",
    "test_data = pd.DataFrame({\n",
    "    'filename': test_images,\n",
    "    'class': test_labels\n",
    "})\n",
    "test_data['class'] = test_data['class'].astype(int)\n",
    "\n",
    "test_ds = create_dataset_val_test(test_data, BATCH_SIZE)\n",
    "\n",
    "y_pred_proba_test = model.predict(test_ds)\n",
    "\n",
    "y_true_test = test_data['class'].values\n",
    "print(f\"Predictions count: {len(y_pred_proba_test)}, True labels count: {len(y_true_test)}\")\n",
    "\n",
    "y_true_test = y_true_test[:len(y_pred_proba_test)]\n",
    "\n",
    "# Apply chosen threshold\n",
    "print(f\"Applying threshold: {chosen_threshold:.2f}\")\n",
    "y_pred_test = (y_pred_proba_test.flatten() > chosen_threshold).astype(int)\n",
    "\n",
    "print(\"\\nClassification Report on Test Set:\")\n",
    "if len(np.unique(y_true_test)) < 2 or len(np.unique(y_pred_test)) < 2:\n",
    "    cm_test = confusion_matrix(y_true_test, y_pred_test)\n",
    "    print(\"\\nConfusion Matrix on Test Set:\")\n",
    "    print(cm_test)\n",
    "else:\n",
    "    print(classification_report(y_true_test, y_pred_test, target_names=['No Stroke (0)', 'Stroke (1)'], digits = 4))\n",
    "\n",
    "cm_test = confusion_matrix(y_true_test, y_pred_test)\n",
    "plt.figure(figsize=(6, 4))\n",
    "sns.heatmap(cm_test, annot=True, fmt='d', cmap='Blues',\n",
    "            xticklabels=['No Stroke (0)', 'Stroke (1)'],\n",
    "            yticklabels=['No Stroke (0)', 'Stroke (1)'])\n",
    "plt.title(f'Confusion Matrix on Test set (Threshold {chosen_threshold:.2f})')\n",
    "plt.xlabel('Predicted')\n",
    "plt.ylabel('True')\n",
    "plt.show()"
   ]
  }
 ],
 "metadata": {
  "kaggle": {
   "accelerator": "nvidiaTeslaT4",
   "dataSources": [
    {
     "datasetId": 6652053,
     "sourceId": 10729545,
     "sourceType": "datasetVersion"
    }
   ],
   "dockerImageVersionId": 30918,
   "isGpuEnabled": true,
   "isInternetEnabled": true,
   "language": "python",
   "sourceType": "notebook"
  },
  "kernelspec": {
   "display_name": "Python 3",
   "language": "python",
   "name": "python3"
  },
  "language_info": {
   "codemirror_mode": {
    "name": "ipython",
    "version": 3
   },
   "file_extension": ".py",
   "mimetype": "text/x-python",
   "name": "python",
   "nbconvert_exporter": "python",
   "pygments_lexer": "ipython3",
   "version": "3.10.12"
  },
  "papermill": {
   "default_parameters": {},
   "duration": 498.036238,
   "end_time": "2025-03-30T11:37:08.323405",
   "environment_variables": {},
   "exception": null,
   "input_path": "__notebook__.ipynb",
   "output_path": "__notebook__.ipynb",
   "parameters": {},
   "start_time": "2025-03-30T11:28:50.287167",
   "version": "2.6.0"
  }
 },
 "nbformat": 4,
 "nbformat_minor": 5
}
