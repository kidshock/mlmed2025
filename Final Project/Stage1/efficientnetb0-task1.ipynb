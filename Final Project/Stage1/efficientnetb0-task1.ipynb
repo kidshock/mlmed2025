{
 "cells": [
  {
   "cell_type": "code",
   "execution_count": 1,
   "id": "e403d913",
   "metadata": {
    "execution": {
     "iopub.execute_input": "2025-03-30T08:04:47.893221Z",
     "iopub.status.busy": "2025-03-30T08:04:47.892938Z",
     "iopub.status.idle": "2025-03-30T08:05:01.290380Z",
     "shell.execute_reply": "2025-03-30T08:05:01.289687Z"
    },
    "papermill": {
     "duration": 13.404898,
     "end_time": "2025-03-30T08:05:01.291888",
     "exception": false,
     "start_time": "2025-03-30T08:04:47.886990",
     "status": "completed"
    },
    "tags": []
   },
   "outputs": [],
   "source": [
    "import os\n",
    "import glob\n",
    "import numpy as np\n",
    "import pandas as pd\n",
    "from PIL import Image\n",
    "import matplotlib.pyplot as plt\n",
    "import seaborn as sns\n",
    "import tensorflow as tf\n",
    "from tensorflow.keras.applications import EfficientNetB0\n",
    "from tensorflow.keras import layers, models\n",
    "from tensorflow.keras import regularizers\n",
    "from tensorflow.keras.preprocessing.image import ImageDataGenerator\n",
    "from tensorflow.keras.callbacks import ReduceLROnPlateau, EarlyStopping\n",
    "from sklearn.utils import class_weight\n",
    "from sklearn.model_selection import train_test_split\n",
    "from sklearn.metrics import (\n",
    "    precision_recall_curve,\n",
    "    auc,\n",
    "    f1_score,\n",
    "    classification_report,\n",
    "    confusion_matrix)"
   ]
  },
  {
   "cell_type": "code",
   "execution_count": 2,
   "id": "3025462e",
   "metadata": {
    "execution": {
     "iopub.execute_input": "2025-03-30T08:05:01.309011Z",
     "iopub.status.busy": "2025-03-30T08:05:01.308438Z",
     "iopub.status.idle": "2025-03-30T08:05:01.978006Z",
     "shell.execute_reply": "2025-03-30T08:05:01.977221Z"
    },
    "papermill": {
     "duration": 0.676257,
     "end_time": "2025-03-30T08:05:01.979304",
     "exception": false,
     "start_time": "2025-03-30T08:05:01.303047",
     "status": "completed"
    },
    "tags": []
   },
   "outputs": [
    {
     "name": "stdout",
     "output_type": "stream",
     "text": [
      "GPU: [PhysicalDevice(name='/physical_device:GPU:0', device_type='GPU'), PhysicalDevice(name='/physical_device:GPU:1', device_type='GPU')]\n"
     ]
    }
   ],
   "source": [
    "#check gpu\n",
    "gpus = tf.config.list_physical_devices('GPU')\n",
    "if gpus:\n",
    "    print(\"GPU:\", gpus)\n",
    "    for gpu in gpus:\n",
    "        tf.config.experimental.set_memory_growth(gpu, True)\n",
    "else:\n",
    "    print(\"Cant find GPU, use CPU.\")"
   ]
  },
  {
   "cell_type": "code",
   "execution_count": 3,
   "id": "81b7bcda",
   "metadata": {
    "_cell_guid": "b1076dfc-b9ad-4769-8c92-a6c4dae69d19",
    "_uuid": "8f2839f25d086af736a60e9eeb907d3b93b6e0e5",
    "execution": {
     "iopub.execute_input": "2025-03-30T08:05:01.988493Z",
     "iopub.status.busy": "2025-03-30T08:05:01.988259Z",
     "iopub.status.idle": "2025-03-30T08:05:01.991108Z",
     "shell.execute_reply": "2025-03-30T08:05:01.990502Z"
    },
    "papermill": {
     "duration": 0.008558,
     "end_time": "2025-03-30T08:05:01.992194",
     "exception": false,
     "start_time": "2025-03-30T08:05:01.983636",
     "status": "completed"
    },
    "tags": []
   },
   "outputs": [],
   "source": [
    "data_dir = '/kaggle/input/inme-veri-seti-stroke-dataset/İNME VERİ SETİ'\n",
    "\n",
    "#for root, dirs, files in os.walk(data_dir):\n",
    "#    print(root, len(files), 'files')"
   ]
  },
  {
   "cell_type": "code",
   "execution_count": null,
   "id": "04dbef0c",
   "metadata": {
    "execution": {
     "iopub.execute_input": "2025-03-30T08:05:02.000992Z",
     "iopub.status.busy": "2025-03-30T08:05:02.000768Z",
     "iopub.status.idle": "2025-03-30T08:05:02.300057Z",
     "shell.execute_reply": "2025-03-30T08:05:02.298894Z"
    },
    "papermill": {
     "duration": 0.305325,
     "end_time": "2025-03-30T08:05:02.301622",
     "exception": false,
     "start_time": "2025-03-30T08:05:01.996297",
     "status": "completed"
    },
    "tags": []
   },
   "outputs": [
    {
     "name": "stdout",
     "output_type": "stream",
     "text": [
      "Count images: 6774\n",
      "Count labels: 6774\n"
     ]
    }
   ],
   "source": [
    "hermorrhage_png = glob.glob(os.path.join(data_dir, 'Kanama/PNG/*.png'))\n",
    "ischemia_png = glob.glob(os.path.join(data_dir, 'İskemi/PNG/*.png'))\n",
    "no_stroke_png = glob.glob(os.path.join(data_dir, 'İnme Yok/*.png')) \n",
    "\n",
    "images = []\n",
    "labels = []\n",
    "\n",
    "for img_path in hermorrhage_png:\n",
    "    images.append(img_path)\n",
    "    labels.append(1)  \n",
    "\n",
    "for img_path in ischemia_png:\n",
    "    images.append(img_path)\n",
    "    labels.append(1) \n",
    "\n",
    "for img_path in no_stroke_png:\n",
    "    images.append(img_path)\n",
    "    labels.append(0) \n",
    "\n",
    "print(f\"Count images: {len(images)}\")\n",
    "print(f\"Count labels: {len(labels)}\")"
   ]
  },
  {
   "cell_type": "code",
   "execution_count": 7,
   "id": "5e697422",
   "metadata": {
    "execution": {
     "iopub.execute_input": "2025-03-30T08:05:02.344613Z",
     "iopub.status.busy": "2025-03-30T08:05:02.344356Z",
     "iopub.status.idle": "2025-03-30T08:05:02.347710Z",
     "shell.execute_reply": "2025-03-30T08:05:02.347067Z"
    },
    "papermill": {
     "duration": 0.010074,
     "end_time": "2025-03-30T08:05:02.349086",
     "exception": false,
     "start_time": "2025-03-30T08:05:02.339012",
     "status": "completed"
    },
    "tags": []
   },
   "outputs": [],
   "source": [
    "IMG_SIZE = (224, 224)\n",
    "BATCH_SIZE = 32\n",
    "NUM_CLASSES = 1\n",
    "EPOCHS = 100"
   ]
  },
  {
   "cell_type": "code",
   "execution_count": 8,
   "id": "7d27bbeb",
   "metadata": {
    "execution": {
     "iopub.execute_input": "2025-03-30T08:05:02.359400Z",
     "iopub.status.busy": "2025-03-30T08:05:02.359175Z",
     "iopub.status.idle": "2025-03-30T08:05:02.387976Z",
     "shell.execute_reply": "2025-03-30T08:05:02.387246Z"
    },
    "papermill": {
     "duration": 0.03546,
     "end_time": "2025-03-30T08:05:02.389317",
     "exception": false,
     "start_time": "2025-03-30T08:05:02.353857",
     "status": "completed"
    },
    "tags": []
   },
   "outputs": [],
   "source": [
    "data_df = pd.DataFrame({\n",
    "    'filename': images,\n",
    "    'class': labels\n",
    "})\n",
    "data_df['class'] = data_df['class'].astype(str) \n",
    "\n",
    "train_df, val_df = train_test_split(\n",
    "    data_df,\n",
    "    test_size=0.20, \n",
    "    stratify=data_df['class'], \n",
    "    random_state=42  \n",
    ")"
   ]
  },
  {
   "cell_type": "code",
   "execution_count": 9,
   "id": "fc0eda93",
   "metadata": {
    "execution": {
     "iopub.execute_input": "2025-03-30T08:05:02.398059Z",
     "iopub.status.busy": "2025-03-30T08:05:02.397863Z",
     "iopub.status.idle": "2025-03-30T08:05:02.403307Z",
     "shell.execute_reply": "2025-03-30T08:05:02.402717Z"
    },
    "papermill": {
     "duration": 0.010995,
     "end_time": "2025-03-30T08:05:02.404414",
     "exception": false,
     "start_time": "2025-03-30T08:05:02.393419",
     "status": "completed"
    },
    "tags": []
   },
   "outputs": [],
   "source": [
    "def parse_image(filename):\n",
    "    image = tf.io.read_file(filename)\n",
    "    image = tf.image.decode_png(image, channels=3) \n",
    "    image = tf.image.convert_image_dtype(image, tf.float32)\n",
    "    image = tf.image.resize(image, [IMG_SIZE[0], IMG_SIZE[1]])\n",
    "    return image\n",
    "\n",
    "def configure_for_performance(ds, batch_size):\n",
    "    ds = ds.cache() \n",
    "    ds = ds.shuffle(buffer_size=1000) \n",
    "    ds = ds.batch(batch_size)\n",
    "    ds = ds.prefetch(buffer_size=tf.data.AUTOTUNE) \n",
    "    return ds\n",
    "\n",
    "def create_dataset_val_test(df, batch_size):\n",
    "    list_ds = tf.data.Dataset.from_tensor_slices((df['filename'].values, df['class'].astype(int).values))\n",
    "\n",
    "    ds = list_ds.map(lambda filename, label: (parse_image(filename), tf.cast(label, tf.float32)),\n",
    "                     num_parallel_calls=tf.data.AUTOTUNE)\n",
    "\n",
    "    ds = ds.cache() \n",
    "    ds = ds.batch(batch_size)\n",
    "    ds = ds.prefetch(buffer_size=tf.data.AUTOTUNE)\n",
    "    return ds"
   ]
  },
  {
   "cell_type": "code",
   "execution_count": 10,
   "id": "ea2a1b41",
   "metadata": {
    "execution": {
     "iopub.execute_input": "2025-03-30T08:05:02.413126Z",
     "iopub.status.busy": "2025-03-30T08:05:02.412930Z",
     "iopub.status.idle": "2025-03-30T08:05:02.419226Z",
     "shell.execute_reply": "2025-03-30T08:05:02.418674Z"
    },
    "papermill": {
     "duration": 0.01187,
     "end_time": "2025-03-30T08:05:02.420388",
     "exception": false,
     "start_time": "2025-03-30T08:05:02.408518",
     "status": "completed"
    },
    "tags": []
   },
   "outputs": [],
   "source": [
    "class_weights = class_weight.compute_class_weight(\n",
    "    'balanced',\n",
    "    classes=np.unique(labels),\n",
    "    y=labels\n",
    ")\n",
    "class_weight_dict = dict(enumerate(class_weights))"
   ]
  },
  {
   "cell_type": "code",
   "execution_count": 11,
   "id": "e746b619",
   "metadata": {
    "execution": {
     "iopub.execute_input": "2025-03-30T08:05:02.429032Z",
     "iopub.status.busy": "2025-03-30T08:05:02.428831Z",
     "iopub.status.idle": "2025-03-30T08:05:02.864907Z",
     "shell.execute_reply": "2025-03-30T08:05:02.864110Z"
    },
    "papermill": {
     "duration": 0.44213,
     "end_time": "2025-03-30T08:05:02.866535",
     "exception": false,
     "start_time": "2025-03-30T08:05:02.424405",
     "status": "completed"
    },
    "tags": []
   },
   "outputs": [],
   "source": [
    "def map_train_basic(filename, label, weight):\n",
    "    image = parse_image(filename)\n",
    "    label = tf.cast(label, tf.float32)\n",
    "    weight = tf.cast(weight, tf.float32)\n",
    "    return image, label, weight\n",
    "\n",
    "def get_sample_weights(labels, class_weight_mapping):\n",
    "    weights = np.ones(len(labels))\n",
    "    for i, label in enumerate(labels):\n",
    "        if label in class_weight_mapping:\n",
    "            weights[i] = class_weight_mapping[label]\n",
    "    return weights\n",
    "\n",
    "sample_weights_train = get_sample_weights(train_df['class'].astype(int).values,\n",
    "                                          class_weight_dict).astype(np.float32)\n",
    "\n",
    "train_list_ds = tf.data.Dataset.from_tensor_slices(\n",
    "    (train_df['filename'].values, train_df['class'].astype(int).values, sample_weights_train))\n",
    "train_ds_basic_mapped = train_list_ds.map(map_train_basic, num_parallel_calls=tf.data.AUTOTUNE)\n",
    "train_ds_with_weights = configure_for_performance(train_ds_basic_mapped, BATCH_SIZE) \n",
    "\n",
    "val_ds = create_dataset_val_test(val_df, BATCH_SIZE)"
   ]
  },
  {
   "cell_type": "code",
   "execution_count": 12,
   "id": "03686006",
   "metadata": {
    "execution": {
     "iopub.execute_input": "2025-03-30T08:05:02.877571Z",
     "iopub.status.busy": "2025-03-30T08:05:02.877322Z",
     "iopub.status.idle": "2025-03-30T08:05:02.881529Z",
     "shell.execute_reply": "2025-03-30T08:05:02.880835Z"
    },
    "papermill": {
     "duration": 0.010986,
     "end_time": "2025-03-30T08:05:02.882835",
     "exception": false,
     "start_time": "2025-03-30T08:05:02.871849",
     "status": "completed"
    },
    "tags": []
   },
   "outputs": [],
   "source": [
    "lr_scheduler = ReduceLROnPlateau(\n",
    "    monitor='val_loss', \n",
    "    factor=0.7,          \n",
    "    patience=5,          \n",
    "    verbose=1,           \n",
    "    min_lr=1e-8          \n",
    ")\n",
    "\n",
    "early_stopper = EarlyStopping(\n",
    "    monitor='val_loss',  \n",
    "    patience=7,         \n",
    "    verbose=1,           \n",
    "    restore_best_weights=True,  \n",
    "    min_delta=0\n",
    ")\n",
    "\n",
    "callbacks_list = [lr_scheduler, early_stopper]"
   ]
  },
  {
   "cell_type": "code",
   "execution_count": 13,
   "id": "06ffbb4d",
   "metadata": {
    "execution": {
     "iopub.execute_input": "2025-03-30T08:05:02.893040Z",
     "iopub.status.busy": "2025-03-30T08:05:02.892768Z",
     "iopub.status.idle": "2025-03-30T08:05:05.804904Z",
     "shell.execute_reply": "2025-03-30T08:05:05.804249Z"
    },
    "papermill": {
     "duration": 2.918953,
     "end_time": "2025-03-30T08:05:05.806472",
     "exception": false,
     "start_time": "2025-03-30T08:05:02.887519",
     "status": "completed"
    },
    "tags": []
   },
   "outputs": [
    {
     "name": "stdout",
     "output_type": "stream",
     "text": [
      "Downloading data from https://storage.googleapis.com/keras-applications/efficientnetb0_notop.h5\n",
      "\u001b[1m16705208/16705208\u001b[0m \u001b[32m━━━━━━━━━━━━━━━━━━━━\u001b[0m\u001b[37m\u001b[0m \u001b[1m0s\u001b[0m 0us/step\n"
     ]
    }
   ],
   "source": [
    "base_model =  EfficientNetB0(weights='imagenet', include_top=False, input_shape=(224, 224, 3))\n",
    "base_model.trainable = True\n",
    "\n",
    "model = models.Sequential([\n",
    "    base_model,\n",
    "    layers.GlobalAveragePooling2D(),\n",
    "    layers.Dense(128, activation='relu'),\n",
    "    layers.Dropout(0.3, name=\"dropout\"), \n",
    "    layers.Dense(NUM_CLASSES, activation='sigmoid')\n",
    "])\n",
    "\n",
    "model.compile(\n",
    "    optimizer=tf.keras.optimizers.Adam(learning_rate=5e-6),\n",
    "    loss='binary_crossentropy',\n",
    "    metrics=['accuracy']\n",
    ")"
   ]
  },
  {
   "cell_type": "code",
   "execution_count": 14,
   "id": "e9e7cf1d",
   "metadata": {
    "execution": {
     "iopub.execute_input": "2025-03-30T08:05:05.816289Z",
     "iopub.status.busy": "2025-03-30T08:05:05.816061Z",
     "iopub.status.idle": "2025-03-30T08:36:10.723495Z",
     "shell.execute_reply": "2025-03-30T08:36:10.722795Z"
    },
    "papermill": {
     "duration": 1864.91382,
     "end_time": "2025-03-30T08:36:10.724871",
     "exception": false,
     "start_time": "2025-03-30T08:05:05.811051",
     "status": "completed"
    },
    "tags": []
   },
   "outputs": [
    {
     "name": "stdout",
     "output_type": "stream",
     "text": [
      "Epoch 1/100\n",
      "\u001b[1m170/170\u001b[0m \u001b[32m━━━━━━━━━━━━━━━━━━━━\u001b[0m\u001b[37m\u001b[0m \u001b[1m152s\u001b[0m 452ms/step - accuracy: 0.5221 - loss: 0.6894 - val_accuracy: 0.6620 - val_loss: 0.6689 - learning_rate: 5.0000e-06\n",
      "Epoch 2/100\n",
      "\u001b[1m170/170\u001b[0m \u001b[32m━━━━━━━━━━━━━━━━━━━━\u001b[0m\u001b[37m\u001b[0m \u001b[1m25s\u001b[0m 149ms/step - accuracy: 0.6390 - loss: 0.6195 - val_accuracy: 0.3469 - val_loss: 0.7326 - learning_rate: 5.0000e-06\n",
      "Epoch 3/100\n",
      "\u001b[1m170/170\u001b[0m \u001b[32m━━━━━━━━━━━━━━━━━━━━\u001b[0m\u001b[37m\u001b[0m \u001b[1m24s\u001b[0m 143ms/step - accuracy: 0.6879 - loss: 0.5808 - val_accuracy: 0.6199 - val_loss: 0.6648 - learning_rate: 5.0000e-06\n",
      "Epoch 4/100\n",
      "\u001b[1m170/170\u001b[0m \u001b[32m━━━━━━━━━━━━━━━━━━━━\u001b[0m\u001b[37m\u001b[0m \u001b[1m24s\u001b[0m 140ms/step - accuracy: 0.7336 - loss: 0.5328 - val_accuracy: 0.6007 - val_loss: 0.6577 - learning_rate: 5.0000e-06\n",
      "Epoch 5/100\n",
      "\u001b[1m170/170\u001b[0m \u001b[32m━━━━━━━━━━━━━━━━━━━━\u001b[0m\u001b[37m\u001b[0m \u001b[1m24s\u001b[0m 142ms/step - accuracy: 0.7751 - loss: 0.4851 - val_accuracy: 0.6708 - val_loss: 0.5984 - learning_rate: 5.0000e-06\n",
      "Epoch 6/100\n",
      "\u001b[1m170/170\u001b[0m \u001b[32m━━━━━━━━━━━━━━━━━━━━\u001b[0m\u001b[37m\u001b[0m \u001b[1m24s\u001b[0m 144ms/step - accuracy: 0.7960 - loss: 0.4526 - val_accuracy: 0.7911 - val_loss: 0.4704 - learning_rate: 5.0000e-06\n",
      "Epoch 7/100\n",
      "\u001b[1m170/170\u001b[0m \u001b[32m━━━━━━━━━━━━━━━━━━━━\u001b[0m\u001b[37m\u001b[0m \u001b[1m24s\u001b[0m 143ms/step - accuracy: 0.8198 - loss: 0.4199 - val_accuracy: 0.8428 - val_loss: 0.3832 - learning_rate: 5.0000e-06\n",
      "Epoch 8/100\n",
      "\u001b[1m170/170\u001b[0m \u001b[32m━━━━━━━━━━━━━━━━━━━━\u001b[0m\u001b[37m\u001b[0m \u001b[1m24s\u001b[0m 141ms/step - accuracy: 0.8390 - loss: 0.3818 - val_accuracy: 0.8672 - val_loss: 0.3480 - learning_rate: 5.0000e-06\n",
      "Epoch 9/100\n",
      "\u001b[1m170/170\u001b[0m \u001b[32m━━━━━━━━━━━━━━━━━━━━\u001b[0m\u001b[37m\u001b[0m \u001b[1m24s\u001b[0m 142ms/step - accuracy: 0.8534 - loss: 0.3571 - val_accuracy: 0.8819 - val_loss: 0.3217 - learning_rate: 5.0000e-06\n",
      "Epoch 10/100\n",
      "\u001b[1m170/170\u001b[0m \u001b[32m━━━━━━━━━━━━━━━━━━━━\u001b[0m\u001b[37m\u001b[0m \u001b[1m24s\u001b[0m 142ms/step - accuracy: 0.8770 - loss: 0.3186 - val_accuracy: 0.8856 - val_loss: 0.2981 - learning_rate: 5.0000e-06\n",
      "Epoch 11/100\n",
      "\u001b[1m170/170\u001b[0m \u001b[32m━━━━━━━━━━━━━━━━━━━━\u001b[0m\u001b[37m\u001b[0m \u001b[1m24s\u001b[0m 142ms/step - accuracy: 0.8788 - loss: 0.3129 - val_accuracy: 0.8923 - val_loss: 0.2776 - learning_rate: 5.0000e-06\n",
      "Epoch 12/100\n",
      "\u001b[1m170/170\u001b[0m \u001b[32m━━━━━━━━━━━━━━━━━━━━\u001b[0m\u001b[37m\u001b[0m \u001b[1m24s\u001b[0m 142ms/step - accuracy: 0.8952 - loss: 0.2724 - val_accuracy: 0.9004 - val_loss: 0.2588 - learning_rate: 5.0000e-06\n",
      "Epoch 13/100\n",
      "\u001b[1m170/170\u001b[0m \u001b[32m━━━━━━━━━━━━━━━━━━━━\u001b[0m\u001b[37m\u001b[0m \u001b[1m24s\u001b[0m 142ms/step - accuracy: 0.8985 - loss: 0.2608 - val_accuracy: 0.9085 - val_loss: 0.2400 - learning_rate: 5.0000e-06\n",
      "Epoch 14/100\n",
      "\u001b[1m170/170\u001b[0m \u001b[32m━━━━━━━━━━━━━━━━━━━━\u001b[0m\u001b[37m\u001b[0m \u001b[1m24s\u001b[0m 142ms/step - accuracy: 0.9104 - loss: 0.2394 - val_accuracy: 0.9107 - val_loss: 0.2297 - learning_rate: 5.0000e-06\n",
      "Epoch 15/100\n",
      "\u001b[1m170/170\u001b[0m \u001b[32m━━━━━━━━━━━━━━━━━━━━\u001b[0m\u001b[37m\u001b[0m \u001b[1m24s\u001b[0m 141ms/step - accuracy: 0.9191 - loss: 0.2264 - val_accuracy: 0.9188 - val_loss: 0.2131 - learning_rate: 5.0000e-06\n",
      "Epoch 16/100\n",
      "\u001b[1m170/170\u001b[0m \u001b[32m━━━━━━━━━━━━━━━━━━━━\u001b[0m\u001b[37m\u001b[0m \u001b[1m24s\u001b[0m 142ms/step - accuracy: 0.9266 - loss: 0.2071 - val_accuracy: 0.9232 - val_loss: 0.2040 - learning_rate: 5.0000e-06\n",
      "Epoch 17/100\n",
      "\u001b[1m170/170\u001b[0m \u001b[32m━━━━━━━━━━━━━━━━━━━━\u001b[0m\u001b[37m\u001b[0m \u001b[1m24s\u001b[0m 142ms/step - accuracy: 0.9234 - loss: 0.2025 - val_accuracy: 0.9292 - val_loss: 0.1941 - learning_rate: 5.0000e-06\n",
      "Epoch 18/100\n",
      "\u001b[1m170/170\u001b[0m \u001b[32m━━━━━━━━━━━━━━━━━━━━\u001b[0m\u001b[37m\u001b[0m \u001b[1m24s\u001b[0m 143ms/step - accuracy: 0.9371 - loss: 0.1798 - val_accuracy: 0.9299 - val_loss: 0.1819 - learning_rate: 5.0000e-06\n",
      "Epoch 19/100\n",
      "\u001b[1m170/170\u001b[0m \u001b[32m━━━━━━━━━━━━━━━━━━━━\u001b[0m\u001b[37m\u001b[0m \u001b[1m24s\u001b[0m 142ms/step - accuracy: 0.9345 - loss: 0.1806 - val_accuracy: 0.9365 - val_loss: 0.1766 - learning_rate: 5.0000e-06\n",
      "Epoch 20/100\n",
      "\u001b[1m170/170\u001b[0m \u001b[32m━━━━━━━━━━━━━━━━━━━━\u001b[0m\u001b[37m\u001b[0m \u001b[1m24s\u001b[0m 142ms/step - accuracy: 0.9385 - loss: 0.1562 - val_accuracy: 0.9343 - val_loss: 0.1721 - learning_rate: 5.0000e-06\n",
      "Epoch 21/100\n",
      "\u001b[1m170/170\u001b[0m \u001b[32m━━━━━━━━━━━━━━━━━━━━\u001b[0m\u001b[37m\u001b[0m \u001b[1m24s\u001b[0m 141ms/step - accuracy: 0.9488 - loss: 0.1529 - val_accuracy: 0.9351 - val_loss: 0.1706 - learning_rate: 5.0000e-06\n",
      "Epoch 22/100\n",
      "\u001b[1m170/170\u001b[0m \u001b[32m━━━━━━━━━━━━━━━━━━━━\u001b[0m\u001b[37m\u001b[0m \u001b[1m24s\u001b[0m 142ms/step - accuracy: 0.9457 - loss: 0.1452 - val_accuracy: 0.9380 - val_loss: 0.1584 - learning_rate: 5.0000e-06\n",
      "Epoch 23/100\n",
      "\u001b[1m170/170\u001b[0m \u001b[32m━━━━━━━━━━━━━━━━━━━━\u001b[0m\u001b[37m\u001b[0m \u001b[1m24s\u001b[0m 142ms/step - accuracy: 0.9563 - loss: 0.1318 - val_accuracy: 0.9417 - val_loss: 0.1561 - learning_rate: 5.0000e-06\n",
      "Epoch 24/100\n",
      "\u001b[1m170/170\u001b[0m \u001b[32m━━━━━━━━━━━━━━━━━━━━\u001b[0m\u001b[37m\u001b[0m \u001b[1m24s\u001b[0m 142ms/step - accuracy: 0.9521 - loss: 0.1288 - val_accuracy: 0.9410 - val_loss: 0.1528 - learning_rate: 5.0000e-06\n",
      "Epoch 25/100\n",
      "\u001b[1m170/170\u001b[0m \u001b[32m━━━━━━━━━━━━━━━━━━━━\u001b[0m\u001b[37m\u001b[0m \u001b[1m24s\u001b[0m 141ms/step - accuracy: 0.9490 - loss: 0.1297 - val_accuracy: 0.9439 - val_loss: 0.1452 - learning_rate: 5.0000e-06\n",
      "Epoch 26/100\n",
      "\u001b[1m170/170\u001b[0m \u001b[32m━━━━━━━━━━━━━━━━━━━━\u001b[0m\u001b[37m\u001b[0m \u001b[1m24s\u001b[0m 142ms/step - accuracy: 0.9636 - loss: 0.1113 - val_accuracy: 0.9446 - val_loss: 0.1437 - learning_rate: 5.0000e-06\n",
      "Epoch 27/100\n",
      "\u001b[1m170/170\u001b[0m \u001b[32m━━━━━━━━━━━━━━━━━━━━\u001b[0m\u001b[37m\u001b[0m \u001b[1m24s\u001b[0m 141ms/step - accuracy: 0.9671 - loss: 0.1025 - val_accuracy: 0.9483 - val_loss: 0.1397 - learning_rate: 5.0000e-06\n",
      "Epoch 28/100\n",
      "\u001b[1m170/170\u001b[0m \u001b[32m━━━━━━━━━━━━━━━━━━━━\u001b[0m\u001b[37m\u001b[0m \u001b[1m24s\u001b[0m 142ms/step - accuracy: 0.9625 - loss: 0.1052 - val_accuracy: 0.9513 - val_loss: 0.1394 - learning_rate: 5.0000e-06\n",
      "Epoch 29/100\n",
      "\u001b[1m170/170\u001b[0m \u001b[32m━━━━━━━━━━━━━━━━━━━━\u001b[0m\u001b[37m\u001b[0m \u001b[1m24s\u001b[0m 142ms/step - accuracy: 0.9621 - loss: 0.1010 - val_accuracy: 0.9513 - val_loss: 0.1335 - learning_rate: 5.0000e-06\n",
      "Epoch 30/100\n",
      "\u001b[1m170/170\u001b[0m \u001b[32m━━━━━━━━━━━━━━━━━━━━\u001b[0m\u001b[37m\u001b[0m \u001b[1m24s\u001b[0m 142ms/step - accuracy: 0.9766 - loss: 0.0821 - val_accuracy: 0.9520 - val_loss: 0.1324 - learning_rate: 5.0000e-06\n",
      "Epoch 31/100\n",
      "\u001b[1m170/170\u001b[0m \u001b[32m━━━━━━━━━━━━━━━━━━━━\u001b[0m\u001b[37m\u001b[0m \u001b[1m24s\u001b[0m 142ms/step - accuracy: 0.9695 - loss: 0.0909 - val_accuracy: 0.9550 - val_loss: 0.1317 - learning_rate: 5.0000e-06\n",
      "Epoch 32/100\n",
      "\u001b[1m170/170\u001b[0m \u001b[32m━━━━━━━━━━━━━━━━━━━━\u001b[0m\u001b[37m\u001b[0m \u001b[1m24s\u001b[0m 142ms/step - accuracy: 0.9696 - loss: 0.0939 - val_accuracy: 0.9557 - val_loss: 0.1257 - learning_rate: 5.0000e-06\n",
      "Epoch 33/100\n",
      "\u001b[1m170/170\u001b[0m \u001b[32m━━━━━━━━━━━━━━━━━━━━\u001b[0m\u001b[37m\u001b[0m \u001b[1m24s\u001b[0m 141ms/step - accuracy: 0.9730 - loss: 0.0833 - val_accuracy: 0.9557 - val_loss: 0.1267 - learning_rate: 5.0000e-06\n",
      "Epoch 34/100\n",
      "\u001b[1m170/170\u001b[0m \u001b[32m━━━━━━━━━━━━━━━━━━━━\u001b[0m\u001b[37m\u001b[0m \u001b[1m24s\u001b[0m 142ms/step - accuracy: 0.9740 - loss: 0.0696 - val_accuracy: 0.9572 - val_loss: 0.1233 - learning_rate: 5.0000e-06\n",
      "Epoch 35/100\n",
      "\u001b[1m170/170\u001b[0m \u001b[32m━━━━━━━━━━━━━━━━━━━━\u001b[0m\u001b[37m\u001b[0m \u001b[1m24s\u001b[0m 142ms/step - accuracy: 0.9768 - loss: 0.0760 - val_accuracy: 0.9587 - val_loss: 0.1214 - learning_rate: 5.0000e-06\n",
      "Epoch 36/100\n",
      "\u001b[1m170/170\u001b[0m \u001b[32m━━━━━━━━━━━━━━━━━━━━\u001b[0m\u001b[37m\u001b[0m \u001b[1m24s\u001b[0m 141ms/step - accuracy: 0.9759 - loss: 0.0706 - val_accuracy: 0.9572 - val_loss: 0.1227 - learning_rate: 5.0000e-06\n",
      "Epoch 37/100\n",
      "\u001b[1m170/170\u001b[0m \u001b[32m━━━━━━━━━━━━━━━━━━━━\u001b[0m\u001b[37m\u001b[0m \u001b[1m24s\u001b[0m 143ms/step - accuracy: 0.9772 - loss: 0.0728 - val_accuracy: 0.9594 - val_loss: 0.1201 - learning_rate: 5.0000e-06\n",
      "Epoch 38/100\n",
      "\u001b[1m170/170\u001b[0m \u001b[32m━━━━━━━━━━━━━━━━━━━━\u001b[0m\u001b[37m\u001b[0m \u001b[1m24s\u001b[0m 141ms/step - accuracy: 0.9770 - loss: 0.0690 - val_accuracy: 0.9609 - val_loss: 0.1193 - learning_rate: 5.0000e-06\n",
      "Epoch 39/100\n",
      "\u001b[1m170/170\u001b[0m \u001b[32m━━━━━━━━━━━━━━━━━━━━\u001b[0m\u001b[37m\u001b[0m \u001b[1m24s\u001b[0m 142ms/step - accuracy: 0.9802 - loss: 0.0594 - val_accuracy: 0.9624 - val_loss: 0.1167 - learning_rate: 5.0000e-06\n",
      "Epoch 40/100\n",
      "\u001b[1m170/170\u001b[0m \u001b[32m━━━━━━━━━━━━━━━━━━━━\u001b[0m\u001b[37m\u001b[0m \u001b[1m24s\u001b[0m 141ms/step - accuracy: 0.9790 - loss: 0.0604 - val_accuracy: 0.9609 - val_loss: 0.1173 - learning_rate: 5.0000e-06\n",
      "Epoch 41/100\n",
      "\u001b[1m170/170\u001b[0m \u001b[32m━━━━━━━━━━━━━━━━━━━━\u001b[0m\u001b[37m\u001b[0m \u001b[1m24s\u001b[0m 142ms/step - accuracy: 0.9789 - loss: 0.0606 - val_accuracy: 0.9638 - val_loss: 0.1154 - learning_rate: 5.0000e-06\n",
      "Epoch 42/100\n",
      "\u001b[1m170/170\u001b[0m \u001b[32m━━━━━━━━━━━━━━━━━━━━\u001b[0m\u001b[37m\u001b[0m \u001b[1m24s\u001b[0m 142ms/step - accuracy: 0.9794 - loss: 0.0587 - val_accuracy: 0.9624 - val_loss: 0.1145 - learning_rate: 5.0000e-06\n",
      "Epoch 43/100\n",
      "\u001b[1m170/170\u001b[0m \u001b[32m━━━━━━━━━━━━━━━━━━━━\u001b[0m\u001b[37m\u001b[0m \u001b[1m24s\u001b[0m 141ms/step - accuracy: 0.9831 - loss: 0.0527 - val_accuracy: 0.9631 - val_loss: 0.1154 - learning_rate: 5.0000e-06\n",
      "Epoch 44/100\n",
      "\u001b[1m170/170\u001b[0m \u001b[32m━━━━━━━━━━━━━━━━━━━━\u001b[0m\u001b[37m\u001b[0m \u001b[1m24s\u001b[0m 143ms/step - accuracy: 0.9843 - loss: 0.0501 - val_accuracy: 0.9661 - val_loss: 0.1134 - learning_rate: 5.0000e-06\n",
      "Epoch 45/100\n",
      "\u001b[1m170/170\u001b[0m \u001b[32m━━━━━━━━━━━━━━━━━━━━\u001b[0m\u001b[37m\u001b[0m \u001b[1m24s\u001b[0m 142ms/step - accuracy: 0.9853 - loss: 0.0485 - val_accuracy: 0.9661 - val_loss: 0.1130 - learning_rate: 5.0000e-06\n",
      "Epoch 46/100\n",
      "\u001b[1m170/170\u001b[0m \u001b[32m━━━━━━━━━━━━━━━━━━━━\u001b[0m\u001b[37m\u001b[0m \u001b[1m24s\u001b[0m 142ms/step - accuracy: 0.9861 - loss: 0.0445 - val_accuracy: 0.9646 - val_loss: 0.1122 - learning_rate: 5.0000e-06\n",
      "Epoch 47/100\n",
      "\u001b[1m170/170\u001b[0m \u001b[32m━━━━━━━━━━━━━━━━━━━━\u001b[0m\u001b[37m\u001b[0m \u001b[1m24s\u001b[0m 142ms/step - accuracy: 0.9841 - loss: 0.0538 - val_accuracy: 0.9646 - val_loss: 0.1114 - learning_rate: 5.0000e-06\n",
      "Epoch 48/100\n",
      "\u001b[1m170/170\u001b[0m \u001b[32m━━━━━━━━━━━━━━━━━━━━\u001b[0m\u001b[37m\u001b[0m \u001b[1m24s\u001b[0m 142ms/step - accuracy: 0.9886 - loss: 0.0457 - val_accuracy: 0.9675 - val_loss: 0.1100 - learning_rate: 5.0000e-06\n",
      "Epoch 49/100\n",
      "\u001b[1m170/170\u001b[0m \u001b[32m━━━━━━━━━━━━━━━━━━━━\u001b[0m\u001b[37m\u001b[0m \u001b[1m24s\u001b[0m 141ms/step - accuracy: 0.9865 - loss: 0.0431 - val_accuracy: 0.9668 - val_loss: 0.1074 - learning_rate: 5.0000e-06\n",
      "Epoch 50/100\n",
      "\u001b[1m170/170\u001b[0m \u001b[32m━━━━━━━━━━━━━━━━━━━━\u001b[0m\u001b[37m\u001b[0m \u001b[1m24s\u001b[0m 142ms/step - accuracy: 0.9879 - loss: 0.0382 - val_accuracy: 0.9705 - val_loss: 0.1063 - learning_rate: 5.0000e-06\n",
      "Epoch 51/100\n",
      "\u001b[1m170/170\u001b[0m \u001b[32m━━━━━━━━━━━━━━━━━━━━\u001b[0m\u001b[37m\u001b[0m \u001b[1m24s\u001b[0m 141ms/step - accuracy: 0.9859 - loss: 0.0452 - val_accuracy: 0.9697 - val_loss: 0.1045 - learning_rate: 5.0000e-06\n",
      "Epoch 52/100\n",
      "\u001b[1m170/170\u001b[0m \u001b[32m━━━━━━━━━━━━━━━━━━━━\u001b[0m\u001b[37m\u001b[0m \u001b[1m24s\u001b[0m 141ms/step - accuracy: 0.9880 - loss: 0.0373 - val_accuracy: 0.9675 - val_loss: 0.1066 - learning_rate: 5.0000e-06\n",
      "Epoch 53/100\n",
      "\u001b[1m170/170\u001b[0m \u001b[32m━━━━━━━━━━━━━━━━━━━━\u001b[0m\u001b[37m\u001b[0m \u001b[1m24s\u001b[0m 141ms/step - accuracy: 0.9873 - loss: 0.0368 - val_accuracy: 0.9697 - val_loss: 0.1063 - learning_rate: 5.0000e-06\n",
      "Epoch 54/100\n",
      "\u001b[1m170/170\u001b[0m \u001b[32m━━━━━━━━━━━━━━━━━━━━\u001b[0m\u001b[37m\u001b[0m \u001b[1m24s\u001b[0m 142ms/step - accuracy: 0.9849 - loss: 0.0398 - val_accuracy: 0.9705 - val_loss: 0.1044 - learning_rate: 5.0000e-06\n",
      "Epoch 55/100\n",
      "\u001b[1m170/170\u001b[0m \u001b[32m━━━━━━━━━━━━━━━━━━━━\u001b[0m\u001b[37m\u001b[0m \u001b[1m24s\u001b[0m 142ms/step - accuracy: 0.9881 - loss: 0.0316 - val_accuracy: 0.9690 - val_loss: 0.1044 - learning_rate: 5.0000e-06\n",
      "Epoch 56/100\n",
      "\u001b[1m170/170\u001b[0m \u001b[32m━━━━━━━━━━━━━━━━━━━━\u001b[0m\u001b[37m\u001b[0m \u001b[1m0s\u001b[0m 132ms/step - accuracy: 0.9905 - loss: 0.0307\n",
      "Epoch 56: ReduceLROnPlateau reducing learning rate to 3.4999999115825627e-06.\n",
      "\u001b[1m170/170\u001b[0m \u001b[32m━━━━━━━━━━━━━━━━━━━━\u001b[0m\u001b[37m\u001b[0m \u001b[1m24s\u001b[0m 141ms/step - accuracy: 0.9905 - loss: 0.0307 - val_accuracy: 0.9683 - val_loss: 0.1048 - learning_rate: 5.0000e-06\n",
      "Epoch 57/100\n",
      "\u001b[1m170/170\u001b[0m \u001b[32m━━━━━━━━━━━━━━━━━━━━\u001b[0m\u001b[37m\u001b[0m \u001b[1m24s\u001b[0m 141ms/step - accuracy: 0.9883 - loss: 0.0321 - val_accuracy: 0.9697 - val_loss: 0.1048 - learning_rate: 3.5000e-06\n",
      "Epoch 58/100\n",
      "\u001b[1m170/170\u001b[0m \u001b[32m━━━━━━━━━━━━━━━━━━━━\u001b[0m\u001b[37m\u001b[0m \u001b[1m24s\u001b[0m 142ms/step - accuracy: 0.9881 - loss: 0.0353 - val_accuracy: 0.9690 - val_loss: 0.1017 - learning_rate: 3.5000e-06\n",
      "Epoch 59/100\n",
      "\u001b[1m170/170\u001b[0m \u001b[32m━━━━━━━━━━━━━━━━━━━━\u001b[0m\u001b[37m\u001b[0m \u001b[1m24s\u001b[0m 141ms/step - accuracy: 0.9917 - loss: 0.0283 - val_accuracy: 0.9697 - val_loss: 0.1018 - learning_rate: 3.5000e-06\n",
      "Epoch 60/100\n",
      "\u001b[1m170/170\u001b[0m \u001b[32m━━━━━━━━━━━━━━━━━━━━\u001b[0m\u001b[37m\u001b[0m \u001b[1m24s\u001b[0m 141ms/step - accuracy: 0.9892 - loss: 0.0369 - val_accuracy: 0.9683 - val_loss: 0.1034 - learning_rate: 3.5000e-06\n",
      "Epoch 61/100\n",
      "\u001b[1m170/170\u001b[0m \u001b[32m━━━━━━━━━━━━━━━━━━━━\u001b[0m\u001b[37m\u001b[0m \u001b[1m24s\u001b[0m 141ms/step - accuracy: 0.9884 - loss: 0.0320 - val_accuracy: 0.9690 - val_loss: 0.1036 - learning_rate: 3.5000e-06\n",
      "Epoch 62/100\n",
      "\u001b[1m170/170\u001b[0m \u001b[32m━━━━━━━━━━━━━━━━━━━━\u001b[0m\u001b[37m\u001b[0m \u001b[1m24s\u001b[0m 142ms/step - accuracy: 0.9918 - loss: 0.0278 - val_accuracy: 0.9705 - val_loss: 0.1012 - learning_rate: 3.5000e-06\n",
      "Epoch 63/100\n",
      "\u001b[1m170/170\u001b[0m \u001b[32m━━━━━━━━━━━━━━━━━━━━\u001b[0m\u001b[37m\u001b[0m \u001b[1m24s\u001b[0m 141ms/step - accuracy: 0.9907 - loss: 0.0328 - val_accuracy: 0.9712 - val_loss: 0.1014 - learning_rate: 3.5000e-06\n",
      "Epoch 64/100\n",
      "\u001b[1m170/170\u001b[0m \u001b[32m━━━━━━━━━━━━━━━━━━━━\u001b[0m\u001b[37m\u001b[0m \u001b[1m24s\u001b[0m 141ms/step - accuracy: 0.9925 - loss: 0.0263 - val_accuracy: 0.9683 - val_loss: 0.1024 - learning_rate: 3.5000e-06\n",
      "Epoch 65/100\n",
      "\u001b[1m170/170\u001b[0m \u001b[32m━━━━━━━━━━━━━━━━━━━━\u001b[0m\u001b[37m\u001b[0m \u001b[1m24s\u001b[0m 141ms/step - accuracy: 0.9917 - loss: 0.0269 - val_accuracy: 0.9712 - val_loss: 0.1003 - learning_rate: 3.5000e-06\n",
      "Epoch 66/100\n",
      "\u001b[1m170/170\u001b[0m \u001b[32m━━━━━━━━━━━━━━━━━━━━\u001b[0m\u001b[37m\u001b[0m \u001b[1m24s\u001b[0m 141ms/step - accuracy: 0.9886 - loss: 0.0348 - val_accuracy: 0.9697 - val_loss: 0.1032 - learning_rate: 3.5000e-06\n",
      "Epoch 67/100\n",
      "\u001b[1m170/170\u001b[0m \u001b[32m━━━━━━━━━━━━━━━━━━━━\u001b[0m\u001b[37m\u001b[0m \u001b[1m24s\u001b[0m 141ms/step - accuracy: 0.9915 - loss: 0.0339 - val_accuracy: 0.9697 - val_loss: 0.1023 - learning_rate: 3.5000e-06\n",
      "Epoch 68/100\n",
      "\u001b[1m170/170\u001b[0m \u001b[32m━━━━━━━━━━━━━━━━━━━━\u001b[0m\u001b[37m\u001b[0m \u001b[1m24s\u001b[0m 141ms/step - accuracy: 0.9906 - loss: 0.0286 - val_accuracy: 0.9720 - val_loss: 0.1005 - learning_rate: 3.5000e-06\n",
      "Epoch 69/100\n",
      "\u001b[1m170/170\u001b[0m \u001b[32m━━━━━━━━━━━━━━━━━━━━\u001b[0m\u001b[37m\u001b[0m \u001b[1m24s\u001b[0m 141ms/step - accuracy: 0.9947 - loss: 0.0195 - val_accuracy: 0.9712 - val_loss: 0.1013 - learning_rate: 3.5000e-06\n",
      "Epoch 70/100\n",
      "\u001b[1m170/170\u001b[0m \u001b[32m━━━━━━━━━━━━━━━━━━━━\u001b[0m\u001b[37m\u001b[0m \u001b[1m0s\u001b[0m 132ms/step - accuracy: 0.9917 - loss: 0.0248\n",
      "Epoch 70: ReduceLROnPlateau reducing learning rate to 2.4499998744431647e-06.\n",
      "\u001b[1m170/170\u001b[0m \u001b[32m━━━━━━━━━━━━━━━━━━━━\u001b[0m\u001b[37m\u001b[0m \u001b[1m24s\u001b[0m 141ms/step - accuracy: 0.9917 - loss: 0.0249 - val_accuracy: 0.9705 - val_loss: 0.1020 - learning_rate: 3.5000e-06\n",
      "Epoch 71/100\n",
      "\u001b[1m170/170\u001b[0m \u001b[32m━━━━━━━━━━━━━━━━━━━━\u001b[0m\u001b[37m\u001b[0m \u001b[1m24s\u001b[0m 140ms/step - accuracy: 0.9899 - loss: 0.0292 - val_accuracy: 0.9705 - val_loss: 0.1033 - learning_rate: 2.4500e-06\n",
      "Epoch 72/100\n",
      "\u001b[1m170/170\u001b[0m \u001b[32m━━━━━━━━━━━━━━━━━━━━\u001b[0m\u001b[37m\u001b[0m \u001b[1m24s\u001b[0m 141ms/step - accuracy: 0.9951 - loss: 0.0184 - val_accuracy: 0.9705 - val_loss: 0.1034 - learning_rate: 2.4500e-06\n",
      "Epoch 72: early stopping\n",
      "Restoring model weights from the end of the best epoch: 65.\n"
     ]
    }
   ],
   "source": [
    "history = model.fit(\n",
    "    train_ds_with_weights,\n",
    "    epochs=EPOCHS,\n",
    "    validation_data=val_ds,\n",
    "    callbacks=callbacks_list\n",
    ")"
   ]
  },
  {
   "cell_type": "code",
   "execution_count": 15,
   "id": "995ae865",
   "metadata": {
    "execution": {
     "iopub.execute_input": "2025-03-30T08:36:11.994825Z",
     "iopub.status.busy": "2025-03-30T08:36:11.994461Z",
     "iopub.status.idle": "2025-03-30T08:36:13.159000Z",
     "shell.execute_reply": "2025-03-30T08:36:13.158044Z"
    },
    "papermill": {
     "duration": 1.796888,
     "end_time": "2025-03-30T08:36:13.160416",
     "exception": false,
     "start_time": "2025-03-30T08:36:11.363528",
     "status": "completed"
    },
    "tags": []
   },
   "outputs": [
    {
     "name": "stdout",
     "output_type": "stream",
     "text": [
      "Model is saved in Keras v3 format (.keras)\n"
     ]
    }
   ],
   "source": [
    "model.save('/kaggle/working/efficientNetB0_stroke_classifier.keras') \n",
    "print(\"Model is saved in Keras v3 format (.keras)\")"
   ]
  },
  {
   "cell_type": "code",
   "execution_count": 16,
   "id": "486f504c",
   "metadata": {
    "execution": {
     "iopub.execute_input": "2025-03-30T08:36:14.351085Z",
     "iopub.status.busy": "2025-03-30T08:36:14.350730Z",
     "iopub.status.idle": "2025-03-30T08:36:14.628563Z",
     "shell.execute_reply": "2025-03-30T08:36:14.627762Z"
    },
    "papermill": {
     "duration": 0.897179,
     "end_time": "2025-03-30T08:36:14.630064",
     "exception": false,
     "start_time": "2025-03-30T08:36:13.732885",
     "status": "completed"
    },
    "tags": []
   },
   "outputs": [
    {
     "data": {
      "image/png": "[encoded data removed]",
      "text/plain": [
       "<Figure size 800x500 with 1 Axes>"
      ]
     },
     "metadata": {},
     "output_type": "display_data"
    }
   ],
   "source": [
    "history_dict = history.history\n",
    "\n",
    "loss = history_dict['loss']\n",
    "val_loss = history_dict['val_loss']\n",
    "\n",
    "actual_epochs = len(loss)\n",
    "epochs_range = range(actual_epochs)\n",
    "\n",
    "plt.figure(figsize=(8, 5)) \n",
    "plt.plot(epochs_range, loss, label='Training Loss')\n",
    "plt.plot(epochs_range, val_loss, label='Validation Loss')\n",
    "\n",
    "best_epoch = np.argmin(val_loss)\n",
    "plt.scatter(best_epoch, val_loss[best_epoch], s=100, c='red', marker='x', label=f'Best val_loss (Epoch {best_epoch+1})')\n",
    "\n",
    "plt.xlabel('Epochs')\n",
    "plt.ylabel('Loss')\n",
    "plt.title('Training and Validation Loss')\n",
    "plt.legend(loc='upper right') \n",
    "plt.grid(True)\n",
    "plt.show()"
   ]
  },
  {
   "cell_type": "code",
   "execution_count": 17,
   "id": "b55284f3",
   "metadata": {
    "execution": {
     "iopub.execute_input": "2025-03-30T08:36:15.819509Z",
     "iopub.status.busy": "2025-03-30T08:36:15.819023Z",
     "iopub.status.idle": "2025-03-30T08:36:29.374612Z",
     "shell.execute_reply": "2025-03-30T08:36:29.373801Z"
    },
    "papermill": {
     "duration": 14.174106,
     "end_time": "2025-03-30T08:36:29.375877",
     "exception": false,
     "start_time": "2025-03-30T08:36:15.201771",
     "status": "completed"
    },
    "tags": []
   },
   "outputs": [
    {
     "name": "stdout",
     "output_type": "stream",
     "text": [
      "\u001b[1m43/43\u001b[0m \u001b[32m━━━━━━━━━━━━━━━━━━━━\u001b[0m\u001b[37m\u001b[0m \u001b[1m13s\u001b[0m 190ms/step\n",
      "Predictions count: 1355, True labels count: 1355\n",
      "Calculating Precision, Recall, and Thresholds...\n",
      "\n",
      "Best F1-score Threshold: 0.4908\n",
      "  - F1-score: 0.9556\n",
      "  - Precision at this threshold: 0.9677\n",
      "  - Recall at this threshold: 0.9438\n",
      "\n",
      "Suggested Threshold for Recall >= 0.85: 0.4908\n",
      "  - Precision at this threshold: 0.9677\n",
      "  - Actual Recall at this threshold: 0.9438\n",
      "  - F1-score at this threshold: 0.9556\n"
     ]
    }
   ],
   "source": [
    "val_ds_for_predict = create_dataset_val_test(val_df, BATCH_SIZE) \n",
    "y_pred_proba_val = model.predict(val_ds_for_predict)\n",
    "\n",
    "y_true_val = val_df['class'].astype(int).values\n",
    "print(f\"Predictions count: {len(y_pred_proba_val)}, True labels count: {len(y_true_val)}\")\n",
    "\n",
    "if len(y_pred_proba_val) != len(y_true_val):\n",
    "    print(f\"Warning: Predictions count ({len(y_pred_proba_val)}) does not match true labels count ({len(y_true_val)}). Possibly due to drop_remainder=True.\")\n",
    "    y_true_val = y_true_val[:len(y_pred_proba_val)]\n",
    "    print(f\"True labels count adjusted to: {len(y_true_val)}\")\n",
    "\n",
    "# calculate Precision, Recall, and Thresholds \n",
    "print(\"Calculating Precision, Recall, and Thresholds...\")\n",
    "precision, recall, thresholds = precision_recall_curve(y_true_val, y_pred_proba_val)\n",
    "\n",
    "# calculate F1 score and find the Optimal Threshold \n",
    "f1_scores = np.array([2 * (p * r) / (p + r) if (p + r) > 0 else 0 for p, r in zip(precision[:-1], recall[:-1])])\n",
    "\n",
    "best_f1_idx = np.argmax(f1_scores)\n",
    "if best_f1_idx >= len(thresholds):\n",
    "     best_f1_idx = len(thresholds) - 1\n",
    "\n",
    "best_threshold_f1 = thresholds[best_f1_idx]\n",
    "best_f1 = f1_scores[best_f1_idx]\n",
    "best_precision_f1 = precision[best_f1_idx]\n",
    "best_recall_f1 = recall[best_f1_idx]\n",
    "\n",
    "print(f\"\\nBest F1-score Threshold: {best_threshold_f1:.4f}\")\n",
    "print(f\"  - F1-score: {best_f1:.4f}\")\n",
    "print(f\"  - Precision at this threshold: {best_precision_f1:.4f}\")\n",
    "print(f\"  - Recall at this threshold: {best_recall_f1:.4f}\")\n",
    "\n",
    "target_recall = 0.85\n",
    "recall_indices = np.where(recall[:-1] >= target_recall)[0]\n",
    "\n",
    "if len(recall_indices) > 0:\n",
    "    best_f1_for_recall_local_idx = np.argmax(f1_scores[recall_indices])\n",
    "    best_threshold_recall_idx_global = recall_indices[best_f1_for_recall_local_idx]\n",
    "\n",
    "    if best_threshold_recall_idx_global >= len(thresholds):\n",
    "        best_threshold_recall_idx_global = len(thresholds) - 1\n",
    "\n",
    "    best_threshold_recall = thresholds[best_threshold_recall_idx_global]\n",
    "    best_precision_recall = precision[best_threshold_recall_idx_global]\n",
    "    actual_recall_recall = recall[best_threshold_recall_idx_global]\n",
    "    f1_recall = f1_scores[best_threshold_recall_idx_global]\n",
    "\n",
    "    print(f\"\\nSuggested Threshold for Recall >= {target_recall}: {best_threshold_recall:.4f}\")\n",
    "    print(f\"  - Precision at this threshold: {best_precision_recall:.4f}\")\n",
    "    print(f\"  - Actual Recall at this threshold: {actual_recall_recall:.4f}\")\n",
    "    print(f\"  - F1-score at this threshold: {f1_recall:.4f}\")\n",
    "else:\n",
    "    print(f\"\\nNo threshold found for Recall >= {target_recall}\")\n",
    "    best_threshold_recall = best_threshold_f1\n",
    "\n",
    "\n",
    "chosen_threshold = min(best_threshold_recall, 0.5)"
   ]
  },
  {
   "cell_type": "code",
   "execution_count": 18,
   "id": "e83b6470",
   "metadata": {
    "execution": {
     "iopub.execute_input": "2025-03-30T08:36:30.579902Z",
     "iopub.status.busy": "2025-03-30T08:36:30.579551Z",
     "iopub.status.idle": "2025-03-30T08:36:30.813909Z",
     "shell.execute_reply": "2025-03-30T08:36:30.813070Z"
    },
    "papermill": {
     "duration": 0.865371,
     "end_time": "2025-03-30T08:36:30.815176",
     "exception": false,
     "start_time": "2025-03-30T08:36:29.949805",
     "status": "completed"
    },
    "tags": []
   },
   "outputs": [
    {
     "data": {
      "image/png": "[encoded data removed]",
      "text/plain": [
       "<Figure size 800x600 with 1 Axes>"
      ]
     },
     "metadata": {},
     "output_type": "display_data"
    }
   ],
   "source": [
    "pr_auc = auc(recall, precision)\n",
    "\n",
    "plt.figure(figsize=(8, 6))\n",
    "plt.plot(recall, precision, marker='.', label=f'PR Curve (AUC = {pr_auc:.2f})')\n",
    "plt.scatter(recall[best_f1_idx], precision[best_f1_idx], marker='o', s=100, color='red', label=f'Best F1 Threshold = {best_threshold_f1:.3f}\\n(P={best_precision_f1:.2f}, R={best_recall_f1:.2f})')\n",
    "\n",
    "if len(recall_indices) > 0:\n",
    "     plt.scatter(actual_recall_recall, best_precision_recall, marker='x', color='green', s=100, label=f'Target R ({target_recall}) Threshold = {best_threshold_recall:.3f}\\n(P={best_precision_recall:.2f}, R={actual_recall_recall:.2f})')\n",
    "\n",
    "plt.xlabel('Recall (Sensitivity)')\n",
    "plt.ylabel('Precision')\n",
    "plt.title('Precision-Recall Curve on Validation Set')\n",
    "plt.legend()\n",
    "plt.grid(True)\n",
    "plt.show()"
   ]
  },
  {
   "cell_type": "code",
   "execution_count": 19,
   "id": "a1eb74c4",
   "metadata": {
    "execution": {
     "iopub.execute_input": "2025-03-30T08:36:32.120549Z",
     "iopub.status.busy": "2025-03-30T08:36:32.120248Z",
     "iopub.status.idle": "2025-03-30T08:36:32.304934Z",
     "shell.execute_reply": "2025-03-30T08:36:32.304058Z"
    },
    "papermill": {
     "duration": 0.873369,
     "end_time": "2025-03-30T08:36:32.306433",
     "exception": false,
     "start_time": "2025-03-30T08:36:31.433064",
     "status": "completed"
    },
    "tags": []
   },
   "outputs": [
    {
     "name": "stdout",
     "output_type": "stream",
     "text": [
      "\n",
      "Classification Report (Validation - Adjusted Threshold):\n",
      "               precision    recall  f1-score   support\n",
      "\n",
      "No Stroke (0)       0.97      0.98      0.98       910\n",
      "   Stroke (1)       0.97      0.94      0.95       445\n",
      "\n",
      "     accuracy                           0.97      1355\n",
      "    macro avg       0.97      0.96      0.97      1355\n",
      " weighted avg       0.97      0.97      0.97      1355\n",
      "\n"
     ]
    },
    {
     "data": {
      "image/png": "[encoded data removed]",
      "text/plain": [
       "<Figure size 600x400 with 2 Axes>"
      ]
     },
     "metadata": {},
     "output_type": "display_data"
    }
   ],
   "source": [
    "y_pred_val_adjusted = (y_pred_proba_val.flatten() > chosen_threshold).astype(int)\n",
    "\n",
    "print(\"\\nClassification Report (Validation - Adjusted Threshold):\")\n",
    "print(classification_report(y_true_val, y_pred_val_adjusted, target_names=['No Stroke (0)', 'Stroke (1)']))\n",
    "\n",
    "cm_val_adjusted = confusion_matrix(y_true_val, y_pred_val_adjusted)\n",
    "plt.figure(figsize=(6, 4))\n",
    "sns.heatmap(cm_val_adjusted, annot=True, fmt='d', cmap='Blues',\n",
    "            xticklabels=['No Stroke (0)', 'Stroke (1)'],\n",
    "            yticklabels=['No Stroke (0)', 'Stroke (1)'])\n",
    "plt.title(f'Confusion Matrix (Validation - Threshold {chosen_threshold:.2f})')\n",
    "plt.xlabel('Predicted')\n",
    "plt.ylabel('True')\n",
    "plt.show()"
   ]
  },
  {
   "cell_type": "code",
   "execution_count": 20,
   "id": "d6b4c151",
   "metadata": {
    "execution": {
     "iopub.execute_input": "2025-03-30T08:36:33.545866Z",
     "iopub.status.busy": "2025-03-30T08:36:33.545502Z",
     "iopub.status.idle": "2025-03-30T08:36:33.576674Z",
     "shell.execute_reply": "2025-03-30T08:36:33.575842Z"
    },
    "papermill": {
     "duration": 0.68796,
     "end_time": "2025-03-30T08:36:33.578062",
     "exception": false,
     "start_time": "2025-03-30T08:36:32.890102",
     "status": "completed"
    },
    "tags": []
   },
   "outputs": [],
   "source": [
    "png_files = glob.glob(os.path.join('/kaggle/input/inme-veri-seti-stroke-dataset/İNME VERİ SETİ/YarısmaVeriSeti_1_Oturum/PNG/*.png'))\n",
    "png_filenames = [os.path.basename(f) for f in png_files]  \n",
    "\n",
    "cevaplar_path = os.path.join('/kaggle/input/inme-veri-seti-stroke-dataset/İNME VERİ SETİ/YarısmaVeriSeti_1_Oturum/ASAMA1_Cevaplar.txt')\n",
    "labels_dict = {}\n",
    "\n",
    "with open(cevaplar_path, 'r') as f:\n",
    "    lines = f.readlines()[1:]  \n",
    "    for line in lines:\n",
    "        parts = line.strip().split('\\t')\n",
    "        if len(parts) == 2:\n",
    "            image_id, label = parts\n",
    "            filename = f\"{image_id}.png\"\n",
    "            labels_dict[filename] = label"
   ]
  },
  {
   "cell_type": "code",
   "execution_count": 21,
   "id": "81288bb6",
   "metadata": {
    "execution": {
     "iopub.execute_input": "2025-03-30T08:36:34.779581Z",
     "iopub.status.busy": "2025-03-30T08:36:34.779255Z",
     "iopub.status.idle": "2025-03-30T08:36:34.786381Z",
     "shell.execute_reply": "2025-03-30T08:36:34.785554Z"
    },
    "papermill": {
     "duration": 0.629728,
     "end_time": "2025-03-30T08:36:34.787676",
     "exception": false,
     "start_time": "2025-03-30T08:36:34.157948",
     "status": "completed"
    },
    "tags": []
   },
   "outputs": [
    {
     "name": "stdout",
     "output_type": "stream",
     "text": [
      "sample in test_data: 200\n"
     ]
    }
   ],
   "source": [
    "test_images = []\n",
    "test_labels = []\n",
    "\n",
    "for png_file in png_files:\n",
    "    filename = os.path.basename(png_file)\n",
    "    if filename in labels_dict:\n",
    "        test_images.append(png_file)  \n",
    "        test_labels.append(labels_dict[filename])\n",
    "\n",
    "test_data = pd.DataFrame({\n",
    "    'filename': test_images,\n",
    "    'class': test_labels\n",
    "})\n",
    "test_data['class'] = test_data['class'].astype(str)\n",
    "\n",
    "print(\"sample in test_data:\", len(test_data))"
   ]
  },
  {
   "cell_type": "code",
   "execution_count": 22,
   "id": "46510d8b",
   "metadata": {
    "execution": {
     "iopub.execute_input": "2025-03-30T08:36:35.995495Z",
     "iopub.status.busy": "2025-03-30T08:36:35.994954Z",
     "iopub.status.idle": "2025-03-30T08:36:42.260682Z",
     "shell.execute_reply": "2025-03-30T08:36:42.259850Z"
    },
    "papermill": {
     "duration": 6.899632,
     "end_time": "2025-03-30T08:36:42.262521",
     "exception": false,
     "start_time": "2025-03-30T08:36:35.362889",
     "status": "completed"
    },
    "tags": []
   },
   "outputs": [
    {
     "name": "stdout",
     "output_type": "stream",
     "text": [
      "\u001b[1m7/7\u001b[0m \u001b[32m━━━━━━━━━━━━━━━━━━━━\u001b[0m\u001b[37m\u001b[0m \u001b[1m6s\u001b[0m 985ms/step\n",
      "Predictions count: 200, True labels count: 200\n",
      "Applying threshold: 0.49\n",
      "\n",
      "Classification Report on Test Set:\n",
      "               precision    recall  f1-score   support\n",
      "\n",
      "No Stroke (0)     0.9137    0.9769    0.9442       130\n",
      "   Stroke (1)     0.9508    0.8286    0.8855        70\n",
      "\n",
      "     accuracy                         0.9250       200\n",
      "    macro avg     0.9322    0.9027    0.9149       200\n",
      " weighted avg     0.9267    0.9250    0.9237       200\n",
      "\n"
     ]
    },
    {
     "data": {
      "image/png": "[encoded data removed]",
      "text/plain": [
       "<Figure size 600x400 with 2 Axes>"
      ]
     },
     "metadata": {},
     "output_type": "display_data"
    }
   ],
   "source": [
    "png_files = glob.glob(os.path.join('/kaggle/input/inme-veri-seti-stroke-dataset/İNME VERİ SETİ/YarısmaVeriSeti_1_Oturum/PNG/*.png'))\n",
    "png_filenames = [os.path.basename(f) for f in png_files]\n",
    "\n",
    "cevaplar_path = os.path.join('/kaggle/input/inme-veri-seti-stroke-dataset/İNME VERİ SETİ/YarısmaVeriSeti_1_Oturum/ASAMA1_Cevaplar.txt')\n",
    "labels_dict = {}\n",
    "\n",
    "with open(cevaplar_path, 'r', encoding='utf-8') as f:\n",
    "    lines = f.readlines()[1:] \n",
    "    for line in lines:\n",
    "        parts = [part.strip() for part in line.strip().split('\\t')]\n",
    "        if len(parts) == 2 and parts[0] and parts[1]: \n",
    "            image_id, label = parts\n",
    "            filename = f\"{image_id}.png\"\n",
    "            labels_dict[filename] = label\n",
    "\n",
    "test_images = []\n",
    "test_labels = []\n",
    "\n",
    "for png_file in png_files:\n",
    "    filename = os.path.basename(png_file)\n",
    "    if filename in labels_dict:\n",
    "        test_images.append(png_file)\n",
    "        test_labels.append(labels_dict[filename])\n",
    "\n",
    "test_data = pd.DataFrame({\n",
    "    'filename': test_images,\n",
    "    'class': test_labels\n",
    "})\n",
    "test_data['class'] = test_data['class'].astype(int)\n",
    "\n",
    "test_ds = create_dataset_val_test(test_data, BATCH_SIZE)\n",
    "\n",
    "y_pred_proba_test = model.predict(test_ds)\n",
    "\n",
    "y_true_test = test_data['class'].values\n",
    "print(f\"Predictions count: {len(y_pred_proba_test)}, True labels count: {len(y_true_test)}\")\n",
    "\n",
    "y_true_test = y_true_test[:len(y_pred_proba_test)]\n",
    "\n",
    "# Apply chosen threshold\n",
    "print(f\"Applying threshold: {chosen_threshold:.2f}\")\n",
    "y_pred_test = (y_pred_proba_test.flatten() > chosen_threshold).astype(int)\n",
    "\n",
    "print(\"\\nClassification Report on Test Set:\")\n",
    "if len(np.unique(y_true_test)) < 2 or len(np.unique(y_pred_test)) < 2:\n",
    "    cm_test = confusion_matrix(y_true_test, y_pred_test)\n",
    "    print(\"\\nConfusion Matrix on Test Set:\")\n",
    "    print(cm_test)\n",
    "else:\n",
    "    print(classification_report(y_true_test, y_pred_test, target_names=['No Stroke (0)', 'Stroke (1)'], digits = 4))\n",
    "\n",
    "cm_test = confusion_matrix(y_true_test, y_pred_test)\n",
    "plt.figure(figsize=(6, 4))\n",
    "sns.heatmap(cm_test, annot=True, fmt='d', cmap='Blues',\n",
    "            xticklabels=['No Stroke (0)', 'Stroke (1)'],\n",
    "            yticklabels=['No Stroke (0)', 'Stroke (1)'])\n",
    "plt.title(f'Confusion Matrix on Test set (Threshold {chosen_threshold:.2f})')\n",
    "plt.xlabel('Predicted')\n",
    "plt.ylabel('True')\n",
    "plt.show()"
   ]
  }
 ],
 "metadata": {
  "kaggle": {
   "accelerator": "nvidiaTeslaT4",
   "dataSources": [
    {
     "datasetId": 6652053,
     "sourceId": 10729545,
     "sourceType": "datasetVersion"
    }
   ],
   "dockerImageVersionId": 30918,
   "isGpuEnabled": true,
   "isInternetEnabled": true,
   "language": "python",
   "sourceType": "notebook"
  },
  "kernelspec": {
   "display_name": "Python 3",
   "language": "python",
   "name": "python3"
  },
  "language_info": {
   "codemirror_mode": {
    "name": "ipython",
    "version": 3
   },
   "file_extension": ".py",
   "mimetype": "text/x-python",
   "name": "python",
   "nbconvert_exporter": "python",
   "pygments_lexer": "ipython3",
   "version": "3.10.12"
  },
  "papermill": {
   "default_parameters": {},
   "duration": 1921.94976,
   "end_time": "2025-03-30T08:36:47.266104",
   "environment_variables": {},
   "exception": null,
   "input_path": "__notebook__.ipynb",
   "output_path": "__notebook__.ipynb",
   "parameters": {},
   "start_time": "2025-03-30T08:04:45.316344",
   "version": "2.6.0"
  }
 },
 "nbformat": 4,
 "nbformat_minor": 5
}
