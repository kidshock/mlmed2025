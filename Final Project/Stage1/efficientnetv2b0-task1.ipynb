{
 "cells": [
  {
   "cell_type": "code",
   "execution_count": 1,
   "id": "69ccd388",
   "metadata": {
    "_cell_guid": "b1076dfc-b9ad-4769-8c92-a6c4dae69d19",
    "_uuid": "8f2839f25d086af736a60e9eeb907d3b93b6e0e5",
    "execution": {
     "iopub.execute_input": "2025-03-30T10:50:16.895723Z",
     "iopub.status.busy": "2025-03-30T10:50:16.895455Z",
     "iopub.status.idle": "2025-03-30T10:50:32.041347Z",
     "shell.execute_reply": "2025-03-30T10:50:32.040605Z"
    },
    "papermill": {
     "duration": 15.152091,
     "end_time": "2025-03-30T10:50:32.042786",
     "exception": false,
     "start_time": "2025-03-30T10:50:16.890695",
     "status": "completed"
    },
    "tags": []
   },
   "outputs": [],
   "source": [
    "import os\n",
    "import glob\n",
    "import numpy as np\n",
    "import pandas as pd\n",
    "import matplotlib.pyplot as plt\n",
    "import seaborn as sns\n",
    "import tensorflow as tf\n",
    "from tensorflow.keras.applications import EfficientNetV2B0\n",
    "from tensorflow.keras import layers, models\n",
    "from tensorflow.keras.callbacks import ReduceLROnPlateau, EarlyStopping\n",
    "from sklearn.utils import class_weight\n",
    "from sklearn.model_selection import train_test_split\n",
    "from sklearn.metrics import (\n",
    "    precision_recall_curve,\n",
    "    auc,\n",
    "    f1_score,\n",
    "    classification_report,\n",
    "    confusion_matrix)"
   ]
  },
  {
   "cell_type": "code",
   "execution_count": 2,
   "id": "83b27344",
   "metadata": {
    "execution": {
     "iopub.execute_input": "2025-03-30T10:50:32.051034Z",
     "iopub.status.busy": "2025-03-30T10:50:32.050545Z",
     "iopub.status.idle": "2025-03-30T10:50:32.957694Z",
     "shell.execute_reply": "2025-03-30T10:50:32.956550Z"
    },
    "papermill": {
     "duration": 0.913177,
     "end_time": "2025-03-30T10:50:32.959834",
     "exception": false,
     "start_time": "2025-03-30T10:50:32.046657",
     "status": "completed"
    },
    "tags": []
   },
   "outputs": [],
   "source": [
    "gpus = tf.config.list_physical_devices('GPU')\n",
    "if gpus:\n",
    "    try:\n",
    "        for gpu in gpus:\n",
    "            tf.config.experimental.set_memory_growth(gpu, True)\n",
    "    except RuntimeError as e:\n",
    "        pass "
   ]
  },
  {
   "cell_type": "code",
   "execution_count": 3,
   "id": "905a2867",
   "metadata": {
    "execution": {
     "iopub.execute_input": "2025-03-30T10:50:32.973314Z",
     "iopub.status.busy": "2025-03-30T10:50:32.973068Z",
     "iopub.status.idle": "2025-03-30T10:50:33.065305Z",
     "shell.execute_reply": "2025-03-30T10:50:33.064568Z"
    },
    "papermill": {
     "duration": 0.09751,
     "end_time": "2025-03-30T10:50:33.066593",
     "exception": false,
     "start_time": "2025-03-30T10:50:32.969083",
     "status": "completed"
    },
    "tags": []
   },
   "outputs": [
    {
     "name": "stdout",
     "output_type": "stream",
     "text": [
      "Count images: 6774\n",
      "Count labels: 6774\n"
     ]
    }
   ],
   "source": [
    "data_dir = '/kaggle/input/inme-veri-seti-stroke-dataset/İNME VERİ SETİ'\n",
    "hermorrhage_png = glob.glob(os.path.join(data_dir, 'Kanama/PNG/*.png'))\n",
    "ischemia_png = glob.glob(os.path.join(data_dir, 'İskemi/PNG/*.png'))\n",
    "no_stroke_png = glob.glob(os.path.join(data_dir, 'İnme Yok/*.png'))\n",
    "\n",
    "images = []\n",
    "labels = []\n",
    "\n",
    "for img_path in hermorrhage_png:\n",
    "    images.append(img_path)\n",
    "    labels.append(1)\n",
    "\n",
    "for img_path in ischemia_png:\n",
    "    images.append(img_path)\n",
    "    labels.append(1)\n",
    "\n",
    "for img_path in no_stroke_png:\n",
    "    images.append(img_path)\n",
    "    labels.append(0)\n",
    "\n",
    "print(f\"Count images: {len(images)}\")\n",
    "print(f\"Count labels: {len(labels)}\")"
   ]
  },
  {
   "cell_type": "code",
   "execution_count": 4,
   "id": "e54552b0",
   "metadata": {
    "execution": {
     "iopub.execute_input": "2025-03-30T10:50:33.073830Z",
     "iopub.status.busy": "2025-03-30T10:50:33.073576Z",
     "iopub.status.idle": "2025-03-30T10:50:33.077360Z",
     "shell.execute_reply": "2025-03-30T10:50:33.076734Z"
    },
    "papermill": {
     "duration": 0.00866,
     "end_time": "2025-03-30T10:50:33.078469",
     "exception": false,
     "start_time": "2025-03-30T10:50:33.069809",
     "status": "completed"
    },
    "tags": []
   },
   "outputs": [],
   "source": [
    "IMG_SIZE = (224, 224)\n",
    "BATCH_SIZE = 32\n",
    "NUM_CLASSES = 1\n",
    "EPOCHS = 100"
   ]
  },
  {
   "cell_type": "code",
   "execution_count": 5,
   "id": "60807ec3",
   "metadata": {
    "execution": {
     "iopub.execute_input": "2025-03-30T10:50:33.085642Z",
     "iopub.status.busy": "2025-03-30T10:50:33.085370Z",
     "iopub.status.idle": "2025-03-30T10:50:33.109971Z",
     "shell.execute_reply": "2025-03-30T10:50:33.109031Z"
    },
    "papermill": {
     "duration": 0.029643,
     "end_time": "2025-03-30T10:50:33.111303",
     "exception": false,
     "start_time": "2025-03-30T10:50:33.081660",
     "status": "completed"
    },
    "tags": []
   },
   "outputs": [],
   "source": [
    "data_df = pd.DataFrame({\n",
    "    'filename': images,\n",
    "    'class': labels\n",
    "})\n",
    "\n",
    "train_df, val_df = train_test_split(\n",
    "    data_df,\n",
    "    test_size=0.15,\n",
    "    stratify=data_df['class'],\n",
    "    random_state=42\n",
    ")"
   ]
  },
  {
   "cell_type": "code",
   "execution_count": 6,
   "id": "9c0cb4ca",
   "metadata": {
    "execution": {
     "iopub.execute_input": "2025-03-30T10:50:33.118203Z",
     "iopub.status.busy": "2025-03-30T10:50:33.117980Z",
     "iopub.status.idle": "2025-03-30T10:50:33.124509Z",
     "shell.execute_reply": "2025-03-30T10:50:33.123709Z"
    },
    "papermill": {
     "duration": 0.011341,
     "end_time": "2025-03-30T10:50:33.125723",
     "exception": false,
     "start_time": "2025-03-30T10:50:33.114382",
     "status": "completed"
    },
    "tags": []
   },
   "outputs": [],
   "source": [
    "def parse_image(filename):\n",
    "    image = tf.io.read_file(filename)\n",
    "    image = tf.image.decode_png(image, channels=3)\n",
    "    image = tf.image.resize(image, [IMG_SIZE[0], IMG_SIZE[1]])\n",
    "    image = tf.cast(image, tf.float32)\n",
    "    image = tf.keras.applications.efficientnet_v2.preprocess_input(image)\n",
    "    return image\n",
    "\n",
    "def configure_for_performance(ds, batch_size):\n",
    "    ds = ds.cache()\n",
    "    ds = ds.shuffle(buffer_size=1000)\n",
    "    ds = ds.batch(batch_size)\n",
    "    ds = ds.prefetch(buffer_size=tf.data.AUTOTUNE)\n",
    "    return ds\n",
    "\n",
    "def create_dataset_train(df, batch_size):\n",
    "    list_ds = tf.data.Dataset.from_tensor_slices((df['filename'].values, df['class'].values))\n",
    "    ds = list_ds.map(lambda filename, label: (parse_image(filename), tf.cast(label, tf.float32)),\n",
    "                     num_parallel_calls=tf.data.AUTOTUNE)\n",
    "    ds = configure_for_performance(ds, batch_size)\n",
    "    return ds\n",
    "\n",
    "def create_dataset_val_test(df, batch_size):\n",
    "    list_ds = tf.data.Dataset.from_tensor_slices((df['filename'].values, df['class'].values))\n",
    "    ds = list_ds.map(lambda filename, label: (parse_image(filename), tf.cast(label, tf.float32)),\n",
    "                     num_parallel_calls=tf.data.AUTOTUNE)\n",
    "    ds = ds.cache()\n",
    "    ds = ds.batch(batch_size)\n",
    "    ds = ds.prefetch(buffer_size=tf.data.AUTOTUNE)\n",
    "    return ds"
   ]
  },
  {
   "cell_type": "code",
   "execution_count": 7,
   "id": "14f8bf73",
   "metadata": {
    "execution": {
     "iopub.execute_input": "2025-03-30T10:50:33.132592Z",
     "iopub.status.busy": "2025-03-30T10:50:33.132364Z",
     "iopub.status.idle": "2025-03-30T10:50:33.138527Z",
     "shell.execute_reply": "2025-03-30T10:50:33.137999Z"
    },
    "papermill": {
     "duration": 0.010823,
     "end_time": "2025-03-30T10:50:33.139660",
     "exception": false,
     "start_time": "2025-03-30T10:50:33.128837",
     "status": "completed"
    },
    "tags": []
   },
   "outputs": [],
   "source": [
    "class_weights_calc = class_weight.compute_class_weight(\n",
    "    'balanced',\n",
    "    classes=np.unique(labels),\n",
    "    y=labels\n",
    ")\n",
    "class_weight_dict = dict(enumerate(class_weights_calc))"
   ]
  },
  {
   "cell_type": "code",
   "execution_count": 8,
   "id": "1be3ef43",
   "metadata": {
    "execution": {
     "iopub.execute_input": "2025-03-30T10:50:33.146591Z",
     "iopub.status.busy": "2025-03-30T10:50:33.146397Z",
     "iopub.status.idle": "2025-03-30T10:50:33.566337Z",
     "shell.execute_reply": "2025-03-30T10:50:33.565657Z"
    },
    "papermill": {
     "duration": 0.424844,
     "end_time": "2025-03-30T10:50:33.567670",
     "exception": false,
     "start_time": "2025-03-30T10:50:33.142826",
     "status": "completed"
    },
    "tags": []
   },
   "outputs": [],
   "source": [
    "train_ds = create_dataset_train(train_df, BATCH_SIZE)\n",
    "val_ds = create_dataset_val_test(val_df, BATCH_SIZE)"
   ]
  },
  {
   "cell_type": "code",
   "execution_count": 9,
   "id": "19256b01",
   "metadata": {
    "execution": {
     "iopub.execute_input": "2025-03-30T10:50:33.575211Z",
     "iopub.status.busy": "2025-03-30T10:50:33.574987Z",
     "iopub.status.idle": "2025-03-30T10:50:36.962948Z",
     "shell.execute_reply": "2025-03-30T10:50:36.962093Z"
    },
    "papermill": {
     "duration": 3.392983,
     "end_time": "2025-03-30T10:50:36.964188",
     "exception": false,
     "start_time": "2025-03-30T10:50:33.571205",
     "status": "completed"
    },
    "tags": []
   },
   "outputs": [
    {
     "name": "stdout",
     "output_type": "stream",
     "text": [
      "Downloading data from https://storage.googleapis.com/tensorflow/keras-applications/efficientnet_v2/efficientnetv2-b0_notop.h5\n",
      "\u001b[1m24274472/24274472\u001b[0m \u001b[32m━━━━━━━━━━━━━━━━━━━━\u001b[0m\u001b[37m\u001b[0m \u001b[1m0s\u001b[0m 0us/step\n"
     ]
    },
    {
     "data": {
      "text/html": [
       "<pre style=\"white-space:pre;overflow-x:auto;line-height:normal;font-family:Menlo,'DejaVu Sans Mono',consolas,'Courier New',monospace\"><span style=\"font-weight: bold\">Model: \"StrokeClassifier_EfficientNetV2B0\"</span>\n",
       "</pre>\n"
      ],
      "text/plain": [
       "\u001b[1mModel: \"StrokeClassifier_EfficientNetV2B0\"\u001b[0m\n"
      ]
     },
     "metadata": {},
     "output_type": "display_data"
    },
    {
     "data": {
      "text/html": [
       "<pre style=\"white-space:pre;overflow-x:auto;line-height:normal;font-family:Menlo,'DejaVu Sans Mono',consolas,'Courier New',monospace\">┏━━━━━━━━━━━━━━━━━━━━━━━━━━━━━━━━━━━━━━┳━━━━━━━━━━━━━━━━━━━━━━━━━━━━━┳━━━━━━━━━━━━━━━━━┓\n",
       "┃<span style=\"font-weight: bold\"> Layer (type)                         </span>┃<span style=\"font-weight: bold\"> Output Shape                </span>┃<span style=\"font-weight: bold\">         Param # </span>┃\n",
       "┡━━━━━━━━━━━━━━━━━━━━━━━━━━━━━━━━━━━━━━╇━━━━━━━━━━━━━━━━━━━━━━━━━━━━━╇━━━━━━━━━━━━━━━━━┩\n",
       "│ efficientnetv2-b0 (<span style=\"color: #0087ff; text-decoration-color: #0087ff\">Functional</span>)       │ (<span style=\"color: #00d7ff; text-decoration-color: #00d7ff\">None</span>, <span style=\"color: #00af00; text-decoration-color: #00af00\">7</span>, <span style=\"color: #00af00; text-decoration-color: #00af00\">7</span>, <span style=\"color: #00af00; text-decoration-color: #00af00\">1280</span>)          │       <span style=\"color: #00af00; text-decoration-color: #00af00\">5,919,312</span> │\n",
       "├──────────────────────────────────────┼─────────────────────────────┼─────────────────┤\n",
       "│ gap (<span style=\"color: #0087ff; text-decoration-color: #0087ff\">GlobalAveragePooling2D</span>)         │ (<span style=\"color: #00d7ff; text-decoration-color: #00d7ff\">None</span>, <span style=\"color: #00af00; text-decoration-color: #00af00\">1280</span>)                │               <span style=\"color: #00af00; text-decoration-color: #00af00\">0</span> │\n",
       "├──────────────────────────────────────┼─────────────────────────────┼─────────────────┤\n",
       "│ head_dropout (<span style=\"color: #0087ff; text-decoration-color: #0087ff\">Dropout</span>)               │ (<span style=\"color: #00d7ff; text-decoration-color: #00d7ff\">None</span>, <span style=\"color: #00af00; text-decoration-color: #00af00\">1280</span>)                │               <span style=\"color: #00af00; text-decoration-color: #00af00\">0</span> │\n",
       "├──────────────────────────────────────┼─────────────────────────────┼─────────────────┤\n",
       "│ dense_1 (<span style=\"color: #0087ff; text-decoration-color: #0087ff\">Dense</span>)                      │ (<span style=\"color: #00d7ff; text-decoration-color: #00d7ff\">None</span>, <span style=\"color: #00af00; text-decoration-color: #00af00\">128</span>)                 │         <span style=\"color: #00af00; text-decoration-color: #00af00\">163,968</span> │\n",
       "├──────────────────────────────────────┼─────────────────────────────┼─────────────────┤\n",
       "│ output (<span style=\"color: #0087ff; text-decoration-color: #0087ff\">Dense</span>)                       │ (<span style=\"color: #00d7ff; text-decoration-color: #00d7ff\">None</span>, <span style=\"color: #00af00; text-decoration-color: #00af00\">1</span>)                   │             <span style=\"color: #00af00; text-decoration-color: #00af00\">129</span> │\n",
       "└──────────────────────────────────────┴─────────────────────────────┴─────────────────┘\n",
       "</pre>\n"
      ],
      "text/plain": [
       "┏━━━━━━━━━━━━━━━━━━━━━━━━━━━━━━━━━━━━━━┳━━━━━━━━━━━━━━━━━━━━━━━━━━━━━┳━━━━━━━━━━━━━━━━━┓\n",
       "┃\u001b[1m \u001b[0m\u001b[1mLayer (type)                        \u001b[0m\u001b[1m \u001b[0m┃\u001b[1m \u001b[0m\u001b[1mOutput Shape               \u001b[0m\u001b[1m \u001b[0m┃\u001b[1m \u001b[0m\u001b[1m        Param #\u001b[0m\u001b[1m \u001b[0m┃\n",
       "┡━━━━━━━━━━━━━━━━━━━━━━━━━━━━━━━━━━━━━━╇━━━━━━━━━━━━━━━━━━━━━━━━━━━━━╇━━━━━━━━━━━━━━━━━┩\n",
       "│ efficientnetv2-b0 (\u001b[38;5;33mFunctional\u001b[0m)       │ (\u001b[38;5;45mNone\u001b[0m, \u001b[38;5;34m7\u001b[0m, \u001b[38;5;34m7\u001b[0m, \u001b[38;5;34m1280\u001b[0m)          │       \u001b[38;5;34m5,919,312\u001b[0m │\n",
       "├──────────────────────────────────────┼─────────────────────────────┼─────────────────┤\n",
       "│ gap (\u001b[38;5;33mGlobalAveragePooling2D\u001b[0m)         │ (\u001b[38;5;45mNone\u001b[0m, \u001b[38;5;34m1280\u001b[0m)                │               \u001b[38;5;34m0\u001b[0m │\n",
       "├──────────────────────────────────────┼─────────────────────────────┼─────────────────┤\n",
       "│ head_dropout (\u001b[38;5;33mDropout\u001b[0m)               │ (\u001b[38;5;45mNone\u001b[0m, \u001b[38;5;34m1280\u001b[0m)                │               \u001b[38;5;34m0\u001b[0m │\n",
       "├──────────────────────────────────────┼─────────────────────────────┼─────────────────┤\n",
       "│ dense_1 (\u001b[38;5;33mDense\u001b[0m)                      │ (\u001b[38;5;45mNone\u001b[0m, \u001b[38;5;34m128\u001b[0m)                 │         \u001b[38;5;34m163,968\u001b[0m │\n",
       "├──────────────────────────────────────┼─────────────────────────────┼─────────────────┤\n",
       "│ output (\u001b[38;5;33mDense\u001b[0m)                       │ (\u001b[38;5;45mNone\u001b[0m, \u001b[38;5;34m1\u001b[0m)                   │             \u001b[38;5;34m129\u001b[0m │\n",
       "└──────────────────────────────────────┴─────────────────────────────┴─────────────────┘\n"
      ]
     },
     "metadata": {},
     "output_type": "display_data"
    },
    {
     "data": {
      "text/html": [
       "<pre style=\"white-space:pre;overflow-x:auto;line-height:normal;font-family:Menlo,'DejaVu Sans Mono',consolas,'Courier New',monospace\"><span style=\"font-weight: bold\"> Total params: </span><span style=\"color: #00af00; text-decoration-color: #00af00\">6,083,409</span> (23.21 MB)\n",
       "</pre>\n"
      ],
      "text/plain": [
       "\u001b[1m Total params: \u001b[0m\u001b[38;5;34m6,083,409\u001b[0m (23.21 MB)\n"
      ]
     },
     "metadata": {},
     "output_type": "display_data"
    },
    {
     "data": {
      "text/html": [
       "<pre style=\"white-space:pre;overflow-x:auto;line-height:normal;font-family:Menlo,'DejaVu Sans Mono',consolas,'Courier New',monospace\"><span style=\"font-weight: bold\"> Trainable params: </span><span style=\"color: #00af00; text-decoration-color: #00af00\">6,022,801</span> (22.98 MB)\n",
       "</pre>\n"
      ],
      "text/plain": [
       "\u001b[1m Trainable params: \u001b[0m\u001b[38;5;34m6,022,801\u001b[0m (22.98 MB)\n"
      ]
     },
     "metadata": {},
     "output_type": "display_data"
    },
    {
     "data": {
      "text/html": [
       "<pre style=\"white-space:pre;overflow-x:auto;line-height:normal;font-family:Menlo,'DejaVu Sans Mono',consolas,'Courier New',monospace\"><span style=\"font-weight: bold\"> Non-trainable params: </span><span style=\"color: #00af00; text-decoration-color: #00af00\">60,608</span> (236.75 KB)\n",
       "</pre>\n"
      ],
      "text/plain": [
       "\u001b[1m Non-trainable params: \u001b[0m\u001b[38;5;34m60,608\u001b[0m (236.75 KB)\n"
      ]
     },
     "metadata": {},
     "output_type": "display_data"
    }
   ],
   "source": [
    "base_model = EfficientNetV2B0(weights='imagenet',\n",
    "                              include_top=False,\n",
    "                              input_shape=(IMG_SIZE[0], IMG_SIZE[1], 3))\n",
    "base_model.trainable = True\n",
    "\n",
    "model = models.Sequential([\n",
    "    base_model,\n",
    "    layers.GlobalAveragePooling2D(name=\"gap\"),\n",
    "    layers.Dropout(0.3, name=\"head_dropout\"),\n",
    "    layers.Dense(128, activation='relu', name=\"dense_1\"),\n",
    "    layers.Dense(NUM_CLASSES, activation='sigmoid', name=\"output\")\n",
    "], name=\"StrokeClassifier_EfficientNetV2B0\")\n",
    "\n",
    "model.summary() # Giữ lại summary để xem cấu trúc"
   ]
  },
  {
   "cell_type": "code",
   "execution_count": 10,
   "id": "eca32474",
   "metadata": {
    "execution": {
     "iopub.execute_input": "2025-03-30T10:50:36.973459Z",
     "iopub.status.busy": "2025-03-30T10:50:36.973201Z",
     "iopub.status.idle": "2025-03-30T10:50:36.984035Z",
     "shell.execute_reply": "2025-03-30T10:50:36.983222Z"
    },
    "papermill": {
     "duration": 0.016897,
     "end_time": "2025-03-30T10:50:36.985353",
     "exception": false,
     "start_time": "2025-03-30T10:50:36.968456",
     "status": "completed"
    },
    "tags": []
   },
   "outputs": [],
   "source": [
    "model.compile(\n",
    "    optimizer=tf.keras.optimizers.Adam(learning_rate=1e-5),\n",
    "    loss='binary_crossentropy',\n",
    "    metrics=['accuracy']\n",
    ")"
   ]
  },
  {
   "cell_type": "code",
   "execution_count": 11,
   "id": "67ee2428",
   "metadata": {
    "execution": {
     "iopub.execute_input": "2025-03-30T10:50:36.993985Z",
     "iopub.status.busy": "2025-03-30T10:50:36.993737Z",
     "iopub.status.idle": "2025-03-30T10:50:36.997431Z",
     "shell.execute_reply": "2025-03-30T10:50:36.996807Z"
    },
    "papermill": {
     "duration": 0.009185,
     "end_time": "2025-03-30T10:50:36.998570",
     "exception": false,
     "start_time": "2025-03-30T10:50:36.989385",
     "status": "completed"
    },
    "tags": []
   },
   "outputs": [],
   "source": [
    "lr_scheduler = ReduceLROnPlateau(\n",
    "    monitor='val_loss',\n",
    "    factor=0.2,\n",
    "    patience=4,\n",
    "    verbose=1,\n",
    "    min_lr=1e-7\n",
    ")\n",
    "\n",
    "early_stopper = EarlyStopping(\n",
    "    monitor='val_loss',\n",
    "    patience=10,\n",
    "    verbose=1,\n",
    "    restore_best_weights=True,\n",
    "    min_delta=0.0001\n",
    ")\n",
    "\n",
    "callbacks_list = [lr_scheduler, early_stopper]"
   ]
  },
  {
   "cell_type": "code",
   "execution_count": 12,
   "id": "bd59b79f",
   "metadata": {
    "execution": {
     "iopub.execute_input": "2025-03-30T10:50:37.007234Z",
     "iopub.status.busy": "2025-03-30T10:50:37.007038Z",
     "iopub.status.idle": "2025-03-30T11:10:02.988703Z",
     "shell.execute_reply": "2025-03-30T11:10:02.987958Z"
    },
    "papermill": {
     "duration": 1165.987646,
     "end_time": "2025-03-30T11:10:02.990294",
     "exception": false,
     "start_time": "2025-03-30T10:50:37.002648",
     "status": "completed"
    },
    "tags": []
   },
   "outputs": [
    {
     "name": "stdout",
     "output_type": "stream",
     "text": [
      "Epoch 1/100\n",
      "\u001b[1m180/180\u001b[0m \u001b[32m━━━━━━━━━━━━━━━━━━━━\u001b[0m\u001b[37m\u001b[0m \u001b[1m171s\u001b[0m 473ms/step - accuracy: 0.6830 - loss: 0.6941 - val_accuracy: 0.7365 - val_loss: 0.5824 - learning_rate: 1.0000e-05\n",
      "Epoch 2/100\n",
      "\u001b[1m180/180\u001b[0m \u001b[32m━━━━━━━━━━━━━━━━━━━━\u001b[0m\u001b[37m\u001b[0m \u001b[1m22s\u001b[0m 121ms/step - accuracy: 0.7478 - loss: 0.5720 - val_accuracy: 0.7876 - val_loss: 0.5018 - learning_rate: 1.0000e-05\n",
      "Epoch 3/100\n",
      "\u001b[1m180/180\u001b[0m \u001b[32m━━━━━━━━━━━━━━━━━━━━\u001b[0m\u001b[37m\u001b[0m \u001b[1m23s\u001b[0m 126ms/step - accuracy: 0.7984 - loss: 0.4809 - val_accuracy: 0.8486 - val_loss: 0.3940 - learning_rate: 1.0000e-05\n",
      "Epoch 4/100\n",
      "\u001b[1m180/180\u001b[0m \u001b[32m━━━━━━━━━━━━━━━━━━━━\u001b[0m\u001b[37m\u001b[0m \u001b[1m22s\u001b[0m 124ms/step - accuracy: 0.8452 - loss: 0.3837 - val_accuracy: 0.8810 - val_loss: 0.3194 - learning_rate: 1.0000e-05\n",
      "Epoch 5/100\n",
      "\u001b[1m180/180\u001b[0m \u001b[32m━━━━━━━━━━━━━━━━━━━━\u001b[0m\u001b[37m\u001b[0m \u001b[1m22s\u001b[0m 122ms/step - accuracy: 0.8855 - loss: 0.3102 - val_accuracy: 0.9066 - val_loss: 0.2656 - learning_rate: 1.0000e-05\n",
      "Epoch 6/100\n",
      "\u001b[1m180/180\u001b[0m \u001b[32m━━━━━━━━━━━━━━━━━━━━\u001b[0m\u001b[37m\u001b[0m \u001b[1m22s\u001b[0m 123ms/step - accuracy: 0.9118 - loss: 0.2598 - val_accuracy: 0.9194 - val_loss: 0.2246 - learning_rate: 1.0000e-05\n",
      "Epoch 7/100\n",
      "\u001b[1m180/180\u001b[0m \u001b[32m━━━━━━━━━━━━━━━━━━━━\u001b[0m\u001b[37m\u001b[0m \u001b[1m22s\u001b[0m 123ms/step - accuracy: 0.9167 - loss: 0.2377 - val_accuracy: 0.9213 - val_loss: 0.2156 - learning_rate: 1.0000e-05\n",
      "Epoch 8/100\n",
      "\u001b[1m180/180\u001b[0m \u001b[32m━━━━━━━━━━━━━━━━━━━━\u001b[0m\u001b[37m\u001b[0m \u001b[1m22s\u001b[0m 123ms/step - accuracy: 0.9302 - loss: 0.2008 - val_accuracy: 0.9322 - val_loss: 0.1841 - learning_rate: 1.0000e-05\n",
      "Epoch 9/100\n",
      "\u001b[1m180/180\u001b[0m \u001b[32m━━━━━━━━━━━━━━━━━━━━\u001b[0m\u001b[37m\u001b[0m \u001b[1m22s\u001b[0m 123ms/step - accuracy: 0.9248 - loss: 0.1917 - val_accuracy: 0.9410 - val_loss: 0.1684 - learning_rate: 1.0000e-05\n",
      "Epoch 10/100\n",
      "\u001b[1m180/180\u001b[0m \u001b[32m━━━━━━━━━━━━━━━━━━━━\u001b[0m\u001b[37m\u001b[0m \u001b[1m22s\u001b[0m 122ms/step - accuracy: 0.9440 - loss: 0.1632 - val_accuracy: 0.9430 - val_loss: 0.1615 - learning_rate: 1.0000e-05\n",
      "Epoch 11/100\n",
      "\u001b[1m180/180\u001b[0m \u001b[32m━━━━━━━━━━━━━━━━━━━━\u001b[0m\u001b[37m\u001b[0m \u001b[1m22s\u001b[0m 124ms/step - accuracy: 0.9468 - loss: 0.1484 - val_accuracy: 0.9489 - val_loss: 0.1604 - learning_rate: 1.0000e-05\n",
      "Epoch 12/100\n",
      "\u001b[1m180/180\u001b[0m \u001b[32m━━━━━━━━━━━━━━━━━━━━\u001b[0m\u001b[37m\u001b[0m \u001b[1m22s\u001b[0m 123ms/step - accuracy: 0.9500 - loss: 0.1330 - val_accuracy: 0.9459 - val_loss: 0.1477 - learning_rate: 1.0000e-05\n",
      "Epoch 13/100\n",
      "\u001b[1m180/180\u001b[0m \u001b[32m━━━━━━━━━━━━━━━━━━━━\u001b[0m\u001b[37m\u001b[0m \u001b[1m22s\u001b[0m 123ms/step - accuracy: 0.9557 - loss: 0.1258 - val_accuracy: 0.9567 - val_loss: 0.1306 - learning_rate: 1.0000e-05\n",
      "Epoch 14/100\n",
      "\u001b[1m180/180\u001b[0m \u001b[32m━━━━━━━━━━━━━━━━━━━━\u001b[0m\u001b[37m\u001b[0m \u001b[1m22s\u001b[0m 123ms/step - accuracy: 0.9558 - loss: 0.1161 - val_accuracy: 0.9577 - val_loss: 0.1296 - learning_rate: 1.0000e-05\n",
      "Epoch 15/100\n",
      "\u001b[1m180/180\u001b[0m \u001b[32m━━━━━━━━━━━━━━━━━━━━\u001b[0m\u001b[37m\u001b[0m \u001b[1m22s\u001b[0m 122ms/step - accuracy: 0.9618 - loss: 0.1026 - val_accuracy: 0.9567 - val_loss: 0.1253 - learning_rate: 1.0000e-05\n",
      "Epoch 16/100\n",
      "\u001b[1m180/180\u001b[0m \u001b[32m━━━━━━━━━━━━━━━━━━━━\u001b[0m\u001b[37m\u001b[0m \u001b[1m22s\u001b[0m 122ms/step - accuracy: 0.9717 - loss: 0.0874 - val_accuracy: 0.9597 - val_loss: 0.1261 - learning_rate: 1.0000e-05\n",
      "Epoch 17/100\n",
      "\u001b[1m180/180\u001b[0m \u001b[32m━━━━━━━━━━━━━━━━━━━━\u001b[0m\u001b[37m\u001b[0m \u001b[1m22s\u001b[0m 123ms/step - accuracy: 0.9742 - loss: 0.0764 - val_accuracy: 0.9607 - val_loss: 0.1224 - learning_rate: 1.0000e-05\n",
      "Epoch 18/100\n",
      "\u001b[1m180/180\u001b[0m \u001b[32m━━━━━━━━━━━━━━━━━━━━\u001b[0m\u001b[37m\u001b[0m \u001b[1m22s\u001b[0m 122ms/step - accuracy: 0.9799 - loss: 0.0648 - val_accuracy: 0.9617 - val_loss: 0.1229 - learning_rate: 1.0000e-05\n",
      "Epoch 19/100\n",
      "\u001b[1m180/180\u001b[0m \u001b[32m━━━━━━━━━━━━━━━━━━━━\u001b[0m\u001b[37m\u001b[0m \u001b[1m22s\u001b[0m 123ms/step - accuracy: 0.9834 - loss: 0.0588 - val_accuracy: 0.9646 - val_loss: 0.1213 - learning_rate: 1.0000e-05\n",
      "Epoch 20/100\n",
      "\u001b[1m180/180\u001b[0m \u001b[32m━━━━━━━━━━━━━━━━━━━━\u001b[0m\u001b[37m\u001b[0m \u001b[1m22s\u001b[0m 123ms/step - accuracy: 0.9763 - loss: 0.0607 - val_accuracy: 0.9597 - val_loss: 0.1188 - learning_rate: 1.0000e-05\n",
      "Epoch 21/100\n",
      "\u001b[1m180/180\u001b[0m \u001b[32m━━━━━━━━━━━━━━━━━━━━\u001b[0m\u001b[37m\u001b[0m \u001b[1m22s\u001b[0m 124ms/step - accuracy: 0.9787 - loss: 0.0614 - val_accuracy: 0.9587 - val_loss: 0.1163 - learning_rate: 1.0000e-05\n",
      "Epoch 22/100\n",
      "\u001b[1m180/180\u001b[0m \u001b[32m━━━━━━━━━━━━━━━━━━━━\u001b[0m\u001b[37m\u001b[0m \u001b[1m23s\u001b[0m 125ms/step - accuracy: 0.9831 - loss: 0.0503 - val_accuracy: 0.9626 - val_loss: 0.1190 - learning_rate: 1.0000e-05\n",
      "Epoch 23/100\n",
      "\u001b[1m180/180\u001b[0m \u001b[32m━━━━━━━━━━━━━━━━━━━━\u001b[0m\u001b[37m\u001b[0m \u001b[1m22s\u001b[0m 124ms/step - accuracy: 0.9867 - loss: 0.0399 - val_accuracy: 0.9626 - val_loss: 0.1156 - learning_rate: 1.0000e-05\n",
      "Epoch 24/100\n",
      "\u001b[1m180/180\u001b[0m \u001b[32m━━━━━━━━━━━━━━━━━━━━\u001b[0m\u001b[37m\u001b[0m \u001b[1m22s\u001b[0m 122ms/step - accuracy: 0.9839 - loss: 0.0423 - val_accuracy: 0.9646 - val_loss: 0.1182 - learning_rate: 1.0000e-05\n",
      "Epoch 25/100\n",
      "\u001b[1m180/180\u001b[0m \u001b[32m━━━━━━━━━━━━━━━━━━━━\u001b[0m\u001b[37m\u001b[0m \u001b[1m22s\u001b[0m 123ms/step - accuracy: 0.9877 - loss: 0.0359 - val_accuracy: 0.9666 - val_loss: 0.1169 - learning_rate: 1.0000e-05\n",
      "Epoch 26/100\n",
      "\u001b[1m180/180\u001b[0m \u001b[32m━━━━━━━━━━━━━━━━━━━━\u001b[0m\u001b[37m\u001b[0m \u001b[1m22s\u001b[0m 122ms/step - accuracy: 0.9896 - loss: 0.0325 - val_accuracy: 0.9656 - val_loss: 0.1216 - learning_rate: 1.0000e-05\n",
      "Epoch 27/100\n",
      "\u001b[1m180/180\u001b[0m \u001b[32m━━━━━━━━━━━━━━━━━━━━\u001b[0m\u001b[37m\u001b[0m \u001b[1m0s\u001b[0m 116ms/step - accuracy: 0.9902 - loss: 0.0320\n",
      "Epoch 27: ReduceLROnPlateau reducing learning rate to 1.9999999494757505e-06.\n",
      "\u001b[1m180/180\u001b[0m \u001b[32m━━━━━━━━━━━━━━━━━━━━\u001b[0m\u001b[37m\u001b[0m \u001b[1m22s\u001b[0m 122ms/step - accuracy: 0.9902 - loss: 0.0320 - val_accuracy: 0.9666 - val_loss: 0.1198 - learning_rate: 1.0000e-05\n",
      "Epoch 28/100\n",
      "\u001b[1m180/180\u001b[0m \u001b[32m━━━━━━━━━━━━━━━━━━━━\u001b[0m\u001b[37m\u001b[0m \u001b[1m22s\u001b[0m 123ms/step - accuracy: 0.9885 - loss: 0.0346 - val_accuracy: 0.9676 - val_loss: 0.1161 - learning_rate: 2.0000e-06\n",
      "Epoch 29/100\n",
      "\u001b[1m180/180\u001b[0m \u001b[32m━━━━━━━━━━━━━━━━━━━━\u001b[0m\u001b[37m\u001b[0m \u001b[1m22s\u001b[0m 122ms/step - accuracy: 0.9869 - loss: 0.0334 - val_accuracy: 0.9646 - val_loss: 0.1165 - learning_rate: 2.0000e-06\n",
      "Epoch 30/100\n",
      "\u001b[1m180/180\u001b[0m \u001b[32m━━━━━━━━━━━━━━━━━━━━\u001b[0m\u001b[37m\u001b[0m \u001b[1m22s\u001b[0m 122ms/step - accuracy: 0.9896 - loss: 0.0311 - val_accuracy: 0.9636 - val_loss: 0.1196 - learning_rate: 2.0000e-06\n",
      "Epoch 31/100\n",
      "\u001b[1m180/180\u001b[0m \u001b[32m━━━━━━━━━━━━━━━━━━━━\u001b[0m\u001b[37m\u001b[0m \u001b[1m22s\u001b[0m 124ms/step - accuracy: 0.9919 - loss: 0.0247 - val_accuracy: 0.9685 - val_loss: 0.1142 - learning_rate: 2.0000e-06\n",
      "Epoch 32/100\n",
      "\u001b[1m180/180\u001b[0m \u001b[32m━━━━━━━━━━━━━━━━━━━━\u001b[0m\u001b[37m\u001b[0m \u001b[1m22s\u001b[0m 122ms/step - accuracy: 0.9893 - loss: 0.0342 - val_accuracy: 0.9695 - val_loss: 0.1146 - learning_rate: 2.0000e-06\n",
      "Epoch 33/100\n",
      "\u001b[1m180/180\u001b[0m \u001b[32m━━━━━━━━━━━━━━━━━━━━\u001b[0m\u001b[37m\u001b[0m \u001b[1m22s\u001b[0m 122ms/step - accuracy: 0.9891 - loss: 0.0304 - val_accuracy: 0.9685 - val_loss: 0.1123 - learning_rate: 2.0000e-06\n",
      "Epoch 34/100\n",
      "\u001b[1m180/180\u001b[0m \u001b[32m━━━━━━━━━━━━━━━━━━━━\u001b[0m\u001b[37m\u001b[0m \u001b[1m22s\u001b[0m 122ms/step - accuracy: 0.9887 - loss: 0.0279 - val_accuracy: 0.9676 - val_loss: 0.1194 - learning_rate: 2.0000e-06\n",
      "Epoch 35/100\n",
      "\u001b[1m180/180\u001b[0m \u001b[32m━━━━━━━━━━━━━━━━━━━━\u001b[0m\u001b[37m\u001b[0m \u001b[1m22s\u001b[0m 122ms/step - accuracy: 0.9856 - loss: 0.0366 - val_accuracy: 0.9656 - val_loss: 0.1169 - learning_rate: 2.0000e-06\n",
      "Epoch 36/100\n",
      "\u001b[1m180/180\u001b[0m \u001b[32m━━━━━━━━━━━━━━━━━━━━\u001b[0m\u001b[37m\u001b[0m \u001b[1m22s\u001b[0m 123ms/step - accuracy: 0.9932 - loss: 0.0303 - val_accuracy: 0.9695 - val_loss: 0.1106 - learning_rate: 2.0000e-06\n",
      "Epoch 37/100\n",
      "\u001b[1m180/180\u001b[0m \u001b[32m━━━━━━━━━━━━━━━━━━━━\u001b[0m\u001b[37m\u001b[0m \u001b[1m22s\u001b[0m 122ms/step - accuracy: 0.9914 - loss: 0.0283 - val_accuracy: 0.9705 - val_loss: 0.1115 - learning_rate: 2.0000e-06\n",
      "Epoch 38/100\n",
      "\u001b[1m180/180\u001b[0m \u001b[32m━━━━━━━━━━━━━━━━━━━━\u001b[0m\u001b[37m\u001b[0m \u001b[1m22s\u001b[0m 122ms/step - accuracy: 0.9908 - loss: 0.0297 - val_accuracy: 0.9695 - val_loss: 0.1124 - learning_rate: 2.0000e-06\n",
      "Epoch 39/100\n",
      "\u001b[1m180/180\u001b[0m \u001b[32m━━━━━━━━━━━━━━━━━━━━\u001b[0m\u001b[37m\u001b[0m \u001b[1m22s\u001b[0m 123ms/step - accuracy: 0.9891 - loss: 0.0293 - val_accuracy: 0.9695 - val_loss: 0.1122 - learning_rate: 2.0000e-06\n",
      "Epoch 40/100\n",
      "\u001b[1m180/180\u001b[0m \u001b[32m━━━━━━━━━━━━━━━━━━━━\u001b[0m\u001b[37m\u001b[0m \u001b[1m0s\u001b[0m 116ms/step - accuracy: 0.9926 - loss: 0.0224\n",
      "Epoch 40: ReduceLROnPlateau reducing learning rate to 3.999999989900971e-07.\n",
      "\u001b[1m180/180\u001b[0m \u001b[32m━━━━━━━━━━━━━━━━━━━━\u001b[0m\u001b[37m\u001b[0m \u001b[1m22s\u001b[0m 122ms/step - accuracy: 0.9926 - loss: 0.0224 - val_accuracy: 0.9666 - val_loss: 0.1158 - learning_rate: 2.0000e-06\n",
      "Epoch 41/100\n",
      "\u001b[1m180/180\u001b[0m \u001b[32m━━━━━━━━━━━━━━━━━━━━\u001b[0m\u001b[37m\u001b[0m \u001b[1m22s\u001b[0m 122ms/step - accuracy: 0.9924 - loss: 0.0254 - val_accuracy: 0.9666 - val_loss: 0.1162 - learning_rate: 4.0000e-07\n",
      "Epoch 42/100\n",
      "\u001b[1m180/180\u001b[0m \u001b[32m━━━━━━━━━━━━━━━━━━━━\u001b[0m\u001b[37m\u001b[0m \u001b[1m22s\u001b[0m 122ms/step - accuracy: 0.9915 - loss: 0.0289 - val_accuracy: 0.9685 - val_loss: 0.1179 - learning_rate: 4.0000e-07\n",
      "Epoch 43/100\n",
      "\u001b[1m180/180\u001b[0m \u001b[32m━━━━━━━━━━━━━━━━━━━━\u001b[0m\u001b[37m\u001b[0m \u001b[1m22s\u001b[0m 122ms/step - accuracy: 0.9897 - loss: 0.0261 - val_accuracy: 0.9666 - val_loss: 0.1143 - learning_rate: 4.0000e-07\n",
      "Epoch 44/100\n",
      "\u001b[1m180/180\u001b[0m \u001b[32m━━━━━━━━━━━━━━━━━━━━\u001b[0m\u001b[37m\u001b[0m \u001b[1m0s\u001b[0m 116ms/step - accuracy: 0.9934 - loss: 0.0231\n",
      "Epoch 44: ReduceLROnPlateau reducing learning rate to 1e-07.\n",
      "\u001b[1m180/180\u001b[0m \u001b[32m━━━━━━━━━━━━━━━━━━━━\u001b[0m\u001b[37m\u001b[0m \u001b[1m22s\u001b[0m 122ms/step - accuracy: 0.9934 - loss: 0.0231 - val_accuracy: 0.9676 - val_loss: 0.1124 - learning_rate: 4.0000e-07\n",
      "Epoch 45/100\n",
      "\u001b[1m180/180\u001b[0m \u001b[32m━━━━━━━━━━━━━━━━━━━━\u001b[0m\u001b[37m\u001b[0m \u001b[1m22s\u001b[0m 123ms/step - accuracy: 0.9946 - loss: 0.0232 - val_accuracy: 0.9676 - val_loss: 0.1156 - learning_rate: 1.0000e-07\n",
      "Epoch 46/100\n",
      "\u001b[1m180/180\u001b[0m \u001b[32m━━━━━━━━━━━━━━━━━━━━\u001b[0m\u001b[37m\u001b[0m \u001b[1m22s\u001b[0m 122ms/step - accuracy: 0.9905 - loss: 0.0303 - val_accuracy: 0.9656 - val_loss: 0.1137 - learning_rate: 1.0000e-07\n",
      "Epoch 46: early stopping\n",
      "Restoring model weights from the end of the best epoch: 36.\n"
     ]
    }
   ],
   "source": [
    "history = model.fit(\n",
    "    train_ds,\n",
    "    epochs=EPOCHS,\n",
    "    validation_data=val_ds,\n",
    "    callbacks=callbacks_list,\n",
    "    class_weight=class_weight_dict\n",
    ")"
   ]
  },
  {
   "cell_type": "code",
   "execution_count": 13,
   "id": "175abdab",
   "metadata": {
    "execution": {
     "iopub.execute_input": "2025-03-30T11:10:03.815614Z",
     "iopub.status.busy": "2025-03-30T11:10:03.815258Z",
     "iopub.status.idle": "2025-03-30T11:10:04.757138Z",
     "shell.execute_reply": "2025-03-30T11:10:04.756350Z"
    },
    "papermill": {
     "duration": 1.377609,
     "end_time": "2025-03-30T11:10:04.758685",
     "exception": false,
     "start_time": "2025-03-30T11:10:03.381076",
     "status": "completed"
    },
    "tags": []
   },
   "outputs": [],
   "source": [
    "model_save_path = '/kaggle/working/efficientnetv2b0_stroke_classifier.keras'\n",
    "model.save(model_save_path)"
   ]
  },
  {
   "cell_type": "code",
   "execution_count": 14,
   "id": "bcfe601b",
   "metadata": {
    "execution": {
     "iopub.execute_input": "2025-03-30T11:10:05.522957Z",
     "iopub.status.busy": "2025-03-30T11:10:05.522432Z",
     "iopub.status.idle": "2025-03-30T11:10:05.871258Z",
     "shell.execute_reply": "2025-03-30T11:10:05.870327Z"
    },
    "papermill": {
     "duration": 0.73315,
     "end_time": "2025-03-30T11:10:05.872576",
     "exception": false,
     "start_time": "2025-03-30T11:10:05.139426",
     "status": "completed"
    },
    "tags": []
   },
   "outputs": [
    {
     "data": {
      "image/png": "[encoded data removed]",
      "text/plain": [
       "<Figure size 800x500 with 1 Axes>"
      ]
     },
     "metadata": {},
     "output_type": "display_data"
    }
   ],
   "source": [
    "history_dict = history.history\n",
    "loss = history_dict['loss']\n",
    "val_loss = history_dict['val_loss']\n",
    "actual_epochs = len(loss)\n",
    "epochs_range = range(actual_epochs)\n",
    "\n",
    "plt.figure(figsize=(8, 5))\n",
    "plt.plot(epochs_range, loss, label='Training Loss')\n",
    "plt.plot(epochs_range, val_loss, label='Validation Loss')\n",
    "best_epoch_idx = np.argmin(val_loss)\n",
    "plt.scatter(best_epoch_idx, val_loss[best_epoch_idx], s=100, c='red', marker='x', label=f'Best val_loss (Epoch {best_epoch_idx+1})')\n",
    "plt.xlabel('Epochs')\n",
    "plt.ylabel('Loss')\n",
    "plt.title('Training and Validation Loss (EfficientNetV2B0)')\n",
    "plt.legend(loc='upper right')\n",
    "plt.grid(True)\n",
    "plt.ylim(bottom=0)\n",
    "plt.show()"
   ]
  },
  {
   "cell_type": "code",
   "execution_count": 15,
   "id": "073a735e",
   "metadata": {
    "execution": {
     "iopub.execute_input": "2025-03-30T11:10:06.687658Z",
     "iopub.status.busy": "2025-03-30T11:10:06.687361Z",
     "iopub.status.idle": "2025-03-30T11:10:19.499916Z",
     "shell.execute_reply": "2025-03-30T11:10:19.499183Z"
    },
    "papermill": {
     "duration": 13.242816,
     "end_time": "2025-03-30T11:10:19.501254",
     "exception": false,
     "start_time": "2025-03-30T11:10:06.258438",
     "status": "completed"
    },
    "tags": []
   },
   "outputs": [
    {
     "name": "stdout",
     "output_type": "stream",
     "text": [
      "\u001b[1m32/32\u001b[0m \u001b[32m━━━━━━━━━━━━━━━━━━━━\u001b[0m\u001b[37m\u001b[0m \u001b[1m13s\u001b[0m 230ms/step\n"
     ]
    }
   ],
   "source": [
    "val_ds_for_predict = create_dataset_val_test(val_df, BATCH_SIZE)\n",
    "y_pred_proba_val = model.predict(val_ds_for_predict)\n",
    "y_true_val = val_df['class'].values\n",
    "\n",
    "if len(y_pred_proba_val) != len(y_true_val):\n",
    "     y_true_val = y_true_val[:len(y_pred_proba_val)]\n",
    "\n",
    "precision, recall, thresholds = precision_recall_curve(y_true_val, y_pred_proba_val)\n",
    "f1_scores = np.array([\n",
    "    2 * (p * r) / (p + r) if (p + r) > 0 else 0\n",
    "    for p, r in zip(precision[:-1], recall[:-1])\n",
    "])\n",
    "valid_thresholds = thresholds[:len(f1_scores)]\n",
    "\n",
    "chosen_threshold = 0.5 # Default threshold\n",
    "best_f1_idx = -1\n",
    "if len(f1_scores) > 0:\n",
    "    best_f1_idx = np.argmax(f1_scores)\n",
    "    best_threshold_f1 = valid_thresholds[best_f1_idx]\n",
    "    best_f1 = f1_scores[best_f1_idx]\n",
    "    best_precision_f1 = precision[best_f1_idx + 1]\n",
    "    best_recall_f1 = recall[best_f1_idx + 1]\n",
    "\n",
    "    target_recall = 0.88\n",
    "    recall_indices = np.where(recall[:-1] >= target_recall)[0]\n",
    "    if len(recall_indices) > 0:\n",
    "        best_f1_for_recall_local_idx = np.argmax(f1_scores[recall_indices])\n",
    "        best_threshold_recall_idx_global = recall_indices[best_f1_for_recall_local_idx]\n",
    "        best_threshold_recall = valid_thresholds[best_threshold_recall_idx_global]\n",
    "        best_precision_recall = precision[best_threshold_recall_idx_global + 1]\n",
    "        actual_recall_recall = recall[best_threshold_recall_idx_global + 1]\n",
    "        f1_recall = f1_scores[best_threshold_recall_idx_global]\n",
    "        chosen_threshold = best_threshold_recall\n",
    "    else:\n",
    "        chosen_threshold = best_threshold_f1\n",
    "else:\n",
    "    chosen_threshold = 0.5"
   ]
  },
  {
   "cell_type": "code",
   "execution_count": 16,
   "id": "ddf1655a",
   "metadata": {
    "execution": {
     "iopub.execute_input": "2025-03-30T11:10:20.278845Z",
     "iopub.status.busy": "2025-03-30T11:10:20.278475Z",
     "iopub.status.idle": "2025-03-30T11:10:20.515081Z",
     "shell.execute_reply": "2025-03-30T11:10:20.514209Z"
    },
    "papermill": {
     "duration": 0.627887,
     "end_time": "2025-03-30T11:10:20.516355",
     "exception": false,
     "start_time": "2025-03-30T11:10:19.888468",
     "status": "completed"
    },
    "tags": []
   },
   "outputs": [
    {
     "data": {
      "image/png": "[encoded data removed]",
      "text/plain": [
       "<Figure size 800x600 with 1 Axes>"
      ]
     },
     "metadata": {},
     "output_type": "display_data"
    }
   ],
   "source": [
    "pr_auc = auc(recall, precision)\n",
    "plt.figure(figsize=(8, 6))\n",
    "plt.plot(recall, precision, marker='.', label=f'PR Curve (AUC = {pr_auc:.2f})')\n",
    "if best_f1_idx != -1 and (best_f1_idx + 1) < len(recall):\n",
    "    plt.scatter(recall[best_f1_idx + 1], precision[best_f1_idx + 1], marker='o', s=100, color='red', label=f'Best F1 Thresh = {best_threshold_f1:.3f}\\n(P={best_precision_f1:.2f}, R={best_recall_f1:.2f}, F1={best_f1:.2f})')\n",
    "if 'best_threshold_recall_idx_global' in locals() and best_f1_idx != -1 and best_threshold_recall_idx_global != best_f1_idx:\n",
    "     plt.scatter(actual_recall_recall, best_precision_recall, marker='x', color='green', s=100, label=f'Target R ({target_recall}) Thresh = {best_threshold_recall:.3f}\\n(P={best_precision_recall:.2f}, R={actual_recall_recall:.2f}, F1={f1_recall:.2f})')\n",
    "plt.xlabel('Recall (Sensitivity)')\n",
    "plt.ylabel('Precision')\n",
    "plt.title('Precision-Recall Curve on Validation Set (EfficientNetV2B0)')\n",
    "plt.legend()\n",
    "plt.grid(True)\n",
    "plt.xlim([0, 1])\n",
    "plt.ylim([0, 1.05])\n",
    "plt.show()"
   ]
  },
  {
   "cell_type": "code",
   "execution_count": 17,
   "id": "163ba4ca",
   "metadata": {
    "execution": {
     "iopub.execute_input": "2025-03-30T11:10:21.345999Z",
     "iopub.status.busy": "2025-03-30T11:10:21.345628Z",
     "iopub.status.idle": "2025-03-30T11:10:21.519395Z",
     "shell.execute_reply": "2025-03-30T11:10:21.518556Z"
    },
    "papermill": {
     "duration": 0.566521,
     "end_time": "2025-03-30T11:10:21.520606",
     "exception": false,
     "start_time": "2025-03-30T11:10:20.954085",
     "status": "completed"
    },
    "tags": []
   },
   "outputs": [
    {
     "name": "stdout",
     "output_type": "stream",
     "text": [
      "               precision    recall  f1-score   support\n",
      "\n",
      "No Stroke (0)       0.97      0.98      0.98       683\n",
      "   Stroke (1)       0.97      0.94      0.95       334\n",
      "\n",
      "     accuracy                           0.97      1017\n",
      "    macro avg       0.97      0.96      0.97      1017\n",
      " weighted avg       0.97      0.97      0.97      1017\n",
      "\n"
     ]
    },
    {
     "data": {
      "image/png": "[encoded data removed]",
      "text/plain": [
       "<Figure size 600x400 with 2 Axes>"
      ]
     },
     "metadata": {},
     "output_type": "display_data"
    }
   ],
   "source": [
    "y_pred_val_adjusted = (y_pred_proba_val.flatten() > chosen_threshold).astype(int)\n",
    "print(classification_report(y_true_val, y_pred_val_adjusted, target_names=['No Stroke (0)', 'Stroke (1)'], zero_division=0)) # Giữ lại report này\n",
    "\n",
    "cm_val_adjusted = confusion_matrix(y_true_val, y_pred_val_adjusted)\n",
    "plt.figure(figsize=(6, 4))\n",
    "sns.heatmap(cm_val_adjusted, annot=True, fmt='d', cmap='Blues',\n",
    "            xticklabels=['No Stroke (0)', 'Stroke (1)'],\n",
    "            yticklabels=['No Stroke (0)', 'Stroke (1)'])\n",
    "plt.title(f'Confusion Matrix (Validation - Threshold {chosen_threshold:.2f})')\n",
    "plt.xlabel('Predicted')\n",
    "plt.ylabel('True')\n",
    "plt.show()"
   ]
  },
  {
   "cell_type": "code",
   "execution_count": 18,
   "id": "6600bce4",
   "metadata": {
    "execution": {
     "iopub.execute_input": "2025-03-30T11:10:22.355354Z",
     "iopub.status.busy": "2025-03-30T11:10:22.355047Z",
     "iopub.status.idle": "2025-03-30T11:10:22.380234Z",
     "shell.execute_reply": "2025-03-30T11:10:22.379589Z"
    },
    "papermill": {
     "duration": 0.466674,
     "end_time": "2025-03-30T11:10:22.381423",
     "exception": false,
     "start_time": "2025-03-30T11:10:21.914749",
     "status": "completed"
    },
    "tags": []
   },
   "outputs": [],
   "source": [
    "test_data_dir = '/kaggle/input/inme-veri-seti-stroke-dataset/İNME VERİ SETİ/YarısmaVeriSeti_1_Oturum/PNG/'\n",
    "cevaplar_path = os.path.join('/kaggle/input/inme-veri-seti-stroke-dataset/İNME VERİ SETİ/YarısmaVeriSeti_1_Oturum/ASAMA1_Cevaplar.txt')\n",
    "\n",
    "png_files = glob.glob(os.path.join(test_data_dir, '*.png'))\n",
    "labels_dict = {}\n",
    "try:\n",
    "    with open(cevaplar_path, 'r', encoding='utf-8') as f:\n",
    "        lines = f.readlines()[1:]\n",
    "        for line in lines:\n",
    "            parts = [part.strip() for part in line.strip().split('\\t')]\n",
    "            if len(parts) == 2 and parts[0] and parts[1] and parts[1] in ['0', '1']:\n",
    "                labels_dict[f\"{parts[0]}.png\"] = int(parts[1])\n",
    "except FileNotFoundError:\n",
    "    pass # Bỏ qua lỗi nếu không tìm thấy tệp\n",
    "except Exception as e:\n",
    "    pass # Bỏ qua các lỗi khác\n",
    "\n",
    "test_images = []\n",
    "test_labels = []\n",
    "for png_file in png_files:\n",
    "    filename = os.path.basename(png_file)\n",
    "    if filename in labels_dict:\n",
    "        test_images.append(png_file)\n",
    "        test_labels.append(labels_dict[filename])\n",
    "\n",
    "test_data = pd.DataFrame({\n",
    "    'filename': test_images,\n",
    "    'class': test_labels\n",
    "})"
   ]
  },
  {
   "cell_type": "code",
   "execution_count": 19,
   "id": "0f9aaa3f",
   "metadata": {
    "execution": {
     "iopub.execute_input": "2025-03-30T11:10:23.212359Z",
     "iopub.status.busy": "2025-03-30T11:10:23.211826Z",
     "iopub.status.idle": "2025-03-30T11:10:28.891829Z",
     "shell.execute_reply": "2025-03-30T11:10:28.890929Z"
    },
    "papermill": {
     "duration": 6.123763,
     "end_time": "2025-03-30T11:10:28.893190",
     "exception": false,
     "start_time": "2025-03-30T11:10:22.769427",
     "status": "completed"
    },
    "tags": []
   },
   "outputs": [
    {
     "name": "stdout",
     "output_type": "stream",
     "text": [
      "\u001b[1m7/7\u001b[0m \u001b[32m━━━━━━━━━━━━━━━━━━━━\u001b[0m\u001b[37m\u001b[0m \u001b[1m5s\u001b[0m 886ms/step\n",
      "               precision    recall  f1-score   support\n",
      "\n",
      "No Stroke (0)     0.9630    1.0000    0.9811       130\n",
      "   Stroke (1)     1.0000    0.9286    0.9630        70\n",
      "\n",
      "     accuracy                         0.9750       200\n",
      "    macro avg     0.9815    0.9643    0.9720       200\n",
      " weighted avg     0.9759    0.9750    0.9748       200\n",
      "\n"
     ]
    },
    {
     "data": {
      "image/png": "[encoded data removed]",
      "text/plain": [
       "<Figure size 600x400 with 2 Axes>"
      ]
     },
     "metadata": {},
     "output_type": "display_data"
    }
   ],
   "source": [
    "if not test_data.empty:\n",
    "    test_ds = create_dataset_val_test(test_data, BATCH_SIZE)\n",
    "    y_pred_proba_test = model.predict(test_ds)\n",
    "    y_true_test = test_data['class'].values\n",
    "\n",
    "    if len(y_pred_proba_test) != len(y_true_test):\n",
    "         y_true_test = y_true_test[:len(y_pred_proba_test)]\n",
    "\n",
    "    y_pred_test = (y_pred_proba_test.flatten() > chosen_threshold).astype(int)\n",
    "\n",
    "    print(classification_report(y_true_test, y_pred_test, target_names=['No Stroke (0)', 'Stroke (1)'], digits = 4)) # Giữ lại report này\n",
    "\n",
    "    cm_test = confusion_matrix(y_true_test, y_pred_test)\n",
    "    plt.figure(figsize=(6, 4))\n",
    "    sns.heatmap(cm_test, annot=True, fmt='d', cmap='Blues',\n",
    "                xticklabels=['No Stroke (0)', 'Stroke (1)'],\n",
    "                yticklabels=['No Stroke (0)', 'Stroke (1)'])\n",
    "    plt.title(f'Confusion Matrix on Test set (Threshold {chosen_threshold:.2f})')\n",
    "    plt.xlabel('Predicted')\n",
    "    plt.ylabel('True')\n",
    "    plt.show()"
   ]
  }
 ],
 "metadata": {
  "kaggle": {
   "accelerator": "nvidiaTeslaT4",
   "dataSources": [
    {
     "datasetId": 6652053,
     "sourceId": 10729545,
     "sourceType": "datasetVersion"
    }
   ],
   "dockerImageVersionId": 30919,
   "isGpuEnabled": true,
   "isInternetEnabled": true,
   "language": "python",
   "sourceType": "notebook"
  },
  "kernelspec": {
   "display_name": "Python 3",
   "language": "python",
   "name": "python3"
  },
  "language_info": {
   "codemirror_mode": {
    "name": "ipython",
    "version": 3
   },
   "file_extension": ".py",
   "mimetype": "text/x-python",
   "name": "python",
   "nbconvert_exporter": "python",
   "pygments_lexer": "ipython3",
   "version": "3.10.12"
  },
  "papermill": {
   "default_parameters": {},
   "duration": 1219.543666,
   "end_time": "2025-03-30T11:10:33.624067",
   "environment_variables": {},
   "exception": null,
   "input_path": "__notebook__.ipynb",
   "output_path": "__notebook__.ipynb",
   "parameters": {},
   "start_time": "2025-03-30T10:50:14.080401",
   "version": "2.6.0"
  }
 },
 "nbformat": 4,
 "nbformat_minor": 5
}
